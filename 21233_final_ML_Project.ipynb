{
  "cells": [
    {
      "cell_type": "markdown",
      "metadata": {
        "id": "view-in-github",
        "colab_type": "text"
      },
      "source": [
        "<a href=\"https://colab.research.google.com/github/jammi-kunal/ML-assignments/blob/main/21233_final_ML_Project.ipynb\" target=\"_parent\"><img src=\"https://colab.research.google.com/assets/colab-badge.svg\" alt=\"Open In Colab\"/></a>"
      ]
    },
    {
      "cell_type": "code",
      "execution_count": 4,
      "metadata": {
        "id": "4e64d82d"
      },
      "outputs": [],
      "source": [
        "import pandas as pd\n",
        "import numpy as np\n",
        "from sklearn.decomposition import PCA\n",
        "import string\n",
        "from sklearn.preprocessing import LabelEncoder as le, OrdinalEncoder as oe, StandardScaler as ss, MinMaxScaler as mms, OneHotEncoder\n",
        "import seaborn as sns\n",
        "import matplotlib.pyplot as plt\n",
        "from sklearn.compose import ColumnTransformer\n",
        "from sklearn.model_selection import train_test_split\n",
        "from sklearn.naive_bayes import GaussianNB, MultinomialNB, BernoulliNB\n",
        "from sklearn.linear_model import LogisticRegression\n",
        "from sklearn import svm\n",
        "from sklearn.tree import DecisionTreeClassifier\n",
        "from sklearn.ensemble import BaggingClassifier, RandomForestClassifier, GradientBoostingClassifier\n",
        "from sklearn.neighbors import KNeighborsClassifier\n",
        "from sklearn.metrics import classification_report, confusion_matrix, accuracy_score, log_loss\n",
        "from sklearn.pipeline import Pipeline\n",
        "from sklearn.model_selection import train_test_split, GridSearchCV, StratifiedKFold, RandomizedSearchCV\n",
        "import matplotlib.pyplot as plt\n",
        "import seaborn as sn\n",
        "from sklearn.metrics import confusion_matrix\n",
        "import xgboost as xgb\n",
        "from xgboost import plot_tree"
      ],
      "id": "4e64d82d"
    },
    {
      "cell_type": "code",
      "execution_count": 5,
      "metadata": {
        "id": "Emk8EIIm_ZyF"
      },
      "outputs": [],
      "source": [
        "path = f'/content/drive/MyDrive/Colab Notebooks/hackathons/AnalyticsOlympiad2022Data/data/'"
      ],
      "id": "Emk8EIIm_ZyF"
    },
    {
      "cell_type": "code",
      "source": [
        "from google.colab import drive\n",
        "drive.mount('/content/drive')"
      ],
      "metadata": {
        "colab": {
          "base_uri": "https://localhost:8080/"
        },
        "id": "NSToW-0RN1iu",
        "outputId": "0ff4e195-1867-4e04-f800-7f3c48d3282d"
      },
      "id": "NSToW-0RN1iu",
      "execution_count": 3,
      "outputs": [
        {
          "output_type": "stream",
          "name": "stdout",
          "text": [
            "Mounted at /content/drive\n"
          ]
        }
      ]
    },
    {
      "cell_type": "code",
      "execution_count": 6,
      "metadata": {
        "id": "f6ed50dd"
      },
      "outputs": [],
      "source": [
        "train = pd.read_csv(path+'train.csv')"
      ],
      "id": "f6ed50dd"
    },
    {
      "cell_type": "code",
      "execution_count": 7,
      "metadata": {
        "colab": {
          "base_uri": "https://localhost:8080/",
          "height": 357
        },
        "id": "89c98672",
        "outputId": "d6af5be0-1da7-4b86-80f3-cfd5bbcc4ce1",
        "scrolled": true
      },
      "outputs": [
        {
          "output_type": "execute_result",
          "data": {
            "text/plain": [
              "       ID    AGE  GENDER DRIVING_EXPERIENCE    EDUCATION         INCOME  \\\n",
              "0  816393  40-64  female             20-29y   university   middle class   \n",
              "1  251762  26-39    male             20-29y  high school   middle class   \n",
              "2  481952  40-64    male             20-29y         none   middle class   \n",
              "3    3506  40-64    male             20-29y  high school    upper class   \n",
              "4  498013  40-64  female             20-29y         none  working class   \n",
              "\n",
              "   CREDIT_SCORE  VEHICLE_OWNERSHIP VEHICLE_YEAR  MARRIED  CHILDREN  \\\n",
              "0      0.638050                0.0   after 2015      0.0       0.0   \n",
              "1      0.475741                1.0  before 2015      1.0       0.0   \n",
              "2      0.839817                1.0  before 2015      1.0       1.0   \n",
              "3      0.682527                1.0  before 2015      0.0       1.0   \n",
              "4      0.572184                1.0   after 2015      1.0       1.0   \n",
              "\n",
              "   POSTAL_CODE  ANNUAL_MILEAGE  SPEEDING_VIOLATIONS  DUIS  PAST_ACCIDENTS  \\\n",
              "0        37379         11000.0                    0     0               0   \n",
              "1        10238          9000.0                    0     0               0   \n",
              "2        10238         12000.0                    0     0               0   \n",
              "3        92099          6000.0                    1     0               0   \n",
              "4        32122         15000.0                    0     0               1   \n",
              "\n",
              "   OUTCOME TYPE_OF_VEHICLE  \n",
              "0      0.0      Sports Car  \n",
              "1      1.0       HatchBack  \n",
              "2      1.0           Sedan  \n",
              "3      1.0           Sedan  \n",
              "4      0.0           Sedan  "
            ],
            "text/html": [
              "\n",
              "  <div id=\"df-474cab7f-a707-4bf8-b819-f1bcba0034cf\">\n",
              "    <div class=\"colab-df-container\">\n",
              "      <div>\n",
              "<style scoped>\n",
              "    .dataframe tbody tr th:only-of-type {\n",
              "        vertical-align: middle;\n",
              "    }\n",
              "\n",
              "    .dataframe tbody tr th {\n",
              "        vertical-align: top;\n",
              "    }\n",
              "\n",
              "    .dataframe thead th {\n",
              "        text-align: right;\n",
              "    }\n",
              "</style>\n",
              "<table border=\"1\" class=\"dataframe\">\n",
              "  <thead>\n",
              "    <tr style=\"text-align: right;\">\n",
              "      <th></th>\n",
              "      <th>ID</th>\n",
              "      <th>AGE</th>\n",
              "      <th>GENDER</th>\n",
              "      <th>DRIVING_EXPERIENCE</th>\n",
              "      <th>EDUCATION</th>\n",
              "      <th>INCOME</th>\n",
              "      <th>CREDIT_SCORE</th>\n",
              "      <th>VEHICLE_OWNERSHIP</th>\n",
              "      <th>VEHICLE_YEAR</th>\n",
              "      <th>MARRIED</th>\n",
              "      <th>CHILDREN</th>\n",
              "      <th>POSTAL_CODE</th>\n",
              "      <th>ANNUAL_MILEAGE</th>\n",
              "      <th>SPEEDING_VIOLATIONS</th>\n",
              "      <th>DUIS</th>\n",
              "      <th>PAST_ACCIDENTS</th>\n",
              "      <th>OUTCOME</th>\n",
              "      <th>TYPE_OF_VEHICLE</th>\n",
              "    </tr>\n",
              "  </thead>\n",
              "  <tbody>\n",
              "    <tr>\n",
              "      <th>0</th>\n",
              "      <td>816393</td>\n",
              "      <td>40-64</td>\n",
              "      <td>female</td>\n",
              "      <td>20-29y</td>\n",
              "      <td>university</td>\n",
              "      <td>middle class</td>\n",
              "      <td>0.638050</td>\n",
              "      <td>0.0</td>\n",
              "      <td>after 2015</td>\n",
              "      <td>0.0</td>\n",
              "      <td>0.0</td>\n",
              "      <td>37379</td>\n",
              "      <td>11000.0</td>\n",
              "      <td>0</td>\n",
              "      <td>0</td>\n",
              "      <td>0</td>\n",
              "      <td>0.0</td>\n",
              "      <td>Sports Car</td>\n",
              "    </tr>\n",
              "    <tr>\n",
              "      <th>1</th>\n",
              "      <td>251762</td>\n",
              "      <td>26-39</td>\n",
              "      <td>male</td>\n",
              "      <td>20-29y</td>\n",
              "      <td>high school</td>\n",
              "      <td>middle class</td>\n",
              "      <td>0.475741</td>\n",
              "      <td>1.0</td>\n",
              "      <td>before 2015</td>\n",
              "      <td>1.0</td>\n",
              "      <td>0.0</td>\n",
              "      <td>10238</td>\n",
              "      <td>9000.0</td>\n",
              "      <td>0</td>\n",
              "      <td>0</td>\n",
              "      <td>0</td>\n",
              "      <td>1.0</td>\n",
              "      <td>HatchBack</td>\n",
              "    </tr>\n",
              "    <tr>\n",
              "      <th>2</th>\n",
              "      <td>481952</td>\n",
              "      <td>40-64</td>\n",
              "      <td>male</td>\n",
              "      <td>20-29y</td>\n",
              "      <td>none</td>\n",
              "      <td>middle class</td>\n",
              "      <td>0.839817</td>\n",
              "      <td>1.0</td>\n",
              "      <td>before 2015</td>\n",
              "      <td>1.0</td>\n",
              "      <td>1.0</td>\n",
              "      <td>10238</td>\n",
              "      <td>12000.0</td>\n",
              "      <td>0</td>\n",
              "      <td>0</td>\n",
              "      <td>0</td>\n",
              "      <td>1.0</td>\n",
              "      <td>Sedan</td>\n",
              "    </tr>\n",
              "    <tr>\n",
              "      <th>3</th>\n",
              "      <td>3506</td>\n",
              "      <td>40-64</td>\n",
              "      <td>male</td>\n",
              "      <td>20-29y</td>\n",
              "      <td>high school</td>\n",
              "      <td>upper class</td>\n",
              "      <td>0.682527</td>\n",
              "      <td>1.0</td>\n",
              "      <td>before 2015</td>\n",
              "      <td>0.0</td>\n",
              "      <td>1.0</td>\n",
              "      <td>92099</td>\n",
              "      <td>6000.0</td>\n",
              "      <td>1</td>\n",
              "      <td>0</td>\n",
              "      <td>0</td>\n",
              "      <td>1.0</td>\n",
              "      <td>Sedan</td>\n",
              "    </tr>\n",
              "    <tr>\n",
              "      <th>4</th>\n",
              "      <td>498013</td>\n",
              "      <td>40-64</td>\n",
              "      <td>female</td>\n",
              "      <td>20-29y</td>\n",
              "      <td>none</td>\n",
              "      <td>working class</td>\n",
              "      <td>0.572184</td>\n",
              "      <td>1.0</td>\n",
              "      <td>after 2015</td>\n",
              "      <td>1.0</td>\n",
              "      <td>1.0</td>\n",
              "      <td>32122</td>\n",
              "      <td>15000.0</td>\n",
              "      <td>0</td>\n",
              "      <td>0</td>\n",
              "      <td>1</td>\n",
              "      <td>0.0</td>\n",
              "      <td>Sedan</td>\n",
              "    </tr>\n",
              "  </tbody>\n",
              "</table>\n",
              "</div>\n",
              "      <button class=\"colab-df-convert\" onclick=\"convertToInteractive('df-474cab7f-a707-4bf8-b819-f1bcba0034cf')\"\n",
              "              title=\"Convert this dataframe to an interactive table.\"\n",
              "              style=\"display:none;\">\n",
              "        \n",
              "  <svg xmlns=\"http://www.w3.org/2000/svg\" height=\"24px\"viewBox=\"0 0 24 24\"\n",
              "       width=\"24px\">\n",
              "    <path d=\"M0 0h24v24H0V0z\" fill=\"none\"/>\n",
              "    <path d=\"M18.56 5.44l.94 2.06.94-2.06 2.06-.94-2.06-.94-.94-2.06-.94 2.06-2.06.94zm-11 1L8.5 8.5l.94-2.06 2.06-.94-2.06-.94L8.5 2.5l-.94 2.06-2.06.94zm10 10l.94 2.06.94-2.06 2.06-.94-2.06-.94-.94-2.06-.94 2.06-2.06.94z\"/><path d=\"M17.41 7.96l-1.37-1.37c-.4-.4-.92-.59-1.43-.59-.52 0-1.04.2-1.43.59L10.3 9.45l-7.72 7.72c-.78.78-.78 2.05 0 2.83L4 21.41c.39.39.9.59 1.41.59.51 0 1.02-.2 1.41-.59l7.78-7.78 2.81-2.81c.8-.78.8-2.07 0-2.86zM5.41 20L4 18.59l7.72-7.72 1.47 1.35L5.41 20z\"/>\n",
              "  </svg>\n",
              "      </button>\n",
              "      \n",
              "  <style>\n",
              "    .colab-df-container {\n",
              "      display:flex;\n",
              "      flex-wrap:wrap;\n",
              "      gap: 12px;\n",
              "    }\n",
              "\n",
              "    .colab-df-convert {\n",
              "      background-color: #E8F0FE;\n",
              "      border: none;\n",
              "      border-radius: 50%;\n",
              "      cursor: pointer;\n",
              "      display: none;\n",
              "      fill: #1967D2;\n",
              "      height: 32px;\n",
              "      padding: 0 0 0 0;\n",
              "      width: 32px;\n",
              "    }\n",
              "\n",
              "    .colab-df-convert:hover {\n",
              "      background-color: #E2EBFA;\n",
              "      box-shadow: 0px 1px 2px rgba(60, 64, 67, 0.3), 0px 1px 3px 1px rgba(60, 64, 67, 0.15);\n",
              "      fill: #174EA6;\n",
              "    }\n",
              "\n",
              "    [theme=dark] .colab-df-convert {\n",
              "      background-color: #3B4455;\n",
              "      fill: #D2E3FC;\n",
              "    }\n",
              "\n",
              "    [theme=dark] .colab-df-convert:hover {\n",
              "      background-color: #434B5C;\n",
              "      box-shadow: 0px 1px 3px 1px rgba(0, 0, 0, 0.15);\n",
              "      filter: drop-shadow(0px 1px 2px rgba(0, 0, 0, 0.3));\n",
              "      fill: #FFFFFF;\n",
              "    }\n",
              "  </style>\n",
              "\n",
              "      <script>\n",
              "        const buttonEl =\n",
              "          document.querySelector('#df-474cab7f-a707-4bf8-b819-f1bcba0034cf button.colab-df-convert');\n",
              "        buttonEl.style.display =\n",
              "          google.colab.kernel.accessAllowed ? 'block' : 'none';\n",
              "\n",
              "        async function convertToInteractive(key) {\n",
              "          const element = document.querySelector('#df-474cab7f-a707-4bf8-b819-f1bcba0034cf');\n",
              "          const dataTable =\n",
              "            await google.colab.kernel.invokeFunction('convertToInteractive',\n",
              "                                                     [key], {});\n",
              "          if (!dataTable) return;\n",
              "\n",
              "          const docLinkHtml = 'Like what you see? Visit the ' +\n",
              "            '<a target=\"_blank\" href=https://colab.research.google.com/notebooks/data_table.ipynb>data table notebook</a>'\n",
              "            + ' to learn more about interactive tables.';\n",
              "          element.innerHTML = '';\n",
              "          dataTable['output_type'] = 'display_data';\n",
              "          await google.colab.output.renderOutput(dataTable, element);\n",
              "          const docLink = document.createElement('div');\n",
              "          docLink.innerHTML = docLinkHtml;\n",
              "          element.appendChild(docLink);\n",
              "        }\n",
              "      </script>\n",
              "    </div>\n",
              "  </div>\n",
              "  "
            ]
          },
          "metadata": {},
          "execution_count": 7
        }
      ],
      "source": [
        "train.head()"
      ],
      "id": "89c98672"
    },
    {
      "cell_type": "code",
      "execution_count": 8,
      "metadata": {
        "colab": {
          "base_uri": "https://localhost:8080/"
        },
        "id": "351e3d21",
        "outputId": "76928467-31db-4ee5-90e1-1cde80bfd2c7"
      },
      "outputs": [
        {
          "output_type": "stream",
          "name": "stdout",
          "text": [
            "<class 'pandas.core.frame.DataFrame'>\n",
            "RangeIndex: 105000 entries, 0 to 104999\n",
            "Data columns (total 18 columns):\n",
            " #   Column               Non-Null Count   Dtype  \n",
            "---  ------               --------------   -----  \n",
            " 0   ID                   105000 non-null  int64  \n",
            " 1   AGE                  105000 non-null  object \n",
            " 2   GENDER               105000 non-null  object \n",
            " 3   DRIVING_EXPERIENCE   105000 non-null  object \n",
            " 4   EDUCATION            105000 non-null  object \n",
            " 5   INCOME               105000 non-null  object \n",
            " 6   CREDIT_SCORE         105000 non-null  float64\n",
            " 7   VEHICLE_OWNERSHIP    105000 non-null  float64\n",
            " 8   VEHICLE_YEAR         105000 non-null  object \n",
            " 9   MARRIED              105000 non-null  float64\n",
            " 10  CHILDREN             105000 non-null  float64\n",
            " 11  POSTAL_CODE          105000 non-null  int64  \n",
            " 12  ANNUAL_MILEAGE       105000 non-null  float64\n",
            " 13  SPEEDING_VIOLATIONS  105000 non-null  int64  \n",
            " 14  DUIS                 105000 non-null  int64  \n",
            " 15  PAST_ACCIDENTS       105000 non-null  int64  \n",
            " 16  OUTCOME              105000 non-null  float64\n",
            " 17  TYPE_OF_VEHICLE      105000 non-null  object \n",
            "dtypes: float64(6), int64(5), object(7)\n",
            "memory usage: 14.4+ MB\n"
          ]
        }
      ],
      "source": [
        "train.info()"
      ],
      "id": "351e3d21"
    },
    {
      "cell_type": "code",
      "execution_count": 9,
      "metadata": {
        "colab": {
          "base_uri": "https://localhost:8080/"
        },
        "id": "2e9cc624",
        "outputId": "4ead2aa6-3385-4645-e1f4-0bb64be51f61"
      },
      "outputs": [
        {
          "output_type": "execute_result",
          "data": {
            "text/plain": [
              "6515"
            ]
          },
          "metadata": {},
          "execution_count": 9
        }
      ],
      "source": [
        "train['ID'].duplicated().sum()"
      ],
      "id": "2e9cc624"
    },
    {
      "cell_type": "code",
      "execution_count": 10,
      "metadata": {
        "id": "ef3701f6"
      },
      "outputs": [],
      "source": [
        "train.columns = [x.lower() for x in list(train.columns)]"
      ],
      "id": "ef3701f6"
    },
    {
      "cell_type": "code",
      "execution_count": 11,
      "metadata": {
        "colab": {
          "base_uri": "https://localhost:8080/"
        },
        "id": "f809f6ac",
        "outputId": "a9505c17-7ca7-4b57-f260-dd96ef61d251"
      },
      "outputs": [
        {
          "output_type": "execute_result",
          "data": {
            "text/plain": [
              "0.0    60622\n",
              "1.0    44378\n",
              "Name: outcome, dtype: int64"
            ]
          },
          "metadata": {},
          "execution_count": 11
        }
      ],
      "source": [
        "train['outcome'].value_counts()"
      ],
      "id": "f809f6ac"
    },
    {
      "cell_type": "code",
      "execution_count": 12,
      "metadata": {
        "colab": {
          "base_uri": "https://localhost:8080/"
        },
        "id": "7365defc",
        "outputId": "24815596-2086-4280-d4f8-27fa3d6dff11"
      },
      "outputs": [
        {
          "output_type": "execute_result",
          "data": {
            "text/plain": [
              "id                     0\n",
              "age                    0\n",
              "gender                 0\n",
              "driving_experience     0\n",
              "education              0\n",
              "income                 0\n",
              "credit_score           0\n",
              "vehicle_ownership      0\n",
              "vehicle_year           0\n",
              "married                0\n",
              "children               0\n",
              "postal_code            0\n",
              "annual_mileage         0\n",
              "speeding_violations    0\n",
              "duis                   0\n",
              "past_accidents         0\n",
              "outcome                0\n",
              "type_of_vehicle        0\n",
              "dtype: int64"
            ]
          },
          "metadata": {},
          "execution_count": 12
        }
      ],
      "source": [
        "train.isnull().sum()"
      ],
      "id": "7365defc"
    },
    {
      "cell_type": "code",
      "execution_count": 13,
      "metadata": {
        "colab": {
          "base_uri": "https://localhost:8080/"
        },
        "id": "aa7beb52",
        "outputId": "75b2e163-cbc8-4d84-c87b-91fdcce18429"
      },
      "outputs": [
        {
          "output_type": "execute_result",
          "data": {
            "text/plain": [
              "0"
            ]
          },
          "metadata": {},
          "execution_count": 13
        }
      ],
      "source": [
        "train.duplicated().sum()"
      ],
      "id": "aa7beb52"
    },
    {
      "cell_type": "markdown",
      "metadata": {
        "id": "5bf03960"
      },
      "source": [
        "#### Numerical columns:\n",
        "- id\n",
        "- credit_score\n",
        "- vehicle_ownership\n",
        "- married\n",
        "- children\n",
        "- postal_code\n",
        "- annual_mileage\n",
        "- speeding_violations\n",
        "- duis\n",
        "- past_accidents\n",
        "- outcome\n",
        "\n",
        "#### Categorical columns:\n",
        "- age\n",
        "- gender\n",
        "- driving_experience\n",
        "- education\n",
        "- income\n",
        "- vehicle_year\n",
        "- type_of_vehicle"
      ],
      "id": "5bf03960"
    },
    {
      "cell_type": "markdown",
      "metadata": {
        "id": "8702f92e"
      },
      "source": [
        "### No duplicates and Null values"
      ],
      "id": "8702f92e"
    },
    {
      "cell_type": "code",
      "execution_count": 14,
      "metadata": {
        "id": "29653a75"
      },
      "outputs": [],
      "source": [
        "def check_value_cnts(var):\n",
        "    print('------------------------------------------------------------------------')\n",
        "    print(train[var].value_counts())"
      ],
      "id": "29653a75"
    },
    {
      "cell_type": "code",
      "execution_count": 15,
      "metadata": {
        "id": "2e9bec8a"
      },
      "outputs": [],
      "source": [
        "nums = list(train.select_dtypes(include='number').columns)\n",
        "cats = list(train.select_dtypes(include='object').columns)"
      ],
      "id": "2e9bec8a"
    },
    {
      "cell_type": "code",
      "execution_count": 16,
      "metadata": {
        "colab": {
          "base_uri": "https://localhost:8080/"
        },
        "id": "f229ea79",
        "outputId": "0299ec2a-2daf-42fa-eb84-6487da6331f6"
      },
      "outputs": [
        {
          "output_type": "stream",
          "name": "stdout",
          "text": [
            "------------------------------------------------------------------------\n",
            "40-64    33716\n",
            "65+      32962\n",
            "26-39    20018\n",
            "16-25    18304\n",
            "Name: age, dtype: int64\n",
            "------------------------------------------------------------------------\n",
            "male      65317\n",
            "female    39683\n",
            "Name: gender, dtype: int64\n",
            "------------------------------------------------------------------------\n",
            "20-29y    37493\n",
            "0-9y      33111\n",
            "10-19y    25101\n",
            "30y+       9295\n",
            "Name: driving_experience, dtype: int64\n",
            "------------------------------------------------------------------------\n",
            "high school    46590\n",
            "university     31220\n",
            "none           27190\n",
            "Name: education, dtype: int64\n",
            "------------------------------------------------------------------------\n",
            "upper class      51271\n",
            "working class    24454\n",
            "middle class     14738\n",
            "poverty          14537\n",
            "Name: income, dtype: int64\n",
            "------------------------------------------------------------------------\n",
            "before 2015    57511\n",
            "after 2015     47489\n",
            "Name: vehicle_year, dtype: int64\n",
            "------------------------------------------------------------------------\n",
            "Sports Car    34592\n",
            "Sedan         28120\n",
            "HatchBack     24900\n",
            "SUV           17388\n",
            "Name: type_of_vehicle, dtype: int64\n"
          ]
        },
        {
          "output_type": "execute_result",
          "data": {
            "text/plain": [
              "[None, None, None, None, None, None, None]"
            ]
          },
          "metadata": {},
          "execution_count": 16
        }
      ],
      "source": [
        "list(map(check_value_cnts, cats))"
      ],
      "id": "f229ea79"
    },
    {
      "cell_type": "markdown",
      "metadata": {
        "id": "5dc96724"
      },
      "source": [
        "### Feature transformation and encoding"
      ],
      "id": "5dc96724"
    },
    {
      "cell_type": "markdown",
      "metadata": {
        "id": "d0f7f1f9"
      },
      "source": [
        "#### Features to be Label Encoded(Nominal):\n",
        "- gender\n",
        "- type_of_vehicle\n",
        "- vehicle_year\n",
        "\n",
        "#### Features to be Ordinal Encoded(Ordinal):\n",
        "- age\n",
        "- driving_experience\n",
        "- education\n",
        "- income"
      ],
      "id": "d0f7f1f9"
    },
    {
      "cell_type": "code",
      "execution_count": 17,
      "metadata": {
        "id": "c4e80586"
      },
      "outputs": [],
      "source": [
        "y = train['outcome']\n",
        "X = train.drop('outcome', axis = 1)"
      ],
      "id": "c4e80586"
    },
    {
      "cell_type": "code",
      "execution_count": 18,
      "metadata": {
        "id": "18c64304"
      },
      "outputs": [],
      "source": [
        "X.drop(['id', 'postal_code'], axis = 1, inplace = True)"
      ],
      "id": "18c64304"
    },
    {
      "cell_type": "code",
      "execution_count": 19,
      "metadata": {
        "id": "8b76bcb4"
      },
      "outputs": [],
      "source": [
        "nums = X.select_dtypes(include='number').columns\n",
        "ohei = ['gender','type_of_vehicle', 'vehicle_year']\n",
        "ordi = ['age','driving_experience','education','income']"
      ],
      "id": "8b76bcb4"
    },
    {
      "cell_type": "code",
      "execution_count": 20,
      "metadata": {
        "id": "bbf5ac55"
      },
      "outputs": [],
      "source": [
        "agec = ['16-25','26-39','40-64','65+']\n",
        "dexp = ['0-9y','10-19y','20-29y','30y+']\n",
        "educ = ['none','high school','university']\n",
        "inco = ['poverty','working class','middle class','upper class']"
      ],
      "id": "bbf5ac55"
    },
    {
      "cell_type": "code",
      "execution_count": 21,
      "metadata": {
        "id": "22af1e44"
      },
      "outputs": [],
      "source": [
        "cat_pipeline = Pipeline(\n",
        "    steps=[\n",
        "        (\"ohe\", OneHotEncoder(handle_unknown=\"ignore\", sparse=False))\n",
        "    ]\n",
        ")\n",
        "\n",
        "ord_pipeline = Pipeline(\n",
        "    steps=[\n",
        "        (\"ord\", oe(categories = [agec, dexp, educ, inco])),\n",
        "        (\"scaler\", ss())\n",
        "    ]\n",
        ")\n",
        "\n",
        "num_pipeline = Pipeline(\n",
        "    steps=[\n",
        "        (\"scaler\", ss())\n",
        "    ]\n",
        ")"
      ],
      "id": "22af1e44"
    },
    {
      "cell_type": "code",
      "execution_count": 22,
      "metadata": {
        "id": "3c5443a3"
      },
      "outputs": [],
      "source": [
        "transform = ColumnTransformer(\n",
        "    transformers=[\n",
        "        (\"nums\", num_pipeline, nums),\n",
        "        (\"cats\", cat_pipeline, ohei),\n",
        "        (\"ords\", ord_pipeline, ordi)\n",
        "    ]\n",
        ")"
      ],
      "id": "3c5443a3"
    },
    {
      "cell_type": "code",
      "execution_count": 23,
      "metadata": {
        "id": "5aa9ebaa"
      },
      "outputs": [],
      "source": [
        "X1 = transform.fit_transform(X)"
      ],
      "id": "5aa9ebaa"
    },
    {
      "cell_type": "code",
      "execution_count": 24,
      "metadata": {
        "colab": {
          "base_uri": "https://localhost:8080/"
        },
        "id": "3a1dfc7e",
        "outputId": "4be33306-a0a2-4d0f-fa9f-a879b05b2a91"
      },
      "outputs": [
        {
          "output_type": "execute_result",
          "data": {
            "text/plain": [
              "[('nums',\n",
              "  Pipeline(steps=[('scaler', StandardScaler())]),\n",
              "  Index(['credit_score', 'vehicle_ownership', 'married', 'children',\n",
              "         'annual_mileage', 'speeding_violations', 'duis', 'past_accidents'],\n",
              "        dtype='object')),\n",
              " ('cats',\n",
              "  Pipeline(steps=[('ohe', OneHotEncoder(handle_unknown='ignore', sparse=False))]),\n",
              "  ['gender', 'type_of_vehicle', 'vehicle_year']),\n",
              " ('ords', Pipeline(steps=[('ord',\n",
              "                   OrdinalEncoder(categories=[['16-25', '26-39', '40-64', '65+'],\n",
              "                                              ['0-9y', '10-19y', '20-29y',\n",
              "                                               '30y+'],\n",
              "                                              ['none', 'high school',\n",
              "                                               'university'],\n",
              "                                              ['poverty', 'working class',\n",
              "                                               'middle class', 'upper class']])),\n",
              "                  ('scaler', StandardScaler())]), ['age',\n",
              "   'driving_experience',\n",
              "   'education',\n",
              "   'income'])]"
            ]
          },
          "metadata": {},
          "execution_count": 24
        }
      ],
      "source": [
        "transform.transformers_"
      ],
      "id": "3a1dfc7e"
    },
    {
      "cell_type": "code",
      "execution_count": 25,
      "metadata": {
        "colab": {
          "base_uri": "https://localhost:8080/"
        },
        "id": "33be90e9",
        "outputId": "04afacb0-ff35-47cb-fe44-7e31ace34dea"
      },
      "outputs": [
        {
          "output_type": "execute_result",
          "data": {
            "text/plain": [
              "0"
            ]
          },
          "metadata": {},
          "execution_count": 25
        }
      ],
      "source": [
        "X.duplicated().sum()"
      ],
      "id": "33be90e9"
    },
    {
      "cell_type": "code",
      "execution_count": 26,
      "metadata": {
        "colab": {
          "base_uri": "https://localhost:8080/"
        },
        "id": "ec9493c8",
        "outputId": "0b53d50f-43ed-4a77-deb1-83cdfb3effde",
        "scrolled": false
      },
      "outputs": [
        {
          "output_type": "execute_result",
          "data": {
            "text/plain": [
              "0.0    0.577352\n",
              "1.0    0.422648\n",
              "Name: outcome, dtype: float64"
            ]
          },
          "metadata": {},
          "execution_count": 26
        }
      ],
      "source": [
        "y.value_counts()/len(y)"
      ],
      "id": "ec9493c8"
    },
    {
      "cell_type": "markdown",
      "metadata": {
        "id": "8713671f"
      },
      "source": [
        "***"
      ],
      "id": "8713671f"
    },
    {
      "cell_type": "code",
      "execution_count": 27,
      "metadata": {
        "id": "828a2c78"
      },
      "outputs": [],
      "source": [
        "col_names = list(nums)+['female',\n",
        "                        'male',\n",
        "                        'vehicle_hatchback',\n",
        "                        'vehicle_suv',\n",
        "                        'vehicle_sedan',\n",
        "                        'vehicle_sports_car',\n",
        "                        'vehicle_year_after_2015',\n",
        "                        'vehicle_year_before_2015']+ordi"
      ],
      "id": "828a2c78"
    },
    {
      "cell_type": "code",
      "execution_count": 28,
      "metadata": {
        "id": "540b25e3"
      },
      "outputs": [],
      "source": [
        "X1 = pd.DataFrame(X1, columns = col_names)"
      ],
      "id": "540b25e3"
    },
    {
      "cell_type": "markdown",
      "metadata": {
        "id": "6653bf03"
      },
      "source": [
        "## Data Visualization"
      ],
      "id": "6653bf03"
    },
    {
      "cell_type": "code",
      "execution_count": 29,
      "metadata": {
        "colab": {
          "base_uri": "https://localhost:8080/",
          "height": 716
        },
        "id": "3bea528a",
        "outputId": "a1e89e38-78b8-4692-822e-bb95d85b8daa"
      },
      "outputs": [
        {
          "output_type": "display_data",
          "data": {
            "text/plain": [
              "<Figure size 1440x720 with 2 Axes>"
            ],
            "image/png": "[encoded data removed]"
          },
          "metadata": {
            "needs_background": "light"
          }
        }
      ],
      "source": [
        "# heatmap\n",
        "plt.figure(figsize = (20,10))\n",
        "sns.heatmap(X1.corr(), cmap = 'Blues', annot = True, fmt = '.1%')\n",
        "plt.show()"
      ],
      "id": "3bea528a"
    },
    {
      "cell_type": "markdown",
      "metadata": {
        "id": "1d53f216"
      },
      "source": [
        "### Inference\n",
        "- No correlation among the features"
      ],
      "id": "1d53f216"
    },
    {
      "cell_type": "code",
      "source": [
        "sns.histplot(x = X['credit_score'], kde = True)"
      ],
      "metadata": {
        "colab": {
          "base_uri": "https://localhost:8080/",
          "height": 297
        },
        "id": "GNnCd280gUqK",
        "outputId": "704e6a36-5d92-478d-c115-66585ee98160"
      },
      "id": "GNnCd280gUqK",
      "execution_count": 30,
      "outputs": [
        {
          "output_type": "execute_result",
          "data": {
            "text/plain": [
              "<matplotlib.axes._subplots.AxesSubplot at 0x7fd60d5500d0>"
            ]
          },
          "metadata": {},
          "execution_count": 30
        },
        {
          "output_type": "display_data",
          "data": {
            "text/plain": [
              "<Figure size 432x288 with 1 Axes>"
            ],
            "image/png": "[encoded data removed]"
          },
          "metadata": {
            "needs_background": "light"
          }
        }
      ]
    },
    {
      "cell_type": "code",
      "source": [
        "sns.jointplot(data = X, x = 'credit_score', y = 'age')\n",
        "plt.show()"
      ],
      "metadata": {
        "colab": {
          "base_uri": "https://localhost:8080/",
          "height": 441
        },
        "id": "C__O76cBhH6L",
        "outputId": "8490d980-133d-4e58-be3e-d85fd3ba6738"
      },
      "id": "C__O76cBhH6L",
      "execution_count": 31,
      "outputs": [
        {
          "output_type": "display_data",
          "data": {
            "text/plain": [
              "<Figure size 432x432 with 3 Axes>"
            ],
            "image/png": "[encoded data removed]"
          },
          "metadata": {
            "needs_background": "light"
          }
        }
      ]
    },
    {
      "cell_type": "code",
      "source": [
        "sns.jointplot(data = X, x= 'duis',y= 'credit_score')"
      ],
      "metadata": {
        "colab": {
          "base_uri": "https://localhost:8080/",
          "height": 458
        },
        "id": "opLDmcIPhJkH",
        "outputId": "705be4bd-6972-467f-e67d-c71a976ca6d2"
      },
      "id": "opLDmcIPhJkH",
      "execution_count": 32,
      "outputs": [
        {
          "output_type": "execute_result",
          "data": {
            "text/plain": [
              "<seaborn.axisgrid.JointGrid at 0x7fd60d524b10>"
            ]
          },
          "metadata": {},
          "execution_count": 32
        },
        {
          "output_type": "display_data",
          "data": {
            "text/plain": [
              "<Figure size 432x432 with 3 Axes>"
            ],
            "image/png": "[encoded data removed]"
          },
          "metadata": {
            "needs_background": "light"
          }
        }
      ]
    },
    {
      "cell_type": "code",
      "source": [
        "sns.boxplot(data= X, x = 'duis', y = 'income')"
      ],
      "metadata": {
        "colab": {
          "base_uri": "https://localhost:8080/",
          "height": 296
        },
        "id": "h6W-2hHYhLQ-",
        "outputId": "91e4a604-b452-4d11-c9a1-a0e4325ef037"
      },
      "id": "h6W-2hHYhLQ-",
      "execution_count": 33,
      "outputs": [
        {
          "output_type": "execute_result",
          "data": {
            "text/plain": [
              "<matplotlib.axes._subplots.AxesSubplot at 0x7fd60da61850>"
            ]
          },
          "metadata": {},
          "execution_count": 33
        },
        {
          "output_type": "display_data",
          "data": {
            "text/plain": [
              "<Figure size 432x288 with 1 Axes>"
            ],
            "image/png": "[encoded data removed]"
          },
          "metadata": {
            "needs_background": "light"
          }
        }
      ]
    },
    {
      "cell_type": "code",
      "source": [
        "sns.boxplot(data = X, x = 'credit_score', y = 'age')"
      ],
      "metadata": {
        "colab": {
          "base_uri": "https://localhost:8080/",
          "height": 297
        },
        "id": "P1r2dqUjhNJT",
        "outputId": "6e0195a1-0ff4-48c4-8a18-fc2a65e0b926"
      },
      "id": "P1r2dqUjhNJT",
      "execution_count": 34,
      "outputs": [
        {
          "output_type": "execute_result",
          "data": {
            "text/plain": [
              "<matplotlib.axes._subplots.AxesSubplot at 0x7fd60b9a7590>"
            ]
          },
          "metadata": {},
          "execution_count": 34
        },
        {
          "output_type": "display_data",
          "data": {
            "text/plain": [
              "<Figure size 432x288 with 1 Axes>"
            ],
            "image/png": "[encoded data removed]"
          },
          "metadata": {
            "needs_background": "light"
          }
        }
      ]
    },
    {
      "cell_type": "code",
      "source": [
        "age_cs = pd.pivot_table(data= X, values = ['credit_score'], columns = 'age',aggfunc = np.sum)"
      ],
      "metadata": {
        "id": "4uZCOtKFhPIx"
      },
      "id": "4uZCOtKFhPIx",
      "execution_count": 35,
      "outputs": []
    },
    {
      "cell_type": "code",
      "source": [
        "sns.barplot(x = age_cs.columns, y = age_cs.values[0])"
      ],
      "metadata": {
        "colab": {
          "base_uri": "https://localhost:8080/",
          "height": 296
        },
        "id": "h_ykgvqkhQZH",
        "outputId": "325c2b59-12c2-46b8-ae14-31b9713558f1"
      },
      "id": "h_ykgvqkhQZH",
      "execution_count": 36,
      "outputs": [
        {
          "output_type": "execute_result",
          "data": {
            "text/plain": [
              "<matplotlib.axes._subplots.AxesSubplot at 0x7fd60b99ba50>"
            ]
          },
          "metadata": {},
          "execution_count": 36
        },
        {
          "output_type": "display_data",
          "data": {
            "text/plain": [
              "<Figure size 432x288 with 1 Axes>"
            ],
            "image/png": "[encoded data removed]"
          },
          "metadata": {
            "needs_background": "light"
          }
        }
      ]
    },
    {
      "cell_type": "code",
      "source": [
        "pd.pivot_table(data= X, columns = ['married', 'education'], values = ['credit_score', 'duis'], aggfunc= np.sum)"
      ],
      "metadata": {
        "colab": {
          "base_uri": "https://localhost:8080/",
          "height": 143
        },
        "id": "syJhN7DJhRat",
        "outputId": "3946cddf-67a1-4404-a8d0-2e3eb58706ee"
      },
      "id": "syJhN7DJhRat",
      "execution_count": 37,
      "outputs": [
        {
          "output_type": "execute_result",
          "data": {
            "text/plain": [
              "married                0.0                                    1.0  \\\n",
              "education      high school         none   university  high school   \n",
              "credit_score  11640.608255  6744.795855  7908.619071  16464.06021   \n",
              "duis           2437.000000  1430.000000  1737.000000   3537.00000   \n",
              "\n",
              "married                                  \n",
              "education            none    university  \n",
              "credit_score  9540.519563  10929.535456  \n",
              "duis          2005.000000   2476.000000  "
            ],
            "text/html": [
              "\n",
              "  <div id=\"df-9bd93a97-623d-4bdc-a108-2e4735723653\">\n",
              "    <div class=\"colab-df-container\">\n",
              "      <div>\n",
              "<style scoped>\n",
              "    .dataframe tbody tr th:only-of-type {\n",
              "        vertical-align: middle;\n",
              "    }\n",
              "\n",
              "    .dataframe tbody tr th {\n",
              "        vertical-align: top;\n",
              "    }\n",
              "\n",
              "    .dataframe thead tr th {\n",
              "        text-align: left;\n",
              "    }\n",
              "</style>\n",
              "<table border=\"1\" class=\"dataframe\">\n",
              "  <thead>\n",
              "    <tr>\n",
              "      <th>married</th>\n",
              "      <th colspan=\"3\" halign=\"left\">0.0</th>\n",
              "      <th colspan=\"3\" halign=\"left\">1.0</th>\n",
              "    </tr>\n",
              "    <tr>\n",
              "      <th>education</th>\n",
              "      <th>high school</th>\n",
              "      <th>none</th>\n",
              "      <th>university</th>\n",
              "      <th>high school</th>\n",
              "      <th>none</th>\n",
              "      <th>university</th>\n",
              "    </tr>\n",
              "  </thead>\n",
              "  <tbody>\n",
              "    <tr>\n",
              "      <th>credit_score</th>\n",
              "      <td>11640.608255</td>\n",
              "      <td>6744.795855</td>\n",
              "      <td>7908.619071</td>\n",
              "      <td>16464.06021</td>\n",
              "      <td>9540.519563</td>\n",
              "      <td>10929.535456</td>\n",
              "    </tr>\n",
              "    <tr>\n",
              "      <th>duis</th>\n",
              "      <td>2437.000000</td>\n",
              "      <td>1430.000000</td>\n",
              "      <td>1737.000000</td>\n",
              "      <td>3537.00000</td>\n",
              "      <td>2005.000000</td>\n",
              "      <td>2476.000000</td>\n",
              "    </tr>\n",
              "  </tbody>\n",
              "</table>\n",
              "</div>\n",
              "      <button class=\"colab-df-convert\" onclick=\"convertToInteractive('df-9bd93a97-623d-4bdc-a108-2e4735723653')\"\n",
              "              title=\"Convert this dataframe to an interactive table.\"\n",
              "              style=\"display:none;\">\n",
              "        \n",
              "  <svg xmlns=\"http://www.w3.org/2000/svg\" height=\"24px\"viewBox=\"0 0 24 24\"\n",
              "       width=\"24px\">\n",
              "    <path d=\"M0 0h24v24H0V0z\" fill=\"none\"/>\n",
              "    <path d=\"M18.56 5.44l.94 2.06.94-2.06 2.06-.94-2.06-.94-.94-2.06-.94 2.06-2.06.94zm-11 1L8.5 8.5l.94-2.06 2.06-.94-2.06-.94L8.5 2.5l-.94 2.06-2.06.94zm10 10l.94 2.06.94-2.06 2.06-.94-2.06-.94-.94-2.06-.94 2.06-2.06.94z\"/><path d=\"M17.41 7.96l-1.37-1.37c-.4-.4-.92-.59-1.43-.59-.52 0-1.04.2-1.43.59L10.3 9.45l-7.72 7.72c-.78.78-.78 2.05 0 2.83L4 21.41c.39.39.9.59 1.41.59.51 0 1.02-.2 1.41-.59l7.78-7.78 2.81-2.81c.8-.78.8-2.07 0-2.86zM5.41 20L4 18.59l7.72-7.72 1.47 1.35L5.41 20z\"/>\n",
              "  </svg>\n",
              "      </button>\n",
              "      \n",
              "  <style>\n",
              "    .colab-df-container {\n",
              "      display:flex;\n",
              "      flex-wrap:wrap;\n",
              "      gap: 12px;\n",
              "    }\n",
              "\n",
              "    .colab-df-convert {\n",
              "      background-color: #E8F0FE;\n",
              "      border: none;\n",
              "      border-radius: 50%;\n",
              "      cursor: pointer;\n",
              "      display: none;\n",
              "      fill: #1967D2;\n",
              "      height: 32px;\n",
              "      padding: 0 0 0 0;\n",
              "      width: 32px;\n",
              "    }\n",
              "\n",
              "    .colab-df-convert:hover {\n",
              "      background-color: #E2EBFA;\n",
              "      box-shadow: 0px 1px 2px rgba(60, 64, 67, 0.3), 0px 1px 3px 1px rgba(60, 64, 67, 0.15);\n",
              "      fill: #174EA6;\n",
              "    }\n",
              "\n",
              "    [theme=dark] .colab-df-convert {\n",
              "      background-color: #3B4455;\n",
              "      fill: #D2E3FC;\n",
              "    }\n",
              "\n",
              "    [theme=dark] .colab-df-convert:hover {\n",
              "      background-color: #434B5C;\n",
              "      box-shadow: 0px 1px 3px 1px rgba(0, 0, 0, 0.15);\n",
              "      filter: drop-shadow(0px 1px 2px rgba(0, 0, 0, 0.3));\n",
              "      fill: #FFFFFF;\n",
              "    }\n",
              "  </style>\n",
              "\n",
              "      <script>\n",
              "        const buttonEl =\n",
              "          document.querySelector('#df-9bd93a97-623d-4bdc-a108-2e4735723653 button.colab-df-convert');\n",
              "        buttonEl.style.display =\n",
              "          google.colab.kernel.accessAllowed ? 'block' : 'none';\n",
              "\n",
              "        async function convertToInteractive(key) {\n",
              "          const element = document.querySelector('#df-9bd93a97-623d-4bdc-a108-2e4735723653');\n",
              "          const dataTable =\n",
              "            await google.colab.kernel.invokeFunction('convertToInteractive',\n",
              "                                                     [key], {});\n",
              "          if (!dataTable) return;\n",
              "\n",
              "          const docLinkHtml = 'Like what you see? Visit the ' +\n",
              "            '<a target=\"_blank\" href=https://colab.research.google.com/notebooks/data_table.ipynb>data table notebook</a>'\n",
              "            + ' to learn more about interactive tables.';\n",
              "          element.innerHTML = '';\n",
              "          dataTable['output_type'] = 'display_data';\n",
              "          await google.colab.output.renderOutput(dataTable, element);\n",
              "          const docLink = document.createElement('div');\n",
              "          docLink.innerHTML = docLinkHtml;\n",
              "          element.appendChild(docLink);\n",
              "        }\n",
              "      </script>\n",
              "    </div>\n",
              "  </div>\n",
              "  "
            ]
          },
          "metadata": {},
          "execution_count": 37
        }
      ]
    },
    {
      "cell_type": "code",
      "source": [
        "sns.catplot(data = X, x = 'education', y = 'income', hue = 'gender')"
      ],
      "metadata": {
        "colab": {
          "base_uri": "https://localhost:8080/",
          "height": 386
        },
        "id": "xaGg9QsjhTRm",
        "outputId": "fbba0f5f-d8cc-4f8e-daf4-74ff3712f24f"
      },
      "id": "xaGg9QsjhTRm",
      "execution_count": 38,
      "outputs": [
        {
          "output_type": "execute_result",
          "data": {
            "text/plain": [
              "<seaborn.axisgrid.FacetGrid at 0x7fd60b947690>"
            ]
          },
          "metadata": {},
          "execution_count": 38
        },
        {
          "output_type": "display_data",
          "data": {
            "text/plain": [
              "<Figure size 430.5x360 with 1 Axes>"
            ],
            "image/png": "[encoded data removed]"
          },
          "metadata": {
            "needs_background": "light"
          }
        }
      ]
    },
    {
      "cell_type": "code",
      "source": [
        "sns.barplot(data = X, y = 'driving_experience', x = 'annual_mileage', hue = 'gender', saturation = .8)"
      ],
      "metadata": {
        "colab": {
          "base_uri": "https://localhost:8080/",
          "height": 297
        },
        "id": "o4keltTihUbe",
        "outputId": "5ac799b4-652f-40f0-b06c-c652b249f9e2"
      },
      "id": "o4keltTihUbe",
      "execution_count": 39,
      "outputs": [
        {
          "output_type": "execute_result",
          "data": {
            "text/plain": [
              "<matplotlib.axes._subplots.AxesSubplot at 0x7fd60b829850>"
            ]
          },
          "metadata": {},
          "execution_count": 39
        },
        {
          "output_type": "display_data",
          "data": {
            "text/plain": [
              "<Figure size 432x288 with 1 Axes>"
            ],
            "image/png": "[encoded data removed]"
          },
          "metadata": {
            "needs_background": "light"
          }
        }
      ]
    },
    {
      "cell_type": "code",
      "source": [
        "pd.pivot_table(data = X, index = ['vehicle_ownership', 'vehicle_year', 'income'])"
      ],
      "metadata": {
        "colab": {
          "base_uri": "https://localhost:8080/",
          "height": 582
        },
        "id": "fRZPqOFKhVlt",
        "outputId": "8df086ba-dccf-44cd-f35a-916f8d91e14e"
      },
      "id": "fRZPqOFKhVlt",
      "execution_count": 40,
      "outputs": [
        {
          "output_type": "execute_result",
          "data": {
            "text/plain": [
              "                                              annual_mileage  children  \\\n",
              "vehicle_ownership vehicle_year income                                    \n",
              "0.0               after 2015   middle class     11115.826702  0.517241   \n",
              "                               poverty          10912.888889  0.522667   \n",
              "                               upper class      11022.037218  0.504652   \n",
              "                               working class    11155.046826  0.509886   \n",
              "                  before 2015  middle class     10926.510989  0.545330   \n",
              "                               poverty          11018.315018  0.516484   \n",
              "                               upper class      11028.994577  0.508552   \n",
              "                               working class    11036.339755  0.517513   \n",
              "1.0               after 2015   middle class     11035.754399  0.532946   \n",
              "                               poverty          11122.730574  0.525781   \n",
              "                               upper class      11080.646002  0.514301   \n",
              "                               working class    11109.017643  0.528752   \n",
              "                  before 2015  middle class     11002.349831  0.528271   \n",
              "                               poverty          11077.687720  0.518428   \n",
              "                               upper class      11036.296232  0.516510   \n",
              "                               working class    11098.138442  0.526658   \n",
              "\n",
              "                                              credit_score      duis  \\\n",
              "vehicle_ownership vehicle_year income                                  \n",
              "0.0               after 2015   middle class       0.601110  0.126437   \n",
              "                               poverty            0.609386  0.149333   \n",
              "                               upper class        0.600985  0.114838   \n",
              "                               working class      0.606341  0.118106   \n",
              "                  before 2015  middle class       0.604773  0.121566   \n",
              "                               poverty            0.599626  0.115751   \n",
              "                               upper class        0.599713  0.139132   \n",
              "                               working class      0.591726  0.121716   \n",
              "1.0               after 2015   middle class       0.604841  0.137589   \n",
              "                               poverty            0.600375  0.123094   \n",
              "                               upper class        0.602959  0.134618   \n",
              "                               working class      0.607867  0.142888   \n",
              "                  before 2015  middle class       0.601589  0.134968   \n",
              "                               poverty            0.599847  0.124790   \n",
              "                               upper class        0.600371  0.122295   \n",
              "                               working class      0.603484  0.131393   \n",
              "\n",
              "                                               married  past_accidents  \\\n",
              "vehicle_ownership vehicle_year income                                    \n",
              "0.0               after 2015   middle class   0.577365        0.557913   \n",
              "                               poverty        0.599111        0.611556   \n",
              "                               upper class    0.584476        0.527424   \n",
              "                               working class  0.595734        0.518210   \n",
              "                  before 2015  middle class   0.592033        0.549451   \n",
              "                               poverty        0.604396        0.504029   \n",
              "                               upper class    0.591364        0.557363   \n",
              "                               working class  0.581436        0.553853   \n",
              "1.0               after 2015   middle class   0.586672        0.535193   \n",
              "                               poverty        0.585512        0.585512   \n",
              "                               upper class    0.585517        0.551237   \n",
              "                               working class  0.573840        0.547266   \n",
              "                  before 2015  middle class   0.585402        0.556323   \n",
              "                               poverty        0.584187        0.550390   \n",
              "                               upper class    0.583585        0.551254   \n",
              "                               working class  0.579704        0.534882   \n",
              "\n",
              "                                              speeding_violations  \n",
              "vehicle_ownership vehicle_year income                              \n",
              "0.0               after 2015   middle class              0.618921  \n",
              "                               poverty                   0.651556  \n",
              "                               upper class               0.692214  \n",
              "                               working class             0.585848  \n",
              "                  before 2015  middle class              0.766484  \n",
              "                               poverty                   0.753846  \n",
              "                               upper class               0.674385  \n",
              "                               working class             0.771016  \n",
              "1.0               after 2015   middle class              0.675215  \n",
              "                               poverty                   0.626906  \n",
              "                               upper class               0.668247  \n",
              "                               working class             0.655522  \n",
              "                  before 2015  middle class              0.675136  \n",
              "                               poverty                   0.663710  \n",
              "                               upper class               0.683852  \n",
              "                               working class             0.697090  "
            ],
            "text/html": [
              "\n",
              "  <div id=\"df-1a976c06-ad89-4d0c-9a9c-f95154bc274e\">\n",
              "    <div class=\"colab-df-container\">\n",
              "      <div>\n",
              "<style scoped>\n",
              "    .dataframe tbody tr th:only-of-type {\n",
              "        vertical-align: middle;\n",
              "    }\n",
              "\n",
              "    .dataframe tbody tr th {\n",
              "        vertical-align: top;\n",
              "    }\n",
              "\n",
              "    .dataframe thead th {\n",
              "        text-align: right;\n",
              "    }\n",
              "</style>\n",
              "<table border=\"1\" class=\"dataframe\">\n",
              "  <thead>\n",
              "    <tr style=\"text-align: right;\">\n",
              "      <th></th>\n",
              "      <th></th>\n",
              "      <th></th>\n",
              "      <th>annual_mileage</th>\n",
              "      <th>children</th>\n",
              "      <th>credit_score</th>\n",
              "      <th>duis</th>\n",
              "      <th>married</th>\n",
              "      <th>past_accidents</th>\n",
              "      <th>speeding_violations</th>\n",
              "    </tr>\n",
              "    <tr>\n",
              "      <th>vehicle_ownership</th>\n",
              "      <th>vehicle_year</th>\n",
              "      <th>income</th>\n",
              "      <th></th>\n",
              "      <th></th>\n",
              "      <th></th>\n",
              "      <th></th>\n",
              "      <th></th>\n",
              "      <th></th>\n",
              "      <th></th>\n",
              "    </tr>\n",
              "  </thead>\n",
              "  <tbody>\n",
              "    <tr>\n",
              "      <th rowspan=\"8\" valign=\"top\">0.0</th>\n",
              "      <th rowspan=\"4\" valign=\"top\">after 2015</th>\n",
              "      <th>middle class</th>\n",
              "      <td>11115.826702</td>\n",
              "      <td>0.517241</td>\n",
              "      <td>0.601110</td>\n",
              "      <td>0.126437</td>\n",
              "      <td>0.577365</td>\n",
              "      <td>0.557913</td>\n",
              "      <td>0.618921</td>\n",
              "    </tr>\n",
              "    <tr>\n",
              "      <th>poverty</th>\n",
              "      <td>10912.888889</td>\n",
              "      <td>0.522667</td>\n",
              "      <td>0.609386</td>\n",
              "      <td>0.149333</td>\n",
              "      <td>0.599111</td>\n",
              "      <td>0.611556</td>\n",
              "      <td>0.651556</td>\n",
              "    </tr>\n",
              "    <tr>\n",
              "      <th>upper class</th>\n",
              "      <td>11022.037218</td>\n",
              "      <td>0.504652</td>\n",
              "      <td>0.600985</td>\n",
              "      <td>0.114838</td>\n",
              "      <td>0.584476</td>\n",
              "      <td>0.527424</td>\n",
              "      <td>0.692214</td>\n",
              "    </tr>\n",
              "    <tr>\n",
              "      <th>working class</th>\n",
              "      <td>11155.046826</td>\n",
              "      <td>0.509886</td>\n",
              "      <td>0.606341</td>\n",
              "      <td>0.118106</td>\n",
              "      <td>0.595734</td>\n",
              "      <td>0.518210</td>\n",
              "      <td>0.585848</td>\n",
              "    </tr>\n",
              "    <tr>\n",
              "      <th rowspan=\"4\" valign=\"top\">before 2015</th>\n",
              "      <th>middle class</th>\n",
              "      <td>10926.510989</td>\n",
              "      <td>0.545330</td>\n",
              "      <td>0.604773</td>\n",
              "      <td>0.121566</td>\n",
              "      <td>0.592033</td>\n",
              "      <td>0.549451</td>\n",
              "      <td>0.766484</td>\n",
              "    </tr>\n",
              "    <tr>\n",
              "      <th>poverty</th>\n",
              "      <td>11018.315018</td>\n",
              "      <td>0.516484</td>\n",
              "      <td>0.599626</td>\n",
              "      <td>0.115751</td>\n",
              "      <td>0.604396</td>\n",
              "      <td>0.504029</td>\n",
              "      <td>0.753846</td>\n",
              "    </tr>\n",
              "    <tr>\n",
              "      <th>upper class</th>\n",
              "      <td>11028.994577</td>\n",
              "      <td>0.508552</td>\n",
              "      <td>0.599713</td>\n",
              "      <td>0.139132</td>\n",
              "      <td>0.591364</td>\n",
              "      <td>0.557363</td>\n",
              "      <td>0.674385</td>\n",
              "    </tr>\n",
              "    <tr>\n",
              "      <th>working class</th>\n",
              "      <td>11036.339755</td>\n",
              "      <td>0.517513</td>\n",
              "      <td>0.591726</td>\n",
              "      <td>0.121716</td>\n",
              "      <td>0.581436</td>\n",
              "      <td>0.553853</td>\n",
              "      <td>0.771016</td>\n",
              "    </tr>\n",
              "    <tr>\n",
              "      <th rowspan=\"8\" valign=\"top\">1.0</th>\n",
              "      <th rowspan=\"4\" valign=\"top\">after 2015</th>\n",
              "      <th>middle class</th>\n",
              "      <td>11035.754399</td>\n",
              "      <td>0.532946</td>\n",
              "      <td>0.604841</td>\n",
              "      <td>0.137589</td>\n",
              "      <td>0.586672</td>\n",
              "      <td>0.535193</td>\n",
              "      <td>0.675215</td>\n",
              "    </tr>\n",
              "    <tr>\n",
              "      <th>poverty</th>\n",
              "      <td>11122.730574</td>\n",
              "      <td>0.525781</td>\n",
              "      <td>0.600375</td>\n",
              "      <td>0.123094</td>\n",
              "      <td>0.585512</td>\n",
              "      <td>0.585512</td>\n",
              "      <td>0.626906</td>\n",
              "    </tr>\n",
              "    <tr>\n",
              "      <th>upper class</th>\n",
              "      <td>11080.646002</td>\n",
              "      <td>0.514301</td>\n",
              "      <td>0.602959</td>\n",
              "      <td>0.134618</td>\n",
              "      <td>0.585517</td>\n",
              "      <td>0.551237</td>\n",
              "      <td>0.668247</td>\n",
              "    </tr>\n",
              "    <tr>\n",
              "      <th>working class</th>\n",
              "      <td>11109.017643</td>\n",
              "      <td>0.528752</td>\n",
              "      <td>0.607867</td>\n",
              "      <td>0.142888</td>\n",
              "      <td>0.573840</td>\n",
              "      <td>0.547266</td>\n",
              "      <td>0.655522</td>\n",
              "    </tr>\n",
              "    <tr>\n",
              "      <th rowspan=\"4\" valign=\"top\">before 2015</th>\n",
              "      <th>middle class</th>\n",
              "      <td>11002.349831</td>\n",
              "      <td>0.528271</td>\n",
              "      <td>0.601589</td>\n",
              "      <td>0.134968</td>\n",
              "      <td>0.585402</td>\n",
              "      <td>0.556323</td>\n",
              "      <td>0.675136</td>\n",
              "    </tr>\n",
              "    <tr>\n",
              "      <th>poverty</th>\n",
              "      <td>11077.687720</td>\n",
              "      <td>0.518428</td>\n",
              "      <td>0.599847</td>\n",
              "      <td>0.124790</td>\n",
              "      <td>0.584187</td>\n",
              "      <td>0.550390</td>\n",
              "      <td>0.663710</td>\n",
              "    </tr>\n",
              "    <tr>\n",
              "      <th>upper class</th>\n",
              "      <td>11036.296232</td>\n",
              "      <td>0.516510</td>\n",
              "      <td>0.600371</td>\n",
              "      <td>0.122295</td>\n",
              "      <td>0.583585</td>\n",
              "      <td>0.551254</td>\n",
              "      <td>0.683852</td>\n",
              "    </tr>\n",
              "    <tr>\n",
              "      <th>working class</th>\n",
              "      <td>11098.138442</td>\n",
              "      <td>0.526658</td>\n",
              "      <td>0.603484</td>\n",
              "      <td>0.131393</td>\n",
              "      <td>0.579704</td>\n",
              "      <td>0.534882</td>\n",
              "      <td>0.697090</td>\n",
              "    </tr>\n",
              "  </tbody>\n",
              "</table>\n",
              "</div>\n",
              "      <button class=\"colab-df-convert\" onclick=\"convertToInteractive('df-1a976c06-ad89-4d0c-9a9c-f95154bc274e')\"\n",
              "              title=\"Convert this dataframe to an interactive table.\"\n",
              "              style=\"display:none;\">\n",
              "        \n",
              "  <svg xmlns=\"http://www.w3.org/2000/svg\" height=\"24px\"viewBox=\"0 0 24 24\"\n",
              "       width=\"24px\">\n",
              "    <path d=\"M0 0h24v24H0V0z\" fill=\"none\"/>\n",
              "    <path d=\"M18.56 5.44l.94 2.06.94-2.06 2.06-.94-2.06-.94-.94-2.06-.94 2.06-2.06.94zm-11 1L8.5 8.5l.94-2.06 2.06-.94-2.06-.94L8.5 2.5l-.94 2.06-2.06.94zm10 10l.94 2.06.94-2.06 2.06-.94-2.06-.94-.94-2.06-.94 2.06-2.06.94z\"/><path d=\"M17.41 7.96l-1.37-1.37c-.4-.4-.92-.59-1.43-.59-.52 0-1.04.2-1.43.59L10.3 9.45l-7.72 7.72c-.78.78-.78 2.05 0 2.83L4 21.41c.39.39.9.59 1.41.59.51 0 1.02-.2 1.41-.59l7.78-7.78 2.81-2.81c.8-.78.8-2.07 0-2.86zM5.41 20L4 18.59l7.72-7.72 1.47 1.35L5.41 20z\"/>\n",
              "  </svg>\n",
              "      </button>\n",
              "      \n",
              "  <style>\n",
              "    .colab-df-container {\n",
              "      display:flex;\n",
              "      flex-wrap:wrap;\n",
              "      gap: 12px;\n",
              "    }\n",
              "\n",
              "    .colab-df-convert {\n",
              "      background-color: #E8F0FE;\n",
              "      border: none;\n",
              "      border-radius: 50%;\n",
              "      cursor: pointer;\n",
              "      display: none;\n",
              "      fill: #1967D2;\n",
              "      height: 32px;\n",
              "      padding: 0 0 0 0;\n",
              "      width: 32px;\n",
              "    }\n",
              "\n",
              "    .colab-df-convert:hover {\n",
              "      background-color: #E2EBFA;\n",
              "      box-shadow: 0px 1px 2px rgba(60, 64, 67, 0.3), 0px 1px 3px 1px rgba(60, 64, 67, 0.15);\n",
              "      fill: #174EA6;\n",
              "    }\n",
              "\n",
              "    [theme=dark] .colab-df-convert {\n",
              "      background-color: #3B4455;\n",
              "      fill: #D2E3FC;\n",
              "    }\n",
              "\n",
              "    [theme=dark] .colab-df-convert:hover {\n",
              "      background-color: #434B5C;\n",
              "      box-shadow: 0px 1px 3px 1px rgba(0, 0, 0, 0.15);\n",
              "      filter: drop-shadow(0px 1px 2px rgba(0, 0, 0, 0.3));\n",
              "      fill: #FFFFFF;\n",
              "    }\n",
              "  </style>\n",
              "\n",
              "      <script>\n",
              "        const buttonEl =\n",
              "          document.querySelector('#df-1a976c06-ad89-4d0c-9a9c-f95154bc274e button.colab-df-convert');\n",
              "        buttonEl.style.display =\n",
              "          google.colab.kernel.accessAllowed ? 'block' : 'none';\n",
              "\n",
              "        async function convertToInteractive(key) {\n",
              "          const element = document.querySelector('#df-1a976c06-ad89-4d0c-9a9c-f95154bc274e');\n",
              "          const dataTable =\n",
              "            await google.colab.kernel.invokeFunction('convertToInteractive',\n",
              "                                                     [key], {});\n",
              "          if (!dataTable) return;\n",
              "\n",
              "          const docLinkHtml = 'Like what you see? Visit the ' +\n",
              "            '<a target=\"_blank\" href=https://colab.research.google.com/notebooks/data_table.ipynb>data table notebook</a>'\n",
              "            + ' to learn more about interactive tables.';\n",
              "          element.innerHTML = '';\n",
              "          dataTable['output_type'] = 'display_data';\n",
              "          await google.colab.output.renderOutput(dataTable, element);\n",
              "          const docLink = document.createElement('div');\n",
              "          docLink.innerHTML = docLinkHtml;\n",
              "          element.appendChild(docLink);\n",
              "        }\n",
              "      </script>\n",
              "    </div>\n",
              "  </div>\n",
              "  "
            ]
          },
          "metadata": {},
          "execution_count": 40
        }
      ]
    },
    {
      "cell_type": "markdown",
      "metadata": {
        "id": "e15d1802"
      },
      "source": [
        "## Feature Selection"
      ],
      "id": "e15d1802"
    },
    {
      "cell_type": "code",
      "execution_count": null,
      "metadata": {
        "colab": {
          "base_uri": "https://localhost:8080/"
        },
        "id": "5ba49046",
        "outputId": "a2af1eca-769a-478e-c5d0-d20540f8778c"
      },
      "outputs": [
        {
          "output_type": "execute_result",
          "data": {
            "text/plain": [
              "(105000, 20)"
            ]
          },
          "metadata": {},
          "execution_count": 28
        }
      ],
      "source": [
        "X1.shape"
      ],
      "id": "5ba49046"
    },
    {
      "cell_type": "code",
      "execution_count": null,
      "metadata": {
        "id": "233cb9dd"
      },
      "outputs": [],
      "source": [
        "# 20 dimensional data"
      ],
      "id": "233cb9dd"
    },
    {
      "cell_type": "code",
      "execution_count": null,
      "metadata": {
        "id": "24990c36"
      },
      "outputs": [],
      "source": [
        "pca = PCA(.8)"
      ],
      "id": "24990c36"
    },
    {
      "cell_type": "code",
      "execution_count": null,
      "metadata": {
        "id": "eedb8f9f"
      },
      "outputs": [],
      "source": [
        "fit_pca = pca.fit(X1)"
      ],
      "id": "eedb8f9f"
    },
    {
      "cell_type": "code",
      "execution_count": null,
      "metadata": {
        "colab": {
          "base_uri": "https://localhost:8080/"
        },
        "id": "43fdaae9",
        "outputId": "db141dc8-51d4-402e-82f8-80d7db82e843"
      },
      "outputs": [
        {
          "output_type": "execute_result",
          "data": {
            "text/plain": [
              "array([0.07503854, 0.07452225, 0.0741998 , 0.07362236, 0.07321692,\n",
              "       0.07305323, 0.07278996, 0.07247858, 0.07234279, 0.072123  ,\n",
              "       0.07169455])"
            ]
          },
          "metadata": {},
          "execution_count": 31
        }
      ],
      "source": [
        "fit_pca.explained_variance_ratio_"
      ],
      "id": "43fdaae9"
    },
    {
      "cell_type": "code",
      "execution_count": null,
      "metadata": {
        "id": "eabb4e05"
      },
      "outputs": [],
      "source": [
        "# 11 dimensional data"
      ],
      "id": "eabb4e05"
    },
    {
      "cell_type": "code",
      "execution_count": null,
      "metadata": {
        "id": "758acc4c"
      },
      "outputs": [],
      "source": [
        "X2 = pca.transform(X1)"
      ],
      "id": "758acc4c"
    },
    {
      "cell_type": "code",
      "execution_count": null,
      "metadata": {
        "colab": {
          "base_uri": "https://localhost:8080/",
          "height": 295
        },
        "id": "244ad65e",
        "outputId": "f25f5b22-dac2-4a19-d892-9c1fbbef2522"
      },
      "outputs": [
        {
          "output_type": "display_data",
          "data": {
            "text/plain": [
              "<Figure size 432x288 with 1 Axes>"
            ],
            "image/png": "[encoded data removed]"
          },
          "metadata": {
            "needs_background": "light"
          }
        }
      ],
      "source": [
        "PC_values = np.arange(pca.n_components_) + 1\n",
        "plt.plot(PC_values, pca.explained_variance_ratio_, 'o-', linewidth=2, color='blue')\n",
        "plt.title('Scree Plot')\n",
        "plt.xlabel('Principal Component')\n",
        "plt.ylabel('Variance Explained')\n",
        "plt.show()"
      ],
      "id": "244ad65e"
    },
    {
      "cell_type": "markdown",
      "metadata": {
        "id": "49415200"
      },
      "source": [
        "## Train Test Splitting"
      ],
      "id": "49415200"
    },
    {
      "cell_type": "code",
      "execution_count": null,
      "metadata": {
        "id": "89d93570"
      },
      "outputs": [],
      "source": [
        "Xtrain, Xtest, ytrain, ytest = train_test_split(X2,y,test_size = .1, stratify = y)"
      ],
      "id": "89d93570"
    },
    {
      "cell_type": "code",
      "execution_count": null,
      "metadata": {
        "colab": {
          "base_uri": "https://localhost:8080/"
        },
        "id": "5a8455e2",
        "outputId": "193c2cc8-bb73-429e-c214-9cbcdc7eb7b4"
      },
      "outputs": [
        {
          "output_type": "stream",
          "name": "stdout",
          "text": [
            "(94500, 11)\n",
            "(10500, 11)\n"
          ]
        }
      ],
      "source": [
        "print(Xtrain.shape)\n",
        "print(Xtest.shape)"
      ],
      "id": "5a8455e2"
    },
    {
      "cell_type": "markdown",
      "metadata": {
        "id": "1587ffe1"
      },
      "source": [
        "## Modeling"
      ],
      "id": "1587ffe1"
    },
    {
      "cell_type": "code",
      "source": [
        "def print_acc(model,Xtrain,Xtest,ytrain,ytest):\n",
        "    print('------------------------------------------|')\n",
        "    print(f'|  Training Accuracy | {log_loss(ytrain, model.predict(Xtrain))} |')\n",
        "    print('------------------------------------------|')\n",
        "    print(f'|  Test Accuracy     | {log_loss(ytest, model.predict(Xtest))} |')\n",
        "    print('------------------------------------------|')\n",
        "\n",
        "def gen_conf(actual,pred):\n",
        "    classes = [0,1]\n",
        "    cm = confusion_matrix(actual,pred, labels=classes)\n",
        "    sn.heatmap(cm/np.sum(cm),fmt = '.2%', annot=True)\n",
        "    plt.title(\"Confusion matrix\")\n",
        "    plt.show()"
      ],
      "metadata": {
        "id": "bC8sysNauVgO"
      },
      "id": "bC8sysNauVgO",
      "execution_count": null,
      "outputs": []
    },
    {
      "cell_type": "markdown",
      "source": [
        "### Naive Bayes"
      ],
      "metadata": {
        "id": "LKhiYr2dukU7"
      },
      "id": "LKhiYr2dukU7"
    },
    {
      "cell_type": "code",
      "source": [
        "gnb = BernoulliNB()\n",
        "gnb.fit(Xtrain, ytrain)\n",
        "pred = gnb.predict(Xtest)\n",
        "print(log_loss(ytest, gnb.predict_proba(Xtest)))"
      ],
      "metadata": {
        "colab": {
          "base_uri": "https://localhost:8080/"
        },
        "id": "Kon-r8Fjuf5o",
        "outputId": "19a9ee2b-9771-45b5-974f-7112ae34166f"
      },
      "id": "Kon-r8Fjuf5o",
      "execution_count": null,
      "outputs": [
        {
          "output_type": "stream",
          "name": "stdout",
          "text": [
            "0.6811392280324836\n"
          ]
        }
      ]
    },
    {
      "cell_type": "code",
      "source": [
        "gen_conf(ytest, pred)"
      ],
      "metadata": {
        "colab": {
          "base_uri": "https://localhost:8080/",
          "height": 281
        },
        "id": "XMJJOe6uuqiq",
        "outputId": "298e6024-49ea-4123-ed79-2fcd4b9ce03b"
      },
      "id": "XMJJOe6uuqiq",
      "execution_count": null,
      "outputs": [
        {
          "output_type": "display_data",
          "data": {
            "text/plain": [
              "<Figure size 432x288 with 2 Axes>"
            ],
            "image/png": "[encoded data removed]"
          },
          "metadata": {
            "needs_background": "light"
          }
        }
      ]
    },
    {
      "cell_type": "markdown",
      "source": [
        "### From the basic Naive Bayes model we can see that the false negatives are high. The True negatives are very low and the False Positives are very low. \n",
        "### We must decrease the False Negatives.\n",
        "***"
      ],
      "metadata": {
        "id": "F_zXRR1cu98-"
      },
      "id": "F_zXRR1cu98-"
    },
    {
      "cell_type": "markdown",
      "source": [
        "### Random Forest Classifier"
      ],
      "metadata": {
        "id": "X1kQKBj2vDjw"
      },
      "id": "X1kQKBj2vDjw"
    },
    {
      "cell_type": "code",
      "source": [
        "dtc = RandomForestClassifier(n_jobs = -1)\n",
        "dtc.fit(Xtrain, ytrain)\n",
        "dpred = dtc.predict(Xtest)\n",
        "log_loss(ytest, dpred)"
      ],
      "metadata": {
        "colab": {
          "base_uri": "https://localhost:8080/"
        },
        "id": "3qYS24ojvBPv",
        "outputId": "82f8c635-9189-4023-c700-97bbaabfb16b"
      },
      "id": "3qYS24ojvBPv",
      "execution_count": null,
      "outputs": [
        {
          "output_type": "execute_result",
          "data": {
            "text/plain": [
              "15.999802487753382"
            ]
          },
          "metadata": {},
          "execution_count": 127
        }
      ]
    },
    {
      "cell_type": "code",
      "source": [
        "gen_conf(ytest, dpred)"
      ],
      "metadata": {
        "colab": {
          "base_uri": "https://localhost:8080/",
          "height": 281
        },
        "id": "v942Sy0DvF_n",
        "outputId": "008618c5-4218-4b9d-d7ed-9cdae695d218"
      },
      "id": "v942Sy0DvF_n",
      "execution_count": null,
      "outputs": [
        {
          "output_type": "display_data",
          "data": {
            "text/plain": [
              "<Figure size 432x288 with 2 Axes>"
            ],
            "image/png": "[encoded data removed]"
          },
          "metadata": {
            "needs_background": "light"
          }
        }
      ]
    },
    {
      "cell_type": "markdown",
      "source": [
        "***"
      ],
      "metadata": {
        "id": "IQ0s7294wJS0"
      },
      "id": "IQ0s7294wJS0"
    },
    {
      "cell_type": "markdown",
      "source": [
        "### XGBoost with RandomizedSearchCV"
      ],
      "metadata": {
        "id": "NA2pZwBHS7iD"
      },
      "id": "NA2pZwBHS7iD"
    },
    {
      "cell_type": "code",
      "execution_count": null,
      "metadata": {
        "id": "407a9bde"
      },
      "outputs": [],
      "source": [
        "# A parameter grid for XGBoost\n",
        "params = {\n",
        "        'min_child_weight': [1, 5, 10],\n",
        "        'gamma': [0.5, 1, 1.5, 2, 5],\n",
        "        'subsample': [0.6, 0.8, 1.0],\n",
        "        'colsample_bytree': [0.6, 0.8, 1.0],\n",
        "        'max_depth': [3, 5, 7, 10],\n",
        "        'learning_rate': [0.01, 0.02, 0.05]    \n",
        "        }"
      ],
      "id": "407a9bde"
    },
    {
      "cell_type": "code",
      "execution_count": null,
      "metadata": {
        "id": "a16f3e7a"
      },
      "outputs": [],
      "source": [
        "skf = StratifiedKFold(n_splits = 10, shuffle = True)"
      ],
      "id": "a16f3e7a"
    },
    {
      "cell_type": "code",
      "execution_count": null,
      "metadata": {
        "id": "8359fd0b"
      },
      "outputs": [],
      "source": [
        "xgc = xgb.XGBClassifier(learning_rate = 0.01, n_estimators = 100, objective = 'binary:logistic', nthread = 6, tree_method = 'gpu_hist', eval_metric = 'logloss')"
      ],
      "id": "8359fd0b"
    },
    {
      "cell_type": "code",
      "execution_count": null,
      "metadata": {
        "id": "0a006d70"
      },
      "outputs": [],
      "source": [
        "random_cv = RandomizedSearchCV(xgc,param_distributions = params, n_jobs = -1, cv = skf.split(Xtrain,ytrain), n_iter = 50, scoring = 'neg_log_loss')"
      ],
      "id": "0a006d70"
    },
    {
      "cell_type": "code",
      "execution_count": null,
      "metadata": {
        "colab": {
          "base_uri": "https://localhost:8080/"
        },
        "id": "7b8cade3",
        "outputId": "286643fe-366c-4c3c-ab89-a8e05e25aa5d"
      },
      "outputs": [
        {
          "output_type": "execute_result",
          "data": {
            "text/plain": [
              "RandomizedSearchCV(cv=<generator object _BaseKFold.split at 0x7fcdb416bed0>,\n",
              "                   estimator=XGBClassifier(eval_metric='logloss',\n",
              "                                           learning_rate=0.01, nthread=6,\n",
              "                                           tree_method='gpu_hist'),\n",
              "                   n_iter=50, n_jobs=-1,\n",
              "                   param_distributions={'C': [0.1, 1, 0.5, 10, 100],\n",
              "                                        'gamma': [1, 0.1, 0.01, 0.001, 0.0001],\n",
              "                                        'kernel': ['linear', 'poly', 'rbf',\n",
              "                                                   'sigmoid']},\n",
              "                   scoring='neg_log_loss')"
            ]
          },
          "metadata": {},
          "execution_count": 70
        }
      ],
      "source": [
        "random_cv.fit(Xtrain, ytrain)"
      ],
      "id": "7b8cade3"
    },
    {
      "cell_type": "code",
      "execution_count": null,
      "metadata": {
        "id": "040446e7",
        "colab": {
          "base_uri": "https://localhost:8080/"
        },
        "outputId": "43f07b0c-7182-4c98-d81a-55d13b1d9938"
      },
      "outputs": [
        {
          "output_type": "execute_result",
          "data": {
            "text/plain": [
              "{'kernel': 'linear', 'gamma': 0.0001, 'C': 0.1}"
            ]
          },
          "metadata": {},
          "execution_count": 71
        }
      ],
      "source": [
        "random_cv.best_params_"
      ],
      "id": "040446e7"
    },
    {
      "cell_type": "code",
      "execution_count": null,
      "metadata": {
        "id": "e1b6d7e2",
        "colab": {
          "base_uri": "https://localhost:8080/"
        },
        "outputId": "86406592-58e4-4cc8-e545-1d0cd6c44ca7"
      },
      "outputs": [
        {
          "output_type": "execute_result",
          "data": {
            "text/plain": [
              "-0.6828250229308213"
            ]
          },
          "metadata": {},
          "execution_count": 72
        }
      ],
      "source": [
        "random_cv.best_score_"
      ],
      "id": "e1b6d7e2"
    },
    {
      "cell_type": "code",
      "execution_count": null,
      "metadata": {
        "id": "41a887f7",
        "colab": {
          "base_uri": "https://localhost:8080/"
        },
        "outputId": "d0311178-1ed7-4d3b-901a-079e1ce9f0af"
      },
      "outputs": [
        {
          "output_type": "stream",
          "name": "stdout",
          "text": [
            "0.6822770970826426\n"
          ]
        }
      ],
      "source": [
        "#random_cv.fit(Xtrain, ytrain)\n",
        "pred_proba = random_cv.predict_proba(Xtrain)\n",
        "preds = random_cv.predict(Xtrain)\n",
        "print(log_loss(ytrain, pred_proba))"
      ],
      "id": "41a887f7"
    },
    {
      "cell_type": "code",
      "execution_count": null,
      "metadata": {
        "id": "A4MAJDg1AR4U",
        "colab": {
          "base_uri": "https://localhost:8080/"
        },
        "outputId": "81277aec-b60b-4993-ec05-4a038e73f9e0"
      },
      "outputs": [
        {
          "output_type": "stream",
          "name": "stdout",
          "text": [
            "0.6827907506624857\n"
          ]
        }
      ],
      "source": [
        "test_preds = random_cv.predict_proba(Xtest)\n",
        "print(log_loss(ytest, test_preds))"
      ],
      "id": "A4MAJDg1AR4U"
    },
    {
      "cell_type": "code",
      "source": [
        "test_pred = random_cv.predict(Xtest)"
      ],
      "metadata": {
        "id": "xoMk8u58pyDB"
      },
      "id": "xoMk8u58pyDB",
      "execution_count": null,
      "outputs": []
    },
    {
      "cell_type": "code",
      "source": [
        "gen_conf(ytest, test_pred)"
      ],
      "metadata": {
        "colab": {
          "base_uri": "https://localhost:8080/",
          "height": 281
        },
        "id": "WMtcFv-BqLSz",
        "outputId": "9cbf54b4-90fa-41ff-ec13-e757b59ebf79"
      },
      "id": "WMtcFv-BqLSz",
      "execution_count": null,
      "outputs": [
        {
          "output_type": "display_data",
          "data": {
            "text/plain": [
              "<Figure size 432x288 with 2 Axes>"
            ],
            "image/png": "[encoded data removed]"
          },
          "metadata": {
            "needs_background": "light"
          }
        }
      ]
    },
    {
      "cell_type": "code",
      "source": [
        "# this function adjusts the probability\n",
        "def change_probas(pred_probas, p):\n",
        "    x = []\n",
        "    for i in pred_probas:\n",
        "        if i[1] > p:\n",
        "            x.append(i[1])\n",
        "        else:\n",
        "            x.append(i[0])\n",
        "    return np.array(x)\n",
        "\n",
        "def return_probas(pred_probas, p):\n",
        "    x = []\n",
        "    for i in pred_probas:\n",
        "        if i[1] > p:\n",
        "            x.append(1.0)\n",
        "        else:\n",
        "            x.append(0.0)\n",
        "    return np.array(x)"
      ],
      "metadata": {
        "id": "HryMuEG0pHr5"
      },
      "id": "HryMuEG0pHr5",
      "execution_count": null,
      "outputs": []
    },
    {
      "cell_type": "code",
      "source": [
        "gen_conf(ytest, return_probas(test_preds, .454))"
      ],
      "metadata": {
        "colab": {
          "base_uri": "https://localhost:8080/",
          "height": 281
        },
        "id": "51PwArJ5pmY7",
        "outputId": "0743f367-4ef3-4ce7-de72-3be1b04dd8fb"
      },
      "id": "51PwArJ5pmY7",
      "execution_count": null,
      "outputs": [
        {
          "output_type": "display_data",
          "data": {
            "text/plain": [
              "<Figure size 432x288 with 2 Axes>"
            ],
            "image/png": "[encoded data removed]"
          },
          "metadata": {
            "needs_background": "light"
          }
        }
      ]
    },
    {
      "cell_type": "markdown",
      "source": [
        "***"
      ],
      "metadata": {
        "id": "HOCAoWY3wLiy"
      },
      "id": "HOCAoWY3wLiy"
    }
  ],
  "metadata": {
    "accelerator": "GPU",
    "colab": {
      "collapsed_sections": [],
      "provenance": [],
      "include_colab_link": true
    },
    "gpuClass": "standard",
    "kernelspec": {
      "display_name": "Python 3 (ipykernel)",
      "language": "python",
      "name": "python3"
    },
    "language_info": {
      "codemirror_mode": {
        "name": "ipython",
        "version": 3
      },
      "file_extension": ".py",
      "mimetype": "text/x-python",
      "name": "python",
      "nbconvert_exporter": "python",
      "pygments_lexer": "ipython3",
      "version": "3.8.10"
    }
  },
  "nbformat": 4,
  "nbformat_minor": 5
}