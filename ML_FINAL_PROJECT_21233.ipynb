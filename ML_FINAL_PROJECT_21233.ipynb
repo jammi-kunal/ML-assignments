{
  "cells": [
    {
      "cell_type": "markdown",
      "metadata": {
        "id": "view-in-github",
        "colab_type": "text"
      },
      "source": [
        "<a href=\"https://colab.research.google.com/github/jammi-kunal/ML-assignments/blob/main/ML_FINAL_PROJECT_21233.ipynb\" target=\"_parent\"><img src=\"https://colab.research.google.com/assets/colab-badge.svg\" alt=\"Open In Colab\"/></a>"
      ]
    },
    {
      "cell_type": "code",
      "execution_count": 1,
      "metadata": {
        "id": "4e64d82d"
      },
      "outputs": [],
      "source": [
        "import pandas as pd\n",
        "import numpy as np\n",
        "from sklearn.decomposition import PCA\n",
        "import string\n",
        "from sklearn.preprocessing import LabelEncoder as le, OrdinalEncoder as oe, StandardScaler as ss, MinMaxScaler as mms, OneHotEncoder\n",
        "import seaborn as sns\n",
        "import matplotlib.pyplot as plt\n",
        "from sklearn.compose import ColumnTransformer\n",
        "from sklearn.model_selection import train_test_split\n",
        "from sklearn.naive_bayes import GaussianNB, MultinomialNB, BernoulliNB\n",
        "from sklearn.linear_model import LogisticRegression\n",
        "from sklearn import svm\n",
        "from sklearn.tree import DecisionTreeClassifier\n",
        "from sklearn.ensemble import BaggingClassifier, RandomForestClassifier, GradientBoostingClassifier\n",
        "from sklearn.neighbors import KNeighborsClassifier\n",
        "from sklearn.metrics import classification_report, confusion_matrix, accuracy_score, log_loss\n",
        "from sklearn.pipeline import Pipeline\n",
        "from sklearn.model_selection import train_test_split, GridSearchCV, StratifiedKFold, RandomizedSearchCV\n",
        "import matplotlib.pyplot as plt\n",
        "import seaborn as sn\n",
        "from sklearn.metrics import confusion_matrix\n",
        "import xgboost as xgb\n",
        "from xgboost import plot_tree"
      ],
      "id": "4e64d82d"
    },
    {
      "cell_type": "code",
      "execution_count": 2,
      "metadata": {
        "id": "Emk8EIIm_ZyF"
      },
      "outputs": [],
      "source": [
        "path = f'/content/drive/MyDrive/Colab Notebooks/hackathons/AnalyticsOlympiad2022Data/data/'"
      ],
      "id": "Emk8EIIm_ZyF"
    },
    {
      "cell_type": "code",
      "source": [
        "from google.colab import drive\n",
        "drive.mount('/content/drive')"
      ],
      "metadata": {
        "colab": {
          "base_uri": "https://localhost:8080/"
        },
        "id": "NSToW-0RN1iu",
        "outputId": "743aed3f-629c-4735-aaf3-da149217c271"
      },
      "id": "NSToW-0RN1iu",
      "execution_count": 3,
      "outputs": [
        {
          "output_type": "stream",
          "name": "stdout",
          "text": [
            "Mounted at /content/drive\n"
          ]
        }
      ]
    },
    {
      "cell_type": "code",
      "execution_count": 4,
      "metadata": {
        "id": "f6ed50dd"
      },
      "outputs": [],
      "source": [
        "train = pd.read_csv(path+'train.csv')"
      ],
      "id": "f6ed50dd"
    },
    {
      "cell_type": "code",
      "execution_count": 5,
      "metadata": {
        "colab": {
          "base_uri": "https://localhost:8080/",
          "height": 357
        },
        "id": "89c98672",
        "outputId": "fd71c9d6-5c40-43c2-a6ba-c45ead9c9214",
        "scrolled": true
      },
      "outputs": [
        {
          "output_type": "execute_result",
          "data": {
            "text/plain": [
              "       ID    AGE  GENDER DRIVING_EXPERIENCE    EDUCATION         INCOME  \\\n",
              "0  816393  40-64  female             20-29y   university   middle class   \n",
              "1  251762  26-39    male             20-29y  high school   middle class   \n",
              "2  481952  40-64    male             20-29y         none   middle class   \n",
              "3    3506  40-64    male             20-29y  high school    upper class   \n",
              "4  498013  40-64  female             20-29y         none  working class   \n",
              "\n",
              "   CREDIT_SCORE  VEHICLE_OWNERSHIP VEHICLE_YEAR  MARRIED  CHILDREN  \\\n",
              "0      0.638050                0.0   after 2015      0.0       0.0   \n",
              "1      0.475741                1.0  before 2015      1.0       0.0   \n",
              "2      0.839817                1.0  before 2015      1.0       1.0   \n",
              "3      0.682527                1.0  before 2015      0.0       1.0   \n",
              "4      0.572184                1.0   after 2015      1.0       1.0   \n",
              "\n",
              "   POSTAL_CODE  ANNUAL_MILEAGE  SPEEDING_VIOLATIONS  DUIS  PAST_ACCIDENTS  \\\n",
              "0        37379         11000.0                    0     0               0   \n",
              "1        10238          9000.0                    0     0               0   \n",
              "2        10238         12000.0                    0     0               0   \n",
              "3        92099          6000.0                    1     0               0   \n",
              "4        32122         15000.0                    0     0               1   \n",
              "\n",
              "   OUTCOME TYPE_OF_VEHICLE  \n",
              "0      0.0      Sports Car  \n",
              "1      1.0       HatchBack  \n",
              "2      1.0           Sedan  \n",
              "3      1.0           Sedan  \n",
              "4      0.0           Sedan  "
            ],
            "text/html": [
              "\n",
              "  <div id=\"df-827a47c7-d3a6-45eb-a788-2b6d6016dd5c\">\n",
              "    <div class=\"colab-df-container\">\n",
              "      <div>\n",
              "<style scoped>\n",
              "    .dataframe tbody tr th:only-of-type {\n",
              "        vertical-align: middle;\n",
              "    }\n",
              "\n",
              "    .dataframe tbody tr th {\n",
              "        vertical-align: top;\n",
              "    }\n",
              "\n",
              "    .dataframe thead th {\n",
              "        text-align: right;\n",
              "    }\n",
              "</style>\n",
              "<table border=\"1\" class=\"dataframe\">\n",
              "  <thead>\n",
              "    <tr style=\"text-align: right;\">\n",
              "      <th></th>\n",
              "      <th>ID</th>\n",
              "      <th>AGE</th>\n",
              "      <th>GENDER</th>\n",
              "      <th>DRIVING_EXPERIENCE</th>\n",
              "      <th>EDUCATION</th>\n",
              "      <th>INCOME</th>\n",
              "      <th>CREDIT_SCORE</th>\n",
              "      <th>VEHICLE_OWNERSHIP</th>\n",
              "      <th>VEHICLE_YEAR</th>\n",
              "      <th>MARRIED</th>\n",
              "      <th>CHILDREN</th>\n",
              "      <th>POSTAL_CODE</th>\n",
              "      <th>ANNUAL_MILEAGE</th>\n",
              "      <th>SPEEDING_VIOLATIONS</th>\n",
              "      <th>DUIS</th>\n",
              "      <th>PAST_ACCIDENTS</th>\n",
              "      <th>OUTCOME</th>\n",
              "      <th>TYPE_OF_VEHICLE</th>\n",
              "    </tr>\n",
              "  </thead>\n",
              "  <tbody>\n",
              "    <tr>\n",
              "      <th>0</th>\n",
              "      <td>816393</td>\n",
              "      <td>40-64</td>\n",
              "      <td>female</td>\n",
              "      <td>20-29y</td>\n",
              "      <td>university</td>\n",
              "      <td>middle class</td>\n",
              "      <td>0.638050</td>\n",
              "      <td>0.0</td>\n",
              "      <td>after 2015</td>\n",
              "      <td>0.0</td>\n",
              "      <td>0.0</td>\n",
              "      <td>37379</td>\n",
              "      <td>11000.0</td>\n",
              "      <td>0</td>\n",
              "      <td>0</td>\n",
              "      <td>0</td>\n",
              "      <td>0.0</td>\n",
              "      <td>Sports Car</td>\n",
              "    </tr>\n",
              "    <tr>\n",
              "      <th>1</th>\n",
              "      <td>251762</td>\n",
              "      <td>26-39</td>\n",
              "      <td>male</td>\n",
              "      <td>20-29y</td>\n",
              "      <td>high school</td>\n",
              "      <td>middle class</td>\n",
              "      <td>0.475741</td>\n",
              "      <td>1.0</td>\n",
              "      <td>before 2015</td>\n",
              "      <td>1.0</td>\n",
              "      <td>0.0</td>\n",
              "      <td>10238</td>\n",
              "      <td>9000.0</td>\n",
              "      <td>0</td>\n",
              "      <td>0</td>\n",
              "      <td>0</td>\n",
              "      <td>1.0</td>\n",
              "      <td>HatchBack</td>\n",
              "    </tr>\n",
              "    <tr>\n",
              "      <th>2</th>\n",
              "      <td>481952</td>\n",
              "      <td>40-64</td>\n",
              "      <td>male</td>\n",
              "      <td>20-29y</td>\n",
              "      <td>none</td>\n",
              "      <td>middle class</td>\n",
              "      <td>0.839817</td>\n",
              "      <td>1.0</td>\n",
              "      <td>before 2015</td>\n",
              "      <td>1.0</td>\n",
              "      <td>1.0</td>\n",
              "      <td>10238</td>\n",
              "      <td>12000.0</td>\n",
              "      <td>0</td>\n",
              "      <td>0</td>\n",
              "      <td>0</td>\n",
              "      <td>1.0</td>\n",
              "      <td>Sedan</td>\n",
              "    </tr>\n",
              "    <tr>\n",
              "      <th>3</th>\n",
              "      <td>3506</td>\n",
              "      <td>40-64</td>\n",
              "      <td>male</td>\n",
              "      <td>20-29y</td>\n",
              "      <td>high school</td>\n",
              "      <td>upper class</td>\n",
              "      <td>0.682527</td>\n",
              "      <td>1.0</td>\n",
              "      <td>before 2015</td>\n",
              "      <td>0.0</td>\n",
              "      <td>1.0</td>\n",
              "      <td>92099</td>\n",
              "      <td>6000.0</td>\n",
              "      <td>1</td>\n",
              "      <td>0</td>\n",
              "      <td>0</td>\n",
              "      <td>1.0</td>\n",
              "      <td>Sedan</td>\n",
              "    </tr>\n",
              "    <tr>\n",
              "      <th>4</th>\n",
              "      <td>498013</td>\n",
              "      <td>40-64</td>\n",
              "      <td>female</td>\n",
              "      <td>20-29y</td>\n",
              "      <td>none</td>\n",
              "      <td>working class</td>\n",
              "      <td>0.572184</td>\n",
              "      <td>1.0</td>\n",
              "      <td>after 2015</td>\n",
              "      <td>1.0</td>\n",
              "      <td>1.0</td>\n",
              "      <td>32122</td>\n",
              "      <td>15000.0</td>\n",
              "      <td>0</td>\n",
              "      <td>0</td>\n",
              "      <td>1</td>\n",
              "      <td>0.0</td>\n",
              "      <td>Sedan</td>\n",
              "    </tr>\n",
              "  </tbody>\n",
              "</table>\n",
              "</div>\n",
              "      <button class=\"colab-df-convert\" onclick=\"convertToInteractive('df-827a47c7-d3a6-45eb-a788-2b6d6016dd5c')\"\n",
              "              title=\"Convert this dataframe to an interactive table.\"\n",
              "              style=\"display:none;\">\n",
              "        \n",
              "  <svg xmlns=\"http://www.w3.org/2000/svg\" height=\"24px\"viewBox=\"0 0 24 24\"\n",
              "       width=\"24px\">\n",
              "    <path d=\"M0 0h24v24H0V0z\" fill=\"none\"/>\n",
              "    <path d=\"M18.56 5.44l.94 2.06.94-2.06 2.06-.94-2.06-.94-.94-2.06-.94 2.06-2.06.94zm-11 1L8.5 8.5l.94-2.06 2.06-.94-2.06-.94L8.5 2.5l-.94 2.06-2.06.94zm10 10l.94 2.06.94-2.06 2.06-.94-2.06-.94-.94-2.06-.94 2.06-2.06.94z\"/><path d=\"M17.41 7.96l-1.37-1.37c-.4-.4-.92-.59-1.43-.59-.52 0-1.04.2-1.43.59L10.3 9.45l-7.72 7.72c-.78.78-.78 2.05 0 2.83L4 21.41c.39.39.9.59 1.41.59.51 0 1.02-.2 1.41-.59l7.78-7.78 2.81-2.81c.8-.78.8-2.07 0-2.86zM5.41 20L4 18.59l7.72-7.72 1.47 1.35L5.41 20z\"/>\n",
              "  </svg>\n",
              "      </button>\n",
              "      \n",
              "  <style>\n",
              "    .colab-df-container {\n",
              "      display:flex;\n",
              "      flex-wrap:wrap;\n",
              "      gap: 12px;\n",
              "    }\n",
              "\n",
              "    .colab-df-convert {\n",
              "      background-color: #E8F0FE;\n",
              "      border: none;\n",
              "      border-radius: 50%;\n",
              "      cursor: pointer;\n",
              "      display: none;\n",
              "      fill: #1967D2;\n",
              "      height: 32px;\n",
              "      padding: 0 0 0 0;\n",
              "      width: 32px;\n",
              "    }\n",
              "\n",
              "    .colab-df-convert:hover {\n",
              "      background-color: #E2EBFA;\n",
              "      box-shadow: 0px 1px 2px rgba(60, 64, 67, 0.3), 0px 1px 3px 1px rgba(60, 64, 67, 0.15);\n",
              "      fill: #174EA6;\n",
              "    }\n",
              "\n",
              "    [theme=dark] .colab-df-convert {\n",
              "      background-color: #3B4455;\n",
              "      fill: #D2E3FC;\n",
              "    }\n",
              "\n",
              "    [theme=dark] .colab-df-convert:hover {\n",
              "      background-color: #434B5C;\n",
              "      box-shadow: 0px 1px 3px 1px rgba(0, 0, 0, 0.15);\n",
              "      filter: drop-shadow(0px 1px 2px rgba(0, 0, 0, 0.3));\n",
              "      fill: #FFFFFF;\n",
              "    }\n",
              "  </style>\n",
              "\n",
              "      <script>\n",
              "        const buttonEl =\n",
              "          document.querySelector('#df-827a47c7-d3a6-45eb-a788-2b6d6016dd5c button.colab-df-convert');\n",
              "        buttonEl.style.display =\n",
              "          google.colab.kernel.accessAllowed ? 'block' : 'none';\n",
              "\n",
              "        async function convertToInteractive(key) {\n",
              "          const element = document.querySelector('#df-827a47c7-d3a6-45eb-a788-2b6d6016dd5c');\n",
              "          const dataTable =\n",
              "            await google.colab.kernel.invokeFunction('convertToInteractive',\n",
              "                                                     [key], {});\n",
              "          if (!dataTable) return;\n",
              "\n",
              "          const docLinkHtml = 'Like what you see? Visit the ' +\n",
              "            '<a target=\"_blank\" href=https://colab.research.google.com/notebooks/data_table.ipynb>data table notebook</a>'\n",
              "            + ' to learn more about interactive tables.';\n",
              "          element.innerHTML = '';\n",
              "          dataTable['output_type'] = 'display_data';\n",
              "          await google.colab.output.renderOutput(dataTable, element);\n",
              "          const docLink = document.createElement('div');\n",
              "          docLink.innerHTML = docLinkHtml;\n",
              "          element.appendChild(docLink);\n",
              "        }\n",
              "      </script>\n",
              "    </div>\n",
              "  </div>\n",
              "  "
            ]
          },
          "metadata": {},
          "execution_count": 5
        }
      ],
      "source": [
        "train.head()"
      ],
      "id": "89c98672"
    },
    {
      "cell_type": "code",
      "execution_count": 6,
      "metadata": {
        "colab": {
          "base_uri": "https://localhost:8080/"
        },
        "id": "351e3d21",
        "outputId": "59b6aa9e-2052-4bfb-cc16-10180e7e5ecf"
      },
      "outputs": [
        {
          "output_type": "stream",
          "name": "stdout",
          "text": [
            "<class 'pandas.core.frame.DataFrame'>\n",
            "RangeIndex: 105000 entries, 0 to 104999\n",
            "Data columns (total 18 columns):\n",
            " #   Column               Non-Null Count   Dtype  \n",
            "---  ------               --------------   -----  \n",
            " 0   ID                   105000 non-null  int64  \n",
            " 1   AGE                  105000 non-null  object \n",
            " 2   GENDER               105000 non-null  object \n",
            " 3   DRIVING_EXPERIENCE   105000 non-null  object \n",
            " 4   EDUCATION            105000 non-null  object \n",
            " 5   INCOME               105000 non-null  object \n",
            " 6   CREDIT_SCORE         105000 non-null  float64\n",
            " 7   VEHICLE_OWNERSHIP    105000 non-null  float64\n",
            " 8   VEHICLE_YEAR         105000 non-null  object \n",
            " 9   MARRIED              105000 non-null  float64\n",
            " 10  CHILDREN             105000 non-null  float64\n",
            " 11  POSTAL_CODE          105000 non-null  int64  \n",
            " 12  ANNUAL_MILEAGE       105000 non-null  float64\n",
            " 13  SPEEDING_VIOLATIONS  105000 non-null  int64  \n",
            " 14  DUIS                 105000 non-null  int64  \n",
            " 15  PAST_ACCIDENTS       105000 non-null  int64  \n",
            " 16  OUTCOME              105000 non-null  float64\n",
            " 17  TYPE_OF_VEHICLE      105000 non-null  object \n",
            "dtypes: float64(6), int64(5), object(7)\n",
            "memory usage: 14.4+ MB\n"
          ]
        }
      ],
      "source": [
        "train.info()"
      ],
      "id": "351e3d21"
    },
    {
      "cell_type": "code",
      "execution_count": 7,
      "metadata": {
        "colab": {
          "base_uri": "https://localhost:8080/"
        },
        "id": "2e9cc624",
        "outputId": "9ee683d0-ed09-4354-9249-78e79e0bd2de"
      },
      "outputs": [
        {
          "output_type": "execute_result",
          "data": {
            "text/plain": [
              "6515"
            ]
          },
          "metadata": {},
          "execution_count": 7
        }
      ],
      "source": [
        "train['ID'].duplicated().sum()"
      ],
      "id": "2e9cc624"
    },
    {
      "cell_type": "code",
      "execution_count": 8,
      "metadata": {
        "id": "ef3701f6"
      },
      "outputs": [],
      "source": [
        "train.columns = [x.lower() for x in list(train.columns)]"
      ],
      "id": "ef3701f6"
    },
    {
      "cell_type": "code",
      "execution_count": 9,
      "metadata": {
        "colab": {
          "base_uri": "https://localhost:8080/"
        },
        "id": "f809f6ac",
        "outputId": "9b91fe36-6c81-4dd8-e424-94879b1c9b80"
      },
      "outputs": [
        {
          "output_type": "execute_result",
          "data": {
            "text/plain": [
              "0.0    60622\n",
              "1.0    44378\n",
              "Name: outcome, dtype: int64"
            ]
          },
          "metadata": {},
          "execution_count": 9
        }
      ],
      "source": [
        "train['outcome'].value_counts()"
      ],
      "id": "f809f6ac"
    },
    {
      "cell_type": "code",
      "execution_count": 10,
      "metadata": {
        "colab": {
          "base_uri": "https://localhost:8080/"
        },
        "id": "7365defc",
        "outputId": "660242ed-3bbb-433f-c0c5-ddd570be6ab2"
      },
      "outputs": [
        {
          "output_type": "execute_result",
          "data": {
            "text/plain": [
              "id                     0\n",
              "age                    0\n",
              "gender                 0\n",
              "driving_experience     0\n",
              "education              0\n",
              "income                 0\n",
              "credit_score           0\n",
              "vehicle_ownership      0\n",
              "vehicle_year           0\n",
              "married                0\n",
              "children               0\n",
              "postal_code            0\n",
              "annual_mileage         0\n",
              "speeding_violations    0\n",
              "duis                   0\n",
              "past_accidents         0\n",
              "outcome                0\n",
              "type_of_vehicle        0\n",
              "dtype: int64"
            ]
          },
          "metadata": {},
          "execution_count": 10
        }
      ],
      "source": [
        "train.isnull().sum()"
      ],
      "id": "7365defc"
    },
    {
      "cell_type": "code",
      "execution_count": 11,
      "metadata": {
        "colab": {
          "base_uri": "https://localhost:8080/"
        },
        "id": "aa7beb52",
        "outputId": "8d369e1f-d16a-4e44-f5e1-830dd37528ee"
      },
      "outputs": [
        {
          "output_type": "execute_result",
          "data": {
            "text/plain": [
              "0"
            ]
          },
          "metadata": {},
          "execution_count": 11
        }
      ],
      "source": [
        "train.duplicated().sum()"
      ],
      "id": "aa7beb52"
    },
    {
      "cell_type": "markdown",
      "metadata": {
        "id": "5bf03960"
      },
      "source": [
        "#### Numerical columns:\n",
        "- id\n",
        "- credit_score\n",
        "- vehicle_ownership\n",
        "- married\n",
        "- children\n",
        "- postal_code\n",
        "- annual_mileage\n",
        "- speeding_violations\n",
        "- duis\n",
        "- past_accidents\n",
        "- outcome\n",
        "\n",
        "#### Categorical columns:\n",
        "- age\n",
        "- gender\n",
        "- driving_experience\n",
        "- education\n",
        "- income\n",
        "- vehicle_year\n",
        "- type_of_vehicle"
      ],
      "id": "5bf03960"
    },
    {
      "cell_type": "markdown",
      "metadata": {
        "id": "8702f92e"
      },
      "source": [
        "### No duplicates and Null values"
      ],
      "id": "8702f92e"
    },
    {
      "cell_type": "code",
      "execution_count": 12,
      "metadata": {
        "id": "29653a75"
      },
      "outputs": [],
      "source": [
        "def check_value_cnts(var):\n",
        "    print('------------------------------------------------------------------------')\n",
        "    print(train[var].value_counts())"
      ],
      "id": "29653a75"
    },
    {
      "cell_type": "code",
      "execution_count": 13,
      "metadata": {
        "id": "2e9bec8a"
      },
      "outputs": [],
      "source": [
        "nums = list(train.select_dtypes(include='number').columns)\n",
        "cats = list(train.select_dtypes(include='object').columns)"
      ],
      "id": "2e9bec8a"
    },
    {
      "cell_type": "code",
      "execution_count": 14,
      "metadata": {
        "colab": {
          "base_uri": "https://localhost:8080/"
        },
        "id": "f229ea79",
        "outputId": "da9a2611-d635-428b-91fa-65fe6adc7c93"
      },
      "outputs": [
        {
          "output_type": "stream",
          "name": "stdout",
          "text": [
            "------------------------------------------------------------------------\n",
            "40-64    33716\n",
            "65+      32962\n",
            "26-39    20018\n",
            "16-25    18304\n",
            "Name: age, dtype: int64\n",
            "------------------------------------------------------------------------\n",
            "male      65317\n",
            "female    39683\n",
            "Name: gender, dtype: int64\n",
            "------------------------------------------------------------------------\n",
            "20-29y    37493\n",
            "0-9y      33111\n",
            "10-19y    25101\n",
            "30y+       9295\n",
            "Name: driving_experience, dtype: int64\n",
            "------------------------------------------------------------------------\n",
            "high school    46590\n",
            "university     31220\n",
            "none           27190\n",
            "Name: education, dtype: int64\n",
            "------------------------------------------------------------------------\n",
            "upper class      51271\n",
            "working class    24454\n",
            "middle class     14738\n",
            "poverty          14537\n",
            "Name: income, dtype: int64\n",
            "------------------------------------------------------------------------\n",
            "before 2015    57511\n",
            "after 2015     47489\n",
            "Name: vehicle_year, dtype: int64\n",
            "------------------------------------------------------------------------\n",
            "Sports Car    34592\n",
            "Sedan         28120\n",
            "HatchBack     24900\n",
            "SUV           17388\n",
            "Name: type_of_vehicle, dtype: int64\n"
          ]
        },
        {
          "output_type": "execute_result",
          "data": {
            "text/plain": [
              "[None, None, None, None, None, None, None]"
            ]
          },
          "metadata": {},
          "execution_count": 14
        }
      ],
      "source": [
        "list(map(check_value_cnts, cats))"
      ],
      "id": "f229ea79"
    },
    {
      "cell_type": "markdown",
      "metadata": {
        "id": "5dc96724"
      },
      "source": [
        "### Feature transformation and encoding"
      ],
      "id": "5dc96724"
    },
    {
      "cell_type": "markdown",
      "metadata": {
        "id": "d0f7f1f9"
      },
      "source": [
        "#### Features to be Label Encoded(Nominal):\n",
        "- gender\n",
        "- type_of_vehicle\n",
        "- vehicle_year\n",
        "\n",
        "#### Features to be Ordinal Encoded(Ordinal):\n",
        "- age\n",
        "- driving_experience\n",
        "- education\n",
        "- income"
      ],
      "id": "d0f7f1f9"
    },
    {
      "cell_type": "code",
      "execution_count": 15,
      "metadata": {
        "id": "c4e80586"
      },
      "outputs": [],
      "source": [
        "y = train['outcome']\n",
        "X = train.drop('outcome', axis = 1)"
      ],
      "id": "c4e80586"
    },
    {
      "cell_type": "code",
      "execution_count": 16,
      "metadata": {
        "id": "18c64304"
      },
      "outputs": [],
      "source": [
        "X.drop(['id', 'postal_code'], axis = 1, inplace = True)"
      ],
      "id": "18c64304"
    },
    {
      "cell_type": "code",
      "execution_count": 17,
      "metadata": {
        "id": "8b76bcb4"
      },
      "outputs": [],
      "source": [
        "nums = X.select_dtypes(include='number').columns\n",
        "ohei = ['gender','type_of_vehicle', 'vehicle_year']\n",
        "ordi = ['age','driving_experience','education','income']"
      ],
      "id": "8b76bcb4"
    },
    {
      "cell_type": "code",
      "execution_count": 18,
      "metadata": {
        "id": "bbf5ac55"
      },
      "outputs": [],
      "source": [
        "agec = ['16-25','26-39','40-64','65+']\n",
        "dexp = ['0-9y','10-19y','20-29y','30y+']\n",
        "educ = ['none','high school','university']\n",
        "inco = ['poverty','working class','middle class','upper class']"
      ],
      "id": "bbf5ac55"
    },
    {
      "cell_type": "code",
      "execution_count": 19,
      "metadata": {
        "id": "22af1e44"
      },
      "outputs": [],
      "source": [
        "cat_pipeline = Pipeline(\n",
        "    steps=[\n",
        "        (\"ohe\", OneHotEncoder(handle_unknown=\"ignore\", sparse=False))\n",
        "    ]\n",
        ")\n",
        "\n",
        "ord_pipeline = Pipeline(\n",
        "    steps=[\n",
        "        (\"ord\", oe(categories = [agec, dexp, educ, inco])),\n",
        "        (\"scaler\", ss())\n",
        "    ]\n",
        ")\n",
        "\n",
        "num_pipeline = Pipeline(\n",
        "    steps=[\n",
        "        (\"scaler\", ss())\n",
        "    ]\n",
        ")"
      ],
      "id": "22af1e44"
    },
    {
      "cell_type": "code",
      "execution_count": 20,
      "metadata": {
        "id": "3c5443a3"
      },
      "outputs": [],
      "source": [
        "transform = ColumnTransformer(\n",
        "    transformers=[\n",
        "        (\"nums\", num_pipeline, nums),\n",
        "        (\"cats\", cat_pipeline, ohei),\n",
        "        (\"ords\", ord_pipeline, ordi)\n",
        "    ]\n",
        ")"
      ],
      "id": "3c5443a3"
    },
    {
      "cell_type": "code",
      "execution_count": 21,
      "metadata": {
        "id": "5aa9ebaa"
      },
      "outputs": [],
      "source": [
        "X1 = transform.fit_transform(X)"
      ],
      "id": "5aa9ebaa"
    },
    {
      "cell_type": "code",
      "execution_count": 22,
      "metadata": {
        "colab": {
          "base_uri": "https://localhost:8080/"
        },
        "id": "3a1dfc7e",
        "outputId": "5655b92b-a50f-4e39-f058-9b3f0a44bf7a"
      },
      "outputs": [
        {
          "output_type": "execute_result",
          "data": {
            "text/plain": [
              "[('nums',\n",
              "  Pipeline(steps=[('scaler', StandardScaler())]),\n",
              "  Index(['credit_score', 'vehicle_ownership', 'married', 'children',\n",
              "         'annual_mileage', 'speeding_violations', 'duis', 'past_accidents'],\n",
              "        dtype='object')),\n",
              " ('cats',\n",
              "  Pipeline(steps=[('ohe', OneHotEncoder(handle_unknown='ignore', sparse=False))]),\n",
              "  ['gender', 'type_of_vehicle', 'vehicle_year']),\n",
              " ('ords', Pipeline(steps=[('ord',\n",
              "                   OrdinalEncoder(categories=[['16-25', '26-39', '40-64', '65+'],\n",
              "                                              ['0-9y', '10-19y', '20-29y',\n",
              "                                               '30y+'],\n",
              "                                              ['none', 'high school',\n",
              "                                               'university'],\n",
              "                                              ['poverty', 'working class',\n",
              "                                               'middle class', 'upper class']])),\n",
              "                  ('scaler', StandardScaler())]), ['age',\n",
              "   'driving_experience',\n",
              "   'education',\n",
              "   'income'])]"
            ]
          },
          "metadata": {},
          "execution_count": 22
        }
      ],
      "source": [
        "transform.transformers_"
      ],
      "id": "3a1dfc7e"
    },
    {
      "cell_type": "code",
      "execution_count": 23,
      "metadata": {
        "colab": {
          "base_uri": "https://localhost:8080/"
        },
        "id": "33be90e9",
        "outputId": "e9d0b9b9-e808-4811-8963-8cc1b931ee42"
      },
      "outputs": [
        {
          "output_type": "execute_result",
          "data": {
            "text/plain": [
              "0"
            ]
          },
          "metadata": {},
          "execution_count": 23
        }
      ],
      "source": [
        "X.duplicated().sum()"
      ],
      "id": "33be90e9"
    },
    {
      "cell_type": "code",
      "execution_count": 24,
      "metadata": {
        "colab": {
          "base_uri": "https://localhost:8080/"
        },
        "id": "ec9493c8",
        "outputId": "1add66fa-68a0-41c4-c833-55297c15e5d8",
        "scrolled": false
      },
      "outputs": [
        {
          "output_type": "execute_result",
          "data": {
            "text/plain": [
              "0.0    0.577352\n",
              "1.0    0.422648\n",
              "Name: outcome, dtype: float64"
            ]
          },
          "metadata": {},
          "execution_count": 24
        }
      ],
      "source": [
        "y.value_counts()/len(y)"
      ],
      "id": "ec9493c8"
    },
    {
      "cell_type": "markdown",
      "metadata": {
        "id": "8713671f"
      },
      "source": [
        "***"
      ],
      "id": "8713671f"
    },
    {
      "cell_type": "code",
      "execution_count": 25,
      "metadata": {
        "id": "828a2c78"
      },
      "outputs": [],
      "source": [
        "col_names = list(nums)+['female',\n",
        "                        'male',\n",
        "                        'vehicle_hatchback',\n",
        "                        'vehicle_suv',\n",
        "                        'vehicle_sedan',\n",
        "                        'vehicle_sports_car',\n",
        "                        'vehicle_year_after_2015',\n",
        "                        'vehicle_year_before_2015']+ordi"
      ],
      "id": "828a2c78"
    },
    {
      "cell_type": "code",
      "execution_count": 26,
      "metadata": {
        "id": "540b25e3"
      },
      "outputs": [],
      "source": [
        "X1 = pd.DataFrame(X1, columns = col_names)"
      ],
      "id": "540b25e3"
    },
    {
      "cell_type": "markdown",
      "metadata": {
        "id": "6653bf03"
      },
      "source": [
        "## Data Visualization"
      ],
      "id": "6653bf03"
    },
    {
      "cell_type": "code",
      "execution_count": 27,
      "metadata": {
        "colab": {
          "base_uri": "https://localhost:8080/",
          "height": 607
        },
        "id": "3bea528a",
        "outputId": "a4d2c259-c6cf-42b1-c068-461d3093c5c4"
      },
      "outputs": [
        {
          "output_type": "display_data",
          "data": {
            "text/plain": [
              "<Figure size 720x576 with 2 Axes>"
            ],
            "image/png": "[encoded data removed]"
          },
          "metadata": {
            "needs_background": "light"
          }
        }
      ],
      "source": [
        "# heatmap\n",
        "plt.figure(figsize = (10,8))\n",
        "sns.heatmap(X1.corr(), cmap = 'coolwarm')\n",
        "plt.show()"
      ],
      "id": "3bea528a"
    },
    {
      "cell_type": "markdown",
      "metadata": {
        "id": "1d53f216"
      },
      "source": [
        "### Inference\n",
        "- No correlation among the features"
      ],
      "id": "1d53f216"
    },
    {
      "cell_type": "markdown",
      "metadata": {
        "id": "e15d1802"
      },
      "source": [
        "## Feature Selection"
      ],
      "id": "e15d1802"
    },
    {
      "cell_type": "code",
      "execution_count": 28,
      "metadata": {
        "colab": {
          "base_uri": "https://localhost:8080/"
        },
        "id": "5ba49046",
        "outputId": "a2af1eca-769a-478e-c5d0-d20540f8778c"
      },
      "outputs": [
        {
          "output_type": "execute_result",
          "data": {
            "text/plain": [
              "(105000, 20)"
            ]
          },
          "metadata": {},
          "execution_count": 28
        }
      ],
      "source": [
        "X1.shape"
      ],
      "id": "5ba49046"
    },
    {
      "cell_type": "code",
      "execution_count": null,
      "metadata": {
        "id": "233cb9dd"
      },
      "outputs": [],
      "source": [
        "# 20 dimensional data"
      ],
      "id": "233cb9dd"
    },
    {
      "cell_type": "code",
      "execution_count": 29,
      "metadata": {
        "id": "24990c36"
      },
      "outputs": [],
      "source": [
        "pca = PCA(.8)"
      ],
      "id": "24990c36"
    },
    {
      "cell_type": "code",
      "execution_count": 30,
      "metadata": {
        "id": "eedb8f9f"
      },
      "outputs": [],
      "source": [
        "fit_pca = pca.fit(X1)"
      ],
      "id": "eedb8f9f"
    },
    {
      "cell_type": "code",
      "execution_count": 31,
      "metadata": {
        "colab": {
          "base_uri": "https://localhost:8080/"
        },
        "id": "43fdaae9",
        "outputId": "db141dc8-51d4-402e-82f8-80d7db82e843"
      },
      "outputs": [
        {
          "output_type": "execute_result",
          "data": {
            "text/plain": [
              "array([0.07503854, 0.07452225, 0.0741998 , 0.07362236, 0.07321692,\n",
              "       0.07305323, 0.07278996, 0.07247858, 0.07234279, 0.072123  ,\n",
              "       0.07169455])"
            ]
          },
          "metadata": {},
          "execution_count": 31
        }
      ],
      "source": [
        "fit_pca.explained_variance_ratio_"
      ],
      "id": "43fdaae9"
    },
    {
      "cell_type": "code",
      "execution_count": null,
      "metadata": {
        "id": "eabb4e05"
      },
      "outputs": [],
      "source": [
        "# 11 dimensional data"
      ],
      "id": "eabb4e05"
    },
    {
      "cell_type": "code",
      "execution_count": 32,
      "metadata": {
        "id": "758acc4c"
      },
      "outputs": [],
      "source": [
        "X2 = pca.transform(X1)"
      ],
      "id": "758acc4c"
    },
    {
      "cell_type": "code",
      "execution_count": 33,
      "metadata": {
        "colab": {
          "base_uri": "https://localhost:8080/",
          "height": 295
        },
        "id": "244ad65e",
        "outputId": "f25f5b22-dac2-4a19-d892-9c1fbbef2522"
      },
      "outputs": [
        {
          "output_type": "display_data",
          "data": {
            "text/plain": [
              "<Figure size 432x288 with 1 Axes>"
            ],
            "image/png": "[encoded data removed]"
          },
          "metadata": {
            "needs_background": "light"
          }
        }
      ],
      "source": [
        "PC_values = np.arange(pca.n_components_) + 1\n",
        "plt.plot(PC_values, pca.explained_variance_ratio_, 'o-', linewidth=2, color='blue')\n",
        "plt.title('Scree Plot')\n",
        "plt.xlabel('Principal Component')\n",
        "plt.ylabel('Variance Explained')\n",
        "plt.show()"
      ],
      "id": "244ad65e"
    },
    {
      "cell_type": "markdown",
      "metadata": {
        "id": "49415200"
      },
      "source": [
        "## Train Test Splitting"
      ],
      "id": "49415200"
    },
    {
      "cell_type": "code",
      "execution_count": 34,
      "metadata": {
        "id": "89d93570"
      },
      "outputs": [],
      "source": [
        "Xtrain, Xtest, ytrain, ytest = train_test_split(X2,y,test_size = .1, stratify = y)"
      ],
      "id": "89d93570"
    },
    {
      "cell_type": "code",
      "execution_count": 35,
      "metadata": {
        "colab": {
          "base_uri": "https://localhost:8080/"
        },
        "id": "5a8455e2",
        "outputId": "193c2cc8-bb73-429e-c214-9cbcdc7eb7b4"
      },
      "outputs": [
        {
          "output_type": "stream",
          "name": "stdout",
          "text": [
            "(94500, 11)\n",
            "(10500, 11)\n"
          ]
        }
      ],
      "source": [
        "print(Xtrain.shape)\n",
        "print(Xtest.shape)"
      ],
      "id": "5a8455e2"
    },
    {
      "cell_type": "markdown",
      "metadata": {
        "id": "1587ffe1"
      },
      "source": [
        "## Modeling"
      ],
      "id": "1587ffe1"
    },
    {
      "cell_type": "markdown",
      "source": [
        "### XGBoost with RandomizedSearchCV"
      ],
      "metadata": {
        "id": "NA2pZwBHS7iD"
      },
      "id": "NA2pZwBHS7iD"
    },
    {
      "cell_type": "code",
      "execution_count": 36,
      "metadata": {
        "id": "407a9bde"
      },
      "outputs": [],
      "source": [
        "# A parameter grid for XGBoost\n",
        "params = {\n",
        "        'min_child_weight': [1, 5, 10],\n",
        "        'gamma': [0.5, 1, 1.5, 2, 5],\n",
        "        'subsample': [0.6, 0.8, 1.0],\n",
        "        'colsample_bytree': [0.6, 0.8, 1.0],\n",
        "        'max_depth': [3, 5, 7, 10],\n",
        "        'learning_rate': [0.01, 0.02, 0.05]    \n",
        "        }"
      ],
      "id": "407a9bde"
    },
    {
      "cell_type": "code",
      "execution_count": 67,
      "metadata": {
        "id": "a16f3e7a"
      },
      "outputs": [],
      "source": [
        "skf = StratifiedKFold(n_splits = 10, shuffle = True)"
      ],
      "id": "a16f3e7a"
    },
    {
      "cell_type": "code",
      "execution_count": 68,
      "metadata": {
        "id": "8359fd0b"
      },
      "outputs": [],
      "source": [
        "xgc = xgb.XGBClassifier(learning_rate = 0.01, n_estimators = 100, objective = 'binary:logistic', nthread = 6, tree_method = 'gpu_hist', eval_metric = 'logloss')"
      ],
      "id": "8359fd0b"
    },
    {
      "cell_type": "code",
      "execution_count": 69,
      "metadata": {
        "id": "0a006d70"
      },
      "outputs": [],
      "source": [
        "random_cv = RandomizedSearchCV(xgc,param_distributions = params, n_jobs = -1, cv = skf.split(Xtrain,ytrain), n_iter = 50, scoring = 'neg_log_loss')"
      ],
      "id": "0a006d70"
    },
    {
      "cell_type": "code",
      "execution_count": 70,
      "metadata": {
        "colab": {
          "base_uri": "https://localhost:8080/"
        },
        "id": "7b8cade3",
        "outputId": "286643fe-366c-4c3c-ab89-a8e05e25aa5d"
      },
      "outputs": [
        {
          "output_type": "execute_result",
          "data": {
            "text/plain": [
              "RandomizedSearchCV(cv=<generator object _BaseKFold.split at 0x7fcdb416bed0>,\n",
              "                   estimator=XGBClassifier(eval_metric='logloss',\n",
              "                                           learning_rate=0.01, nthread=6,\n",
              "                                           tree_method='gpu_hist'),\n",
              "                   n_iter=50, n_jobs=-1,\n",
              "                   param_distributions={'C': [0.1, 1, 0.5, 10, 100],\n",
              "                                        'gamma': [1, 0.1, 0.01, 0.001, 0.0001],\n",
              "                                        'kernel': ['linear', 'poly', 'rbf',\n",
              "                                                   'sigmoid']},\n",
              "                   scoring='neg_log_loss')"
            ]
          },
          "metadata": {},
          "execution_count": 70
        }
      ],
      "source": [
        "random_cv.fit(Xtrain, ytrain)"
      ],
      "id": "7b8cade3"
    },
    {
      "cell_type": "code",
      "execution_count": 71,
      "metadata": {
        "id": "040446e7",
        "colab": {
          "base_uri": "https://localhost:8080/"
        },
        "outputId": "43f07b0c-7182-4c98-d81a-55d13b1d9938"
      },
      "outputs": [
        {
          "output_type": "execute_result",
          "data": {
            "text/plain": [
              "{'kernel': 'linear', 'gamma': 0.0001, 'C': 0.1}"
            ]
          },
          "metadata": {},
          "execution_count": 71
        }
      ],
      "source": [
        "random_cv.best_params_"
      ],
      "id": "040446e7"
    },
    {
      "cell_type": "code",
      "execution_count": 72,
      "metadata": {
        "id": "e1b6d7e2",
        "colab": {
          "base_uri": "https://localhost:8080/"
        },
        "outputId": "86406592-58e4-4cc8-e545-1d0cd6c44ca7"
      },
      "outputs": [
        {
          "output_type": "execute_result",
          "data": {
            "text/plain": [
              "-0.6828250229308213"
            ]
          },
          "metadata": {},
          "execution_count": 72
        }
      ],
      "source": [
        "random_cv.best_score_"
      ],
      "id": "e1b6d7e2"
    },
    {
      "cell_type": "code",
      "execution_count": 73,
      "metadata": {
        "id": "41a887f7",
        "colab": {
          "base_uri": "https://localhost:8080/"
        },
        "outputId": "d0311178-1ed7-4d3b-901a-079e1ce9f0af"
      },
      "outputs": [
        {
          "output_type": "stream",
          "name": "stdout",
          "text": [
            "0.6822770970826426\n"
          ]
        }
      ],
      "source": [
        "#random_cv.fit(Xtrain, ytrain)\n",
        "pred_proba = random_cv.predict_proba(Xtrain)\n",
        "preds = random_cv.predict(Xtrain)\n",
        "print(log_loss(ytrain, pred_proba))"
      ],
      "id": "41a887f7"
    },
    {
      "cell_type": "code",
      "execution_count": 74,
      "metadata": {
        "id": "A4MAJDg1AR4U",
        "colab": {
          "base_uri": "https://localhost:8080/"
        },
        "outputId": "81277aec-b60b-4993-ec05-4a038e73f9e0"
      },
      "outputs": [
        {
          "output_type": "stream",
          "name": "stdout",
          "text": [
            "0.6827907506624857\n"
          ]
        }
      ],
      "source": [
        "test_preds = random_cv.predict_proba(Xtest)\n",
        "print(log_loss(ytest, test_preds))"
      ],
      "id": "A4MAJDg1AR4U"
    },
    {
      "cell_type": "code",
      "source": [
        "test_pred = random_cv.predict(Xtest)"
      ],
      "metadata": {
        "id": "xoMk8u58pyDB"
      },
      "id": "xoMk8u58pyDB",
      "execution_count": 75,
      "outputs": []
    },
    {
      "cell_type": "code",
      "source": [
        "confusion_matrix(ytest, test_pred)"
      ],
      "metadata": {
        "colab": {
          "base_uri": "https://localhost:8080/"
        },
        "id": "WMtcFv-BqLSz",
        "outputId": "be2c9355-da17-4f7c-bd80-b57dcabc2bb7"
      },
      "id": "WMtcFv-BqLSz",
      "execution_count": 78,
      "outputs": [
        {
          "output_type": "execute_result",
          "data": {
            "text/plain": [
              "array([[6062,    0],\n",
              "       [4438,    0]])"
            ]
          },
          "metadata": {},
          "execution_count": 78
        }
      ]
    },
    {
      "cell_type": "code",
      "source": [
        "# this function adjusts the probability\n",
        "def change_probas(pred_probas):\n",
        "    x = []\n",
        "    for i in pred_probas:\n",
        "        if i[1] > .42:\n",
        "            x.append(i[1])\n",
        "        else:\n",
        "            x.append(i[0])\n",
        "    return np.array(x)\n",
        "\n",
        "def return_probas(pred_probas, p):\n",
        "    x = []\n",
        "    for i in pred_probas:\n",
        "        if i[1] > p:\n",
        "            x.append(1.0)\n",
        "        else:\n",
        "            x.append(0.0)\n",
        "    return np.array(x)"
      ],
      "metadata": {
        "id": "HryMuEG0pHr5"
      },
      "id": "HryMuEG0pHr5",
      "execution_count": 93,
      "outputs": []
    },
    {
      "cell_type": "code",
      "source": [
        "confusion_matrix(ytest, return_probas(test_preds, .451))"
      ],
      "metadata": {
        "colab": {
          "base_uri": "https://localhost:8080/"
        },
        "id": "51PwArJ5pmY7",
        "outputId": "e049385c-8892-443b-99d8-9c31adc76b4e"
      },
      "id": "51PwArJ5pmY7",
      "execution_count": 113,
      "outputs": [
        {
          "output_type": "execute_result",
          "data": {
            "text/plain": [
              "array([[2718, 3344],\n",
              "       [1962, 2476]])"
            ]
          },
          "metadata": {},
          "execution_count": 113
        }
      ]
    },
    {
      "cell_type": "markdown",
      "source": [
        "### GridSearchCV on SVM"
      ],
      "metadata": {
        "id": "7v8JUo4HTD1L"
      },
      "id": "7v8JUo4HTD1L"
    },
    {
      "cell_type": "code",
      "source": [
        "from sklearn.svm import SVC"
      ],
      "metadata": {
        "id": "I-r1ugb5ZWOv"
      },
      "id": "I-r1ugb5ZWOv",
      "execution_count": 49,
      "outputs": []
    },
    {
      "cell_type": "code",
      "source": [
        "# A parameter grid for SVM\n",
        "params = {\n",
        "        'C': [0.1, 1, 0.5, 10, 100],\n",
        "        'kernel': ['linear','poly','rbf','sigmoid'],\n",
        "        #'degree': [3,4,5,6,7],\n",
        "        'gamma': [1, 0.1, 0.01, 0.001, 0.0001]\n",
        "        }"
      ],
      "metadata": {
        "id": "WoYl8Kk6TDki"
      },
      "id": "WoYl8Kk6TDki",
      "execution_count": 58,
      "outputs": []
    },
    {
      "cell_type": "code",
      "source": [
        "skf_svm = StratifiedKFold(n_splits = 10, shuffle = True)"
      ],
      "metadata": {
        "id": "4vSViKsbZPBX"
      },
      "id": "4vSViKsbZPBX",
      "execution_count": 59,
      "outputs": []
    },
    {
      "cell_type": "code",
      "source": [
        "svc = SVC()"
      ],
      "metadata": {
        "id": "HzCHWY9GZRKO"
      },
      "id": "HzCHWY9GZRKO",
      "execution_count": 60,
      "outputs": []
    },
    {
      "cell_type": "code",
      "source": [
        "random_cv_svm = RandomizedSearchCV(svc,param_distributions = params, n_jobs = -1, cv = skf.split(Xtrain,ytrain), n_iter = 50, scoring = 'neg_log_loss')"
      ],
      "metadata": {
        "id": "G4BDni4YZk-n"
      },
      "id": "G4BDni4YZk-n",
      "execution_count": 61,
      "outputs": []
    },
    {
      "cell_type": "code",
      "source": [
        "random_cv_svm.fit(Xtrain, ytrain)"
      ],
      "metadata": {
        "id": "MWbKY74DZzXA"
      },
      "id": "MWbKY74DZzXA",
      "execution_count": null,
      "outputs": []
    },
    {
      "cell_type": "code",
      "source": [
        "random_cv_svm.best_params_"
      ],
      "metadata": {
        "id": "r4uRGPmbZ_iE"
      },
      "id": "r4uRGPmbZ_iE",
      "execution_count": null,
      "outputs": []
    },
    {
      "cell_type": "code",
      "source": [
        "random_cv_svm.best_score_"
      ],
      "metadata": {
        "id": "WfLfaHy2aiqm"
      },
      "id": "WfLfaHy2aiqm",
      "execution_count": null,
      "outputs": []
    },
    {
      "cell_type": "code",
      "source": [
        "#random_cv.fit(Xtrain, ytrain)\n",
        "pred_proba = random_cv_svm.predict_proba(Xtrain)\n",
        "preds = random_cv_svm.predict(Xtrain)\n",
        "print(log_loss(ytrain, pred_proba))"
      ],
      "metadata": {
        "id": "YO1wYqMZakP8"
      },
      "id": "YO1wYqMZakP8",
      "execution_count": null,
      "outputs": []
    },
    {
      "cell_type": "code",
      "source": [
        "test_preds = random_cv_svm.predict_proba(Xtest)\n",
        "print(log_loss(ytest, test_preds))"
      ],
      "metadata": {
        "id": "8aseu9Dialrc"
      },
      "id": "8aseu9Dialrc",
      "execution_count": null,
      "outputs": []
    }
  ],
  "metadata": {
    "accelerator": "GPU",
    "colab": {
      "collapsed_sections": [],
      "provenance": [],
      "include_colab_link": true
    },
    "gpuClass": "standard",
    "kernelspec": {
      "display_name": "Python 3 (ipykernel)",
      "language": "python",
      "name": "python3"
    },
    "language_info": {
      "codemirror_mode": {
        "name": "ipython",
        "version": 3
      },
      "file_extension": ".py",
      "mimetype": "text/x-python",
      "name": "python",
      "nbconvert_exporter": "python",
      "pygments_lexer": "ipython3",
      "version": "3.8.10"
    }
  },
  "nbformat": 4,
  "nbformat_minor": 5
}