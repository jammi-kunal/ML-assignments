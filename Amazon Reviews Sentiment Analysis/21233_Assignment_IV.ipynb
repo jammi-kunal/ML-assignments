{
 "cells": [
  {
   "cell_type": "code",
   "execution_count": 1,
   "metadata": {
    "id": "U2OVLL0w7Yh_"
   },
   "outputs": [],
   "source": [
    "import pandas as pd\n",
    "import numpy as np\n",
    "import sys\n",
    "from sklearn.preprocessing import OrdinalEncoder\n",
    "from sklearn.compose import ColumnTransformer\n",
    "from sklearn.feature_extraction.text import TfidfVectorizer, CountVectorizer\n",
    "from sklearn.naive_bayes import GaussianNB, MultinomialNB\n",
    "from sklearn.metrics import classification_report, confusion_matrix, accuracy_score\n",
    "from sklearn.pipeline import Pipeline\n",
    "from sklearn.model_selection import train_test_split\n",
    "import matplotlib.pyplot as plt\n",
    "import seaborn as sn\n",
    "from sklearn.metrics import confusion_matrix\n",
    "from sklearn.linear_model import LogisticRegression\n",
    "from sklearn import svm\n",
    "from sklearn.tree import DecisionTreeClassifier\n",
    "from sklearn.ensemble import BaggingClassifier, RandomForestClassifier\n",
    "from sklearn.neighbors import KNeighborsClassifier\n",
    "import seaborn as sns\n",
    "import matplotlib.pyplot as plt\n",
    "plt.style.use('seaborn')"
   ]
  },
  {
   "cell_type": "code",
   "execution_count": 2,
   "metadata": {
    "id": "9p-ygvREXsgU"
   },
   "outputs": [],
   "source": [
    "# three datasets are imported because data was scraped three times in three different files.\n",
    "data = pd.read_csv('data/assignment4/boat_bassheads900_reviews.csv')\n",
    "data1 = pd.read_csv('data/assignment4/boat_bassheads900_reviews_1.csv')\n",
    "data2 = pd.read_csv('data/assignment4/boat_bassheads900_reviews_2.csv')\n",
    "data3 = pd.read_csv('data/assignment4/boat_bassheads900_reviews_3.csv')"
   ]
  },
  {
   "cell_type": "code",
   "execution_count": 34,
   "metadata": {
    "id": "KNLYjswNdRFw"
   },
   "outputs": [],
   "source": [
    "# data = data.append(data1, ignore_index = True)\n",
    "# data = data.append(data2, ignore_index = True)\n",
    "# data = data.append(data3, ignore_index = True)"
   ]
  },
  {
   "cell_type": "code",
   "execution_count": 3,
   "metadata": {
    "id": "jZQK9taRoarQ"
   },
   "outputs": [],
   "source": [
    "data = pd.concat([data, data1, data2, data3], ignore_index = True)"
   ]
  },
  {
   "cell_type": "code",
   "execution_count": 4,
   "metadata": {
    "colab": {
     "base_uri": "https://localhost:8080/"
    },
    "id": "P7jlIuIhonUm",
    "outputId": "c0570f60-49e8-4070-df1d-448821cab27a"
   },
   "outputs": [
    {
     "data": {
      "text/plain": [
       "4.0 out of 5 stars    753\n",
       "3.0 out of 5 stars    615\n",
       "5.0 out of 5 stars    475\n",
       "2.0 out of 5 stars    140\n",
       "1.0 out of 5 stars    114\n",
       "Name: rating, dtype: int64"
      ]
     },
     "execution_count": 4,
     "metadata": {},
     "output_type": "execute_result"
    }
   ],
   "source": [
    "data['rating'].value_counts()"
   ]
  },
  {
   "cell_type": "code",
   "execution_count": 5,
   "metadata": {
    "colab": {
     "base_uri": "https://localhost:8080/"
    },
    "id": "0uhq1Kd5o0Uq",
    "outputId": "ac34075c-9d57-4bd5-e8e9-1bd94f7b2614"
   },
   "outputs": [
    {
     "data": {
      "text/plain": [
       "134"
      ]
     },
     "execution_count": 5,
     "metadata": {},
     "output_type": "execute_result"
    }
   ],
   "source": [
    "data.duplicated().sum()"
   ]
  },
  {
   "cell_type": "code",
   "execution_count": 6,
   "metadata": {
    "id": "O2aboTbspBZI"
   },
   "outputs": [],
   "source": [
    "data = data.drop_duplicates()"
   ]
  },
  {
   "cell_type": "code",
   "execution_count": 7,
   "metadata": {
    "colab": {
     "base_uri": "https://localhost:8080/"
    },
    "id": "8O_SpZT2pJ0E",
    "outputId": "54e9e19b-60e1-4589-97d0-aa2fd14c312d"
   },
   "outputs": [
    {
     "data": {
      "text/plain": [
       "4.0 out of 5 stars    678\n",
       "3.0 out of 5 stars    597\n",
       "5.0 out of 5 stars    435\n",
       "2.0 out of 5 stars    140\n",
       "1.0 out of 5 stars    113\n",
       "Name: rating, dtype: int64"
      ]
     },
     "execution_count": 7,
     "metadata": {},
     "output_type": "execute_result"
    }
   ],
   "source": [
    "data['rating'].value_counts()"
   ]
  },
  {
   "cell_type": "code",
   "execution_count": 8,
   "metadata": {
    "id": "k_7wsG9nZaMa"
   },
   "outputs": [],
   "source": [
    "data['rating'] = data['rating'].apply(lambda x: x.split()[0].split('.')[0])"
   ]
  },
  {
   "cell_type": "code",
   "execution_count": 9,
   "metadata": {
    "colab": {
     "base_uri": "https://localhost:8080/"
    },
    "id": "emjsPksmGDGf",
    "outputId": "e88ddf03-b1a7-4c69-8fb7-bd46921a9680"
   },
   "outputs": [
    {
     "data": {
      "text/plain": [
       "0       4\n",
       "1       4\n",
       "2       4\n",
       "3       4\n",
       "4       4\n",
       "       ..\n",
       "2092    2\n",
       "2093    3\n",
       "2094    2\n",
       "2095    3\n",
       "2096    2\n",
       "Name: rating, Length: 1963, dtype: object"
      ]
     },
     "execution_count": 9,
     "metadata": {},
     "output_type": "execute_result"
    }
   ],
   "source": [
    "data['rating']"
   ]
  },
  {
   "cell_type": "code",
   "execution_count": 10,
   "metadata": {
    "id": "vyulSYZjZkR8"
   },
   "outputs": [],
   "source": [
    "data = data.astype({'rating':'int64'})"
   ]
  },
  {
   "cell_type": "code",
   "execution_count": 11,
   "metadata": {
    "id": "Mg8bRMSiGS5w"
   },
   "outputs": [],
   "source": [
    "ndf = data.copy()"
   ]
  },
  {
   "cell_type": "code",
   "execution_count": 12,
   "metadata": {
    "colab": {
     "base_uri": "https://localhost:8080/"
    },
    "id": "o6C0HbAwZk70",
    "outputId": "546e4c16-7b34-415d-f7c4-61e24fb6a342"
   },
   "outputs": [
    {
     "name": "stdout",
     "output_type": "stream",
     "text": [
      "<class 'pandas.core.frame.DataFrame'>\n",
      "Int64Index: 1963 entries, 0 to 2096\n",
      "Data columns (total 2 columns):\n",
      " #   Column  Non-Null Count  Dtype \n",
      "---  ------  --------------  ----- \n",
      " 0   review  1963 non-null   object\n",
      " 1   rating  1963 non-null   int64 \n",
      "dtypes: int64(1), object(1)\n",
      "memory usage: 46.0+ KB\n"
     ]
    }
   ],
   "source": [
    "data.info()"
   ]
  },
  {
   "cell_type": "code",
   "execution_count": 13,
   "metadata": {
    "colab": {
     "base_uri": "https://localhost:8080/",
     "height": 206
    },
    "id": "muYVNNscgavR",
    "outputId": "1499baf0-8beb-40ad-9446-5302b95916ea"
   },
   "outputs": [
    {
     "data": {
      "text/html": [
       "<div>\n",
       "<style scoped>\n",
       "    .dataframe tbody tr th:only-of-type {\n",
       "        vertical-align: middle;\n",
       "    }\n",
       "\n",
       "    .dataframe tbody tr th {\n",
       "        vertical-align: top;\n",
       "    }\n",
       "\n",
       "    .dataframe thead th {\n",
       "        text-align: right;\n",
       "    }\n",
       "</style>\n",
       "<table border=\"1\" class=\"dataframe\">\n",
       "  <thead>\n",
       "    <tr style=\"text-align: right;\">\n",
       "      <th></th>\n",
       "      <th>review</th>\n",
       "      <th>rating</th>\n",
       "    </tr>\n",
       "  </thead>\n",
       "  <tbody>\n",
       "    <tr>\n",
       "      <th>0</th>\n",
       "      <td>Its just fine and has lifespan of 1 year only ...</td>\n",
       "      <td>4</td>\n",
       "    </tr>\n",
       "    <tr>\n",
       "      <th>1</th>\n",
       "      <td>For this price point ,this headphone is a grea...</td>\n",
       "      <td>4</td>\n",
       "    </tr>\n",
       "    <tr>\n",
       "      <th>2</th>\n",
       "      <td>Best experience ever in headphones I’ve used t...</td>\n",
       "      <td>4</td>\n",
       "    </tr>\n",
       "    <tr>\n",
       "      <th>3</th>\n",
       "      <td>overall is good</td>\n",
       "      <td>4</td>\n",
       "    </tr>\n",
       "    <tr>\n",
       "      <th>4</th>\n",
       "      <td>Bass Quality and sound is great</td>\n",
       "      <td>4</td>\n",
       "    </tr>\n",
       "  </tbody>\n",
       "</table>\n",
       "</div>"
      ],
      "text/plain": [
       "                                              review  rating\n",
       "0  Its just fine and has lifespan of 1 year only ...       4\n",
       "1  For this price point ,this headphone is a grea...       4\n",
       "2  Best experience ever in headphones I’ve used t...       4\n",
       "3                                    overall is good       4\n",
       "4                    Bass Quality and sound is great       4"
      ]
     },
     "execution_count": 13,
     "metadata": {},
     "output_type": "execute_result"
    }
   ],
   "source": [
    "data.head()"
   ]
  },
  {
   "cell_type": "code",
   "execution_count": 16,
   "metadata": {
    "colab": {
     "base_uri": "https://localhost:8080/"
    },
    "id": "eDcR70tNZ9oh",
    "outputId": "85544d3e-82ef-4c00-b087-3a9cde733fc7"
   },
   "outputs": [
    {
     "name": "stderr",
     "output_type": "stream",
     "text": [
      "[nltk_data] Downloading package stopwords to /home/msc2/nltk_data...\n",
      "[nltk_data]   Unzipping corpora/stopwords.zip.\n"
     ]
    },
    {
     "data": {
      "text/plain": [
       "True"
      ]
     },
     "execution_count": 16,
     "metadata": {},
     "output_type": "execute_result"
    }
   ],
   "source": [
    "import re\n",
    "import nltk\n",
    "from nltk.corpus import stopwords\n",
    "from nltk.stem import PorterStemmer, LancasterStemmer\n",
    "from imblearn.under_sampling import RandomUnderSampler\n",
    "import string\n",
    "nltk.download('stopwords')"
   ]
  },
  {
   "cell_type": "code",
   "execution_count": 18,
   "metadata": {
    "id": "lkjWqKQfaMJL"
   },
   "outputs": [],
   "source": [
    "def clean(text):\n",
    "    text = text.lower()\n",
    "    text = re.sub('\\[.*?\\]', '', text)\n",
    "    text = re.sub('[%s]' % re.escape(string.punctuation), '', text)\n",
    "    text = re.sub('\\w*\\d\\w*', '', text)\n",
    "    text = re.sub('[\"\"''_]', '', text)\n",
    "    text = re.sub('\\n', '', text)\n",
    "    return text\n",
    "\n",
    "def decontract_text(text):\n",
    "    text = re.sub(r\"won\\'t\", \"will not\", text)\n",
    "    text = re.sub(r\"can\\'t\", \"can not\", text)\n",
    "    text = re.sub(r\"won\\’t\", \"will not\", text)\n",
    "    text = re.sub(r\"can\\’t\", \"can not\", text)\n",
    "    text = re.sub(r\"\\'t've\", \" not have\", text)\n",
    "    text = re.sub(r\"\\'d've\", \" would have\", text)\n",
    "    text = re.sub(r\"\\'clock\", \"f the clock\", text)\n",
    "    text = re.sub(r\"\\'cause\", \" because\", text)\n",
    "    text = re.sub(r\"n\\'t\", \" not\", text)\n",
    "    text = re.sub(r\"\\'re\", \" are\", text)\n",
    "    text = re.sub(r\"\\'s\", \" is\", text)\n",
    "    text = re.sub(r\"\\'d\", \" would\", text)\n",
    "    text = re.sub(r\"\\'ll\", \" will\", text)\n",
    "    text = re.sub(r\"\\'t\", \" not\", text)\n",
    "    text = re.sub(r\"\\'ve\", \" have\", text)\n",
    "    text = re.sub(r\"\\'m\", \" am\", text)\n",
    "    text = re.sub(r\"n\\’t\", \" not\", text)\n",
    "    text = re.sub(r\"\\’re\", \" are\", text)\n",
    "    text = re.sub(r\"\\’s\", \" is\", text)\n",
    "    text = re.sub(r\"\\’d\", \" would\", text)\n",
    "    text = re.sub(r\"\\’ll\", \" will\", text)\n",
    "    text = re.sub(r\"\\’t\", \" not\", text)\n",
    "    text = re.sub(r\"\\’ve\", \" have\", text)\n",
    "    text = re.sub(r\"\\’m\", \" am\", text)\n",
    "    return text\n",
    "\n",
    "def final_clean(text):\n",
    "    text = re.sub('[^a-zA-Z]', ' ', text)\n",
    "    stop = set(stopwords.words('english'))\n",
    "    filtered_words = [word for word in text.split() if word not in stop]\n",
    "    ps = LancasterStemmer()\n",
    "    text = [ps.stem(word) for word in filtered_words]\n",
    "    text = ' '.join(text)\n",
    "    return text"
   ]
  },
  {
   "cell_type": "code",
   "execution_count": 19,
   "metadata": {
    "id": "9aTCC7lgaNjT"
   },
   "outputs": [],
   "source": [
    "data['review'] = data['review'].apply(lambda text: decontract_text(text))\n",
    "data['review'] = data['review'].apply(lambda text: clean(text))\n",
    "data['review'] = data['review'].apply(lambda text: final_clean(text))"
   ]
  },
  {
   "cell_type": "code",
   "execution_count": 20,
   "metadata": {
    "colab": {
     "base_uri": "https://localhost:8080/"
    },
    "id": "FztnovNyaWxJ",
    "outputId": "71cabb48-787e-41ec-ce22-12ff40d081fe"
   },
   "outputs": [
    {
     "data": {
      "text/plain": [
       "0       fin lifesp year gre year mic headphon stop wor...\n",
       "1       pric point headphon gre steal us headphon dai ...\n",
       "2       best expery ev headphon us til sup sound qual ...\n",
       "3                                             overal good\n",
       "4                                     bass qual sound gre\n",
       "                              ...                        \n",
       "2092              produc qual got fail within three month\n",
       "2093    first produc defect replac got nic produc got ...\n",
       "2094    poor connect nee toggl connect jack rep okay l...\n",
       "2095    overal produc good nic sound qual jack good us...\n",
       "2096                             originalit duply orgvert\n",
       "Name: review, Length: 1963, dtype: object"
      ]
     },
     "execution_count": 20,
     "metadata": {},
     "output_type": "execute_result"
    }
   ],
   "source": [
    "data['review']"
   ]
  },
  {
   "cell_type": "code",
   "execution_count": 21,
   "metadata": {
    "colab": {
     "base_uri": "https://localhost:8080/"
    },
    "id": "XSs-VY1LaYvt",
    "outputId": "80117004-5f9f-4b2b-816c-69eb9a529a00"
   },
   "outputs": [
    {
     "data": {
      "text/plain": [
       "<1963x3368 sparse matrix of type '<class 'numpy.int64'>'\n",
       "\twith 26320 stored elements in Compressed Sparse Row format>"
      ]
     },
     "execution_count": 21,
     "metadata": {},
     "output_type": "execute_result"
    }
   ],
   "source": [
    "vec = CountVectorizer()\n",
    "X = vec.fit_transform(data[\"review\"])\n",
    "X"
   ]
  },
  {
   "cell_type": "code",
   "execution_count": 22,
   "metadata": {
    "id": "egz3PFLfaf8q"
   },
   "outputs": [],
   "source": [
    "df = pd.DataFrame(X.toarray(),columns=vec.get_feature_names_out())"
   ]
  },
  {
   "cell_type": "code",
   "execution_count": 23,
   "metadata": {
    "colab": {
     "base_uri": "https://localhost:8080/"
    },
    "id": "FRpp9ERdbHQS",
    "outputId": "f22f1518-4b84-4582-c03f-378852064979"
   },
   "outputs": [
    {
     "data": {
      "text/plain": [
       "4    678\n",
       "3    597\n",
       "5    435\n",
       "2    140\n",
       "1    113\n",
       "Name: rating, dtype: int64"
      ]
     },
     "execution_count": 23,
     "metadata": {},
     "output_type": "execute_result"
    }
   ],
   "source": [
    "data['rating'].value_counts()"
   ]
  },
  {
   "cell_type": "code",
   "execution_count": 24,
   "metadata": {
    "id": "C8PeHRcq2HHI"
   },
   "outputs": [],
   "source": [
    "data['sentiment'] = data['rating'].apply(lambda x: 1 if x>3 else 0)"
   ]
  },
  {
   "cell_type": "code",
   "execution_count": 25,
   "metadata": {
    "colab": {
     "base_uri": "https://localhost:8080/",
     "height": 424
    },
    "id": "P__kY5Mi2XDB",
    "outputId": "b1debf54-798f-4d1c-d12b-de7e11c66700"
   },
   "outputs": [
    {
     "data": {
      "text/html": [
       "<div>\n",
       "<style scoped>\n",
       "    .dataframe tbody tr th:only-of-type {\n",
       "        vertical-align: middle;\n",
       "    }\n",
       "\n",
       "    .dataframe tbody tr th {\n",
       "        vertical-align: top;\n",
       "    }\n",
       "\n",
       "    .dataframe thead th {\n",
       "        text-align: right;\n",
       "    }\n",
       "</style>\n",
       "<table border=\"1\" class=\"dataframe\">\n",
       "  <thead>\n",
       "    <tr style=\"text-align: right;\">\n",
       "      <th></th>\n",
       "      <th>review</th>\n",
       "      <th>rating</th>\n",
       "      <th>sentiment</th>\n",
       "    </tr>\n",
       "  </thead>\n",
       "  <tbody>\n",
       "    <tr>\n",
       "      <th>0</th>\n",
       "      <td>fin lifesp year gre year mic headphon stop wor...</td>\n",
       "      <td>4</td>\n",
       "      <td>1</td>\n",
       "    </tr>\n",
       "    <tr>\n",
       "      <th>1</th>\n",
       "      <td>pric point headphon gre steal us headphon dai ...</td>\n",
       "      <td>4</td>\n",
       "      <td>1</td>\n",
       "    </tr>\n",
       "    <tr>\n",
       "      <th>2</th>\n",
       "      <td>best expery ev headphon us til sup sound qual ...</td>\n",
       "      <td>4</td>\n",
       "      <td>1</td>\n",
       "    </tr>\n",
       "    <tr>\n",
       "      <th>3</th>\n",
       "      <td>overal good</td>\n",
       "      <td>4</td>\n",
       "      <td>1</td>\n",
       "    </tr>\n",
       "    <tr>\n",
       "      <th>4</th>\n",
       "      <td>bass qual sound gre</td>\n",
       "      <td>4</td>\n",
       "      <td>1</td>\n",
       "    </tr>\n",
       "    <tr>\n",
       "      <th>...</th>\n",
       "      <td>...</td>\n",
       "      <td>...</td>\n",
       "      <td>...</td>\n",
       "    </tr>\n",
       "    <tr>\n",
       "      <th>2092</th>\n",
       "      <td>produc qual got fail within three month</td>\n",
       "      <td>2</td>\n",
       "      <td>0</td>\n",
       "    </tr>\n",
       "    <tr>\n",
       "      <th>2093</th>\n",
       "      <td>first produc defect replac got nic produc got ...</td>\n",
       "      <td>3</td>\n",
       "      <td>0</td>\n",
       "    </tr>\n",
       "    <tr>\n",
       "      <th>2094</th>\n",
       "      <td>poor connect nee toggl connect jack rep okay l...</td>\n",
       "      <td>2</td>\n",
       "      <td>0</td>\n",
       "    </tr>\n",
       "    <tr>\n",
       "      <th>2095</th>\n",
       "      <td>overal produc good nic sound qual jack good us...</td>\n",
       "      <td>3</td>\n",
       "      <td>0</td>\n",
       "    </tr>\n",
       "    <tr>\n",
       "      <th>2096</th>\n",
       "      <td>originalit duply orgvert</td>\n",
       "      <td>2</td>\n",
       "      <td>0</td>\n",
       "    </tr>\n",
       "  </tbody>\n",
       "</table>\n",
       "<p>1963 rows × 3 columns</p>\n",
       "</div>"
      ],
      "text/plain": [
       "                                                 review  rating  sentiment\n",
       "0     fin lifesp year gre year mic headphon stop wor...       4          1\n",
       "1     pric point headphon gre steal us headphon dai ...       4          1\n",
       "2     best expery ev headphon us til sup sound qual ...       4          1\n",
       "3                                           overal good       4          1\n",
       "4                                   bass qual sound gre       4          1\n",
       "...                                                 ...     ...        ...\n",
       "2092            produc qual got fail within three month       2          0\n",
       "2093  first produc defect replac got nic produc got ...       3          0\n",
       "2094  poor connect nee toggl connect jack rep okay l...       2          0\n",
       "2095  overal produc good nic sound qual jack good us...       3          0\n",
       "2096                           originalit duply orgvert       2          0\n",
       "\n",
       "[1963 rows x 3 columns]"
      ]
     },
     "execution_count": 25,
     "metadata": {},
     "output_type": "execute_result"
    }
   ],
   "source": [
    "data"
   ]
  },
  {
   "cell_type": "code",
   "execution_count": 26,
   "metadata": {
    "colab": {
     "base_uri": "https://localhost:8080/"
    },
    "id": "sol8ppAf2Y8D",
    "outputId": "2c586a8e-13fa-4e72-d468-204cb6fe2fc8"
   },
   "outputs": [
    {
     "data": {
      "text/plain": [
       "1    1113\n",
       "0     850\n",
       "Name: sentiment, dtype: int64"
      ]
     },
     "execution_count": 26,
     "metadata": {},
     "output_type": "execute_result"
    }
   ],
   "source": [
    "data['sentiment'].value_counts()"
   ]
  },
  {
   "cell_type": "code",
   "execution_count": 27,
   "metadata": {
    "id": "w8p-KwWu2l-C"
   },
   "outputs": [],
   "source": [
    "y = data['sentiment']"
   ]
  },
  {
   "cell_type": "code",
   "execution_count": 28,
   "metadata": {
    "id": "vAyLtHlVasSX"
   },
   "outputs": [],
   "source": [
    "Xtrain, Xtest, ytrain, ytest = train_test_split(df,y,test_size=0.3, stratify = y)"
   ]
  },
  {
   "cell_type": "code",
   "execution_count": 29,
   "metadata": {
    "colab": {
     "base_uri": "https://localhost:8080/"
    },
    "id": "qMoPDi1cSFu3",
    "outputId": "a82a20be-8e41-47cd-a438-7d05337324ab"
   },
   "outputs": [
    {
     "name": "stdout",
     "output_type": "stream",
     "text": [
      "1    779\n",
      "0    595\n",
      "Name: sentiment, dtype: int64\n",
      "1    334\n",
      "0    255\n",
      "Name: sentiment, dtype: int64\n"
     ]
    }
   ],
   "source": [
    "print(ytrain.value_counts())\n",
    "print(ytest.value_counts())"
   ]
  },
  {
   "cell_type": "code",
   "execution_count": 30,
   "metadata": {
    "colab": {
     "base_uri": "https://localhost:8080/"
    },
    "id": "xrBZid42fLee",
    "outputId": "29caef21-7b54-46db-d791-97c9c4e06565"
   },
   "outputs": [
    {
     "name": "stdout",
     "output_type": "stream",
     "text": [
      "(1374, 3368) (589, 3368)\n",
      "(1374,) (589,)\n"
     ]
    }
   ],
   "source": [
    "print(Xtrain.shape, Xtest.shape)\n",
    "print(ytrain.shape, ytest.shape)"
   ]
  },
  {
   "cell_type": "code",
   "execution_count": 31,
   "metadata": {
    "id": "RNccTTFdgIVR"
   },
   "outputs": [],
   "source": [
    "def print_acc(Ptrain,Ptest,ytrain,ytest):\n",
    "    print('------------------------------------------------------------------------------|')\n",
    "    print(f'|  Training Accuracy \\n| {classification_report(ytrain, Ptrain)} |')\n",
    "    #print('------------------------------------------------------------------------------|')\n",
    "    #print(f'|  Test Accuracy     \\n| {classification_report(ytest, Ptest)} |')\n",
    "    print('------------------------------------------------------------------------------|')\n",
    "\n",
    "def gen_conf(actual,pred):\n",
    "    classes = [0,1]\n",
    "    cm = confusion_matrix(actual,pred, labels=classes)\n",
    "    sn.heatmap(cm, annot=True)\n",
    "    plt.title(\"Confusion matrix\")\n",
    "    plt.show()"
   ]
  },
  {
   "cell_type": "code",
   "execution_count": 32,
   "metadata": {
    "colab": {
     "base_uri": "https://localhost:8080/",
     "height": 570
    },
    "id": "jzhblDu1Vx8G",
    "outputId": "1bf1110f-8d20-4541-8547-95e27a21f875"
   },
   "outputs": [
    {
     "name": "stdout",
     "output_type": "stream",
     "text": [
      "------------------------------------------------------------------------------|\n",
      "|  Training Accuracy \n",
      "|               precision    recall  f1-score   support\n",
      "\n",
      "           0       0.88      0.83      0.85       595\n",
      "           1       0.87      0.91      0.89       779\n",
      "\n",
      "    accuracy                           0.87      1374\n",
      "   macro avg       0.87      0.87      0.87      1374\n",
      "weighted avg       0.87      0.87      0.87      1374\n",
      " |\n",
      "------------------------------------------------------------------------------|\n"
     ]
    },
    {
     "data": {
      "image/png": "[encoded data removed]",
      "text/plain": [
       "<Figure size 432x288 with 2 Axes>"
      ]
     },
     "metadata": {
      "needs_background": "light"
     },
     "output_type": "display_data"
    }
   ],
   "source": [
    "clf = svm.SVC(class_weight = 'balanced')\n",
    "clf.fit(Xtrain, ytrain)\n",
    "trpred = clf.predict(Xtrain)\n",
    "tpred = clf.predict(Xtest)\n",
    "print_acc(trpred, tpred, ytrain, ytest)\n",
    "gen_conf(ytrain, trpred)"
   ]
  },
  {
   "cell_type": "code",
   "execution_count": 33,
   "metadata": {
    "colab": {
     "base_uri": "https://localhost:8080/",
     "height": 570
    },
    "id": "Zv42_UJ9YWpB",
    "outputId": "bbc49a99-7726-41d5-98ef-870bd415430e"
   },
   "outputs": [
    {
     "name": "stdout",
     "output_type": "stream",
     "text": [
      "------------------------------------------------------------------------------|\n",
      "|  Training Accuracy \n",
      "|               precision    recall  f1-score   support\n",
      "\n",
      "           0       0.61      1.00      0.76       595\n",
      "           1       1.00      0.52      0.69       779\n",
      "\n",
      "    accuracy                           0.73      1374\n",
      "   macro avg       0.81      0.76      0.72      1374\n",
      "weighted avg       0.83      0.73      0.72      1374\n",
      " |\n",
      "------------------------------------------------------------------------------|\n"
     ]
    },
    {
     "data": {
      "image/png": "[encoded data removed]",
      "text/plain": [
       "<Figure size 432x288 with 2 Axes>"
      ]
     },
     "metadata": {
      "needs_background": "light"
     },
     "output_type": "display_data"
    }
   ],
   "source": [
    "gnb = GaussianNB()\n",
    "gnb.fit(Xtrain, ytrain)\n",
    "trpred = gnb.predict(Xtrain)\n",
    "tpred = gnb.predict(Xtest)\n",
    "print_acc(trpred, tpred, ytrain, ytest)\n",
    "gen_conf(ytrain, trpred)"
   ]
  },
  {
   "cell_type": "code",
   "execution_count": 34,
   "metadata": {
    "colab": {
     "base_uri": "https://localhost:8080/",
     "height": 570
    },
    "id": "gV-Gw2GnZ04w",
    "outputId": "5bb5bfd5-60ce-4192-c9ce-19ef062c778a"
   },
   "outputs": [
    {
     "name": "stdout",
     "output_type": "stream",
     "text": [
      "------------------------------------------------------------------------------|\n",
      "|  Training Accuracy \n",
      "|               precision    recall  f1-score   support\n",
      "\n",
      "           0       0.88      0.73      0.80       595\n",
      "           1       0.82      0.92      0.87       779\n",
      "\n",
      "    accuracy                           0.84      1374\n",
      "   macro avg       0.85      0.83      0.83      1374\n",
      "weighted avg       0.84      0.84      0.84      1374\n",
      " |\n",
      "------------------------------------------------------------------------------|\n"
     ]
    },
    {
     "data": {
      "image/png": "[encoded data removed]",
      "text/plain": [
       "<Figure size 432x288 with 2 Axes>"
      ]
     },
     "metadata": {
      "needs_background": "light"
     },
     "output_type": "display_data"
    }
   ],
   "source": [
    "mnb = MultinomialNB()\n",
    "mnb.fit(Xtrain, ytrain)\n",
    "trpred = mnb.predict(Xtrain)\n",
    "tpred = mnb.predict(Xtest)\n",
    "print_acc(trpred, tpred, ytrain, ytest)\n",
    "gen_conf(ytrain, trpred)"
   ]
  },
  {
   "cell_type": "code",
   "execution_count": 35,
   "metadata": {
    "colab": {
     "base_uri": "https://localhost:8080/",
     "height": 570
    },
    "id": "L4OyMYxTZ4tG",
    "outputId": "7e994cbc-1d29-4ed7-b22e-b8eddef85025"
   },
   "outputs": [
    {
     "name": "stdout",
     "output_type": "stream",
     "text": [
      "------------------------------------------------------------------------------|\n",
      "|  Training Accuracy \n",
      "|               precision    recall  f1-score   support\n",
      "\n",
      "           0       0.98      0.97      0.98       595\n",
      "           1       0.98      0.99      0.98       779\n",
      "\n",
      "    accuracy                           0.98      1374\n",
      "   macro avg       0.98      0.98      0.98      1374\n",
      "weighted avg       0.98      0.98      0.98      1374\n",
      " |\n",
      "------------------------------------------------------------------------------|\n"
     ]
    },
    {
     "data": {
      "image/png": "[encoded data removed]",
      "text/plain": [
       "<Figure size 432x288 with 2 Axes>"
      ]
     },
     "metadata": {
      "needs_background": "light"
     },
     "output_type": "display_data"
    }
   ],
   "source": [
    "dtc = DecisionTreeClassifier()\n",
    "dtc.fit(Xtrain, ytrain)\n",
    "trpred = dtc.predict(Xtrain)\n",
    "tpred = dtc.predict(Xtest)\n",
    "print_acc(trpred, tpred, ytrain, ytest)\n",
    "gen_conf(ytrain, trpred)"
   ]
  },
  {
   "cell_type": "code",
   "execution_count": 36,
   "metadata": {
    "colab": {
     "base_uri": "https://localhost:8080/",
     "height": 570
    },
    "id": "mC1h9zMFaxzx",
    "outputId": "88c59ba2-3c52-4cd0-fb8c-c31c64fba126"
   },
   "outputs": [
    {
     "name": "stdout",
     "output_type": "stream",
     "text": [
      "------------------------------------------------------------------------------|\n",
      "|  Training Accuracy \n",
      "|               precision    recall  f1-score   support\n",
      "\n",
      "           0       0.75      0.49      0.59       595\n",
      "           1       0.69      0.88      0.77       779\n",
      "\n",
      "    accuracy                           0.71      1374\n",
      "   macro avg       0.72      0.68      0.68      1374\n",
      "weighted avg       0.72      0.71      0.70      1374\n",
      " |\n",
      "------------------------------------------------------------------------------|\n"
     ]
    },
    {
     "name": "stderr",
     "output_type": "stream",
     "text": [
      "/home/msc2/Jupyter/jupyterenv/lib/python3.8/site-packages/sklearn/neighbors/_classification.py:237: FutureWarning: Unlike other reduction functions (e.g. `skew`, `kurtosis`), the default behavior of `mode` typically preserves the axis it acts along. In SciPy 1.11.0, this behavior will change: the default value of `keepdims` will become False, the `axis` over which the statistic is taken will be eliminated, and the value None will no longer be accepted. Set `keepdims` to True or False to avoid this warning.\n",
      "  mode, _ = stats.mode(_y[neigh_ind, k], axis=1)\n",
      "/home/msc2/Jupyter/jupyterenv/lib/python3.8/site-packages/sklearn/neighbors/_classification.py:237: FutureWarning: Unlike other reduction functions (e.g. `skew`, `kurtosis`), the default behavior of `mode` typically preserves the axis it acts along. In SciPy 1.11.0, this behavior will change: the default value of `keepdims` will become False, the `axis` over which the statistic is taken will be eliminated, and the value None will no longer be accepted. Set `keepdims` to True or False to avoid this warning.\n",
      "  mode, _ = stats.mode(_y[neigh_ind, k], axis=1)\n"
     ]
    },
    {
     "data": {
      "image/png": "[encoded data removed]",
      "text/plain": [
       "<Figure size 432x288 with 2 Axes>"
      ]
     },
     "metadata": {
      "needs_background": "light"
     },
     "output_type": "display_data"
    }
   ],
   "source": [
    "knn = KNeighborsClassifier()\n",
    "knn.fit(Xtrain, ytrain)\n",
    "trpred = knn.predict(Xtrain)\n",
    "tpred = knn.predict(Xtest)\n",
    "print_acc(trpred, tpred, ytrain, ytest)\n",
    "gen_conf(ytrain, trpred)"
   ]
  },
  {
   "cell_type": "code",
   "execution_count": 37,
   "metadata": {
    "colab": {
     "base_uri": "https://localhost:8080/",
     "height": 570
    },
    "id": "gGXosqf6a07r",
    "outputId": "4530a0b2-2ac3-4357-8259-c2b56cf3e3ba"
   },
   "outputs": [
    {
     "name": "stdout",
     "output_type": "stream",
     "text": [
      "------------------------------------------------------------------------------|\n",
      "|  Training Accuracy \n",
      "|               precision    recall  f1-score   support\n",
      "\n",
      "           0       0.97      0.35      0.51       595\n",
      "           1       0.67      0.99      0.80       779\n",
      "\n",
      "    accuracy                           0.71      1374\n",
      "   macro avg       0.82      0.67      0.65      1374\n",
      "weighted avg       0.80      0.71      0.67      1374\n",
      " |\n",
      "------------------------------------------------------------------------------|\n"
     ]
    },
    {
     "data": {
      "image/png": "[encoded data removed]",
      "text/plain": [
       "<Figure size 432x288 with 2 Axes>"
      ]
     },
     "metadata": {
      "needs_background": "light"
     },
     "output_type": "display_data"
    }
   ],
   "source": [
    "rfc = RandomForestClassifier(n_jobs = -1, max_depth = 10, n_estimators = 50)\n",
    "rfc.fit(Xtrain, ytrain)\n",
    "trpred = rfc.predict(Xtrain)\n",
    "tpred = rfc.predict(Xtest)\n",
    "print_acc(trpred, tpred, ytrain, ytest)\n",
    "gen_conf(ytrain, trpred)"
   ]
  },
  {
   "cell_type": "markdown",
   "metadata": {
    "id": "Z-1Yef6K7C1H"
   },
   "source": [
    "So, here we can see that the SVM and RandomForest classifiers are giving better results. "
   ]
  }
 ],
 "metadata": {
  "colab": {
   "collapsed_sections": [],
   "provenance": []
  },
  "kernelspec": {
   "display_name": "Python 3 (ipykernel)",
   "language": "python",
   "name": "python3"
  },
  "language_info": {
   "codemirror_mode": {
    "name": "ipython",
    "version": 3
   },
   "file_extension": ".py",
   "mimetype": "text/x-python",
   "name": "python",
   "nbconvert_exporter": "python",
   "pygments_lexer": "ipython3",
   "version": "3.8.10"
  }
 },
 "nbformat": 4,
 "nbformat_minor": 1
}
