{
  "nbformat": 4,
  "nbformat_minor": 0,
  "metadata": {
    "colab": {
      "provenance": [],
      "collapsed_sections": []
    },
    "kernelspec": {
      "name": "python3",
      "display_name": "Python 3"
    },
    "language_info": {
      "name": "python"
    }
  },
  "cells": [
    {
      "cell_type": "code",
      "source": [
        "import pandas as pd\n",
        "import numpy as np\n",
        "import sys\n",
        "from google.colab import drive\n",
        "drive.mount(f'/content/drive')\n",
        "sys.path.append('/content/drive/My Drive/Colab Notebooks/DL')"
      ],
      "metadata": {
        "colab": {
          "base_uri": "https://localhost:8080/"
        },
        "id": "JkA_n3UIYKO-",
        "outputId": "fb6467cc-f711-4dc5-87b1-2b869f8154e4"
      },
      "execution_count": 1,
      "outputs": [
        {
          "output_type": "stream",
          "name": "stdout",
          "text": [
            "Drive already mounted at /content/drive; to attempt to forcibly remount, call drive.mount(\"/content/drive\", force_remount=True).\n"
          ]
        }
      ]
    },
    {
      "cell_type": "code",
      "source": [
        "from sklearn.preprocessing import OrdinalEncoder\n",
        "from sklearn.compose import ColumnTransformer\n",
        "from sklearn.feature_extraction.text import TfidfVectorizer, CountVectorizer\n",
        "from sklearn.naive_bayes import GaussianNB, MultinomialNB\n",
        "from sklearn.metrics import classification_report, confusion_matrix, accuracy_score\n",
        "from sklearn.pipeline import Pipeline\n",
        "from sklearn.model_selection import train_test_split\n",
        "import matplotlib.pyplot as plt\n",
        "import seaborn as sn\n",
        "from sklearn.metrics import confusion_matrix\n",
        "from sklearn.linear_model import LogisticRegression\n",
        "from sklearn import svm\n",
        "from sklearn.tree import DecisionTreeClassifier\n",
        "from sklearn.ensemble import BaggingClassifier, RandomForestClassifier\n",
        "from sklearn.neighbors import KNeighborsClassifier\n",
        "import seaborn as sns\n",
        "import matplotlib.pyplot as plt\n",
        "plt.style.use('seaborn')"
      ],
      "metadata": {
        "id": "U2OVLL0w7Yh_"
      },
      "execution_count": 157,
      "outputs": []
    },
    {
      "cell_type": "code",
      "execution_count": 184,
      "metadata": {
        "id": "9p-ygvREXsgU"
      },
      "outputs": [],
      "source": [
        "# three datasets are imported because data was scraped three times in three different files.\n",
        "data = pd.read_csv('/content/drive/MyDrive/Colab Notebooks/Web Scraping/boat_bassheads900_reviews.csv')\n",
        "data1 = pd.read_csv('/content/drive/MyDrive/Colab Notebooks/Web Scraping/boat_bassheads900_reviews_1.csv')\n",
        "data2 = pd.read_csv('/content/drive/MyDrive/Colab Notebooks/Web Scraping/boat_bassheads900_reviews_2.csv')\n",
        "data3 = pd.read_csv('/content/drive/MyDrive/Colab Notebooks/Web Scraping/boat_bassheads900_reviews_3.csv')"
      ]
    },
    {
      "cell_type": "code",
      "source": [
        "# data = data.append(data1, ignore_index = True)\n",
        "# data = data.append(data2, ignore_index = True)\n",
        "# data = data.append(data3, ignore_index = True)"
      ],
      "metadata": {
        "id": "KNLYjswNdRFw"
      },
      "execution_count": 34,
      "outputs": []
    },
    {
      "cell_type": "code",
      "source": [
        "data = pd.concat([data, data1, data2, data3], ignore_index = True)"
      ],
      "metadata": {
        "id": "jZQK9taRoarQ"
      },
      "execution_count": 185,
      "outputs": []
    },
    {
      "cell_type": "code",
      "source": [
        "data['rating'].value_counts()"
      ],
      "metadata": {
        "colab": {
          "base_uri": "https://localhost:8080/"
        },
        "id": "P7jlIuIhonUm",
        "outputId": "c0570f60-49e8-4070-df1d-448821cab27a"
      },
      "execution_count": 186,
      "outputs": [
        {
          "output_type": "execute_result",
          "data": {
            "text/plain": [
              "4.0 out of 5 stars    753\n",
              "3.0 out of 5 stars    615\n",
              "5.0 out of 5 stars    475\n",
              "2.0 out of 5 stars    140\n",
              "1.0 out of 5 stars    114\n",
              "Name: rating, dtype: int64"
            ]
          },
          "metadata": {},
          "execution_count": 186
        }
      ]
    },
    {
      "cell_type": "code",
      "source": [
        "data.duplicated().sum()"
      ],
      "metadata": {
        "colab": {
          "base_uri": "https://localhost:8080/"
        },
        "id": "0uhq1Kd5o0Uq",
        "outputId": "ac34075c-9d57-4bd5-e8e9-1bd94f7b2614"
      },
      "execution_count": 187,
      "outputs": [
        {
          "output_type": "execute_result",
          "data": {
            "text/plain": [
              "134"
            ]
          },
          "metadata": {},
          "execution_count": 187
        }
      ]
    },
    {
      "cell_type": "code",
      "source": [
        "data = data.drop_duplicates()"
      ],
      "metadata": {
        "id": "O2aboTbspBZI"
      },
      "execution_count": 188,
      "outputs": []
    },
    {
      "cell_type": "code",
      "source": [
        "data['rating'].value_counts()"
      ],
      "metadata": {
        "colab": {
          "base_uri": "https://localhost:8080/"
        },
        "id": "8O_SpZT2pJ0E",
        "outputId": "54e9e19b-60e1-4589-97d0-aa2fd14c312d"
      },
      "execution_count": 189,
      "outputs": [
        {
          "output_type": "execute_result",
          "data": {
            "text/plain": [
              "4.0 out of 5 stars    678\n",
              "3.0 out of 5 stars    597\n",
              "5.0 out of 5 stars    435\n",
              "2.0 out of 5 stars    140\n",
              "1.0 out of 5 stars    113\n",
              "Name: rating, dtype: int64"
            ]
          },
          "metadata": {},
          "execution_count": 189
        }
      ]
    },
    {
      "cell_type": "code",
      "source": [
        "data['rating'] = data['rating'].apply(lambda x: x.split()[0].split('.')[0])"
      ],
      "metadata": {
        "id": "k_7wsG9nZaMa"
      },
      "execution_count": 190,
      "outputs": []
    },
    {
      "cell_type": "code",
      "source": [
        "data['rating']"
      ],
      "metadata": {
        "colab": {
          "base_uri": "https://localhost:8080/"
        },
        "id": "emjsPksmGDGf",
        "outputId": "e88ddf03-b1a7-4c69-8fb7-bd46921a9680"
      },
      "execution_count": 191,
      "outputs": [
        {
          "output_type": "execute_result",
          "data": {
            "text/plain": [
              "0       4\n",
              "1       4\n",
              "2       4\n",
              "3       4\n",
              "4       4\n",
              "       ..\n",
              "2092    2\n",
              "2093    3\n",
              "2094    2\n",
              "2095    3\n",
              "2096    2\n",
              "Name: rating, Length: 1963, dtype: object"
            ]
          },
          "metadata": {},
          "execution_count": 191
        }
      ]
    },
    {
      "cell_type": "code",
      "source": [
        "data = data.astype({'rating':'int64'})"
      ],
      "metadata": {
        "id": "vyulSYZjZkR8"
      },
      "execution_count": 192,
      "outputs": []
    },
    {
      "cell_type": "code",
      "source": [
        "ndf = data.copy()"
      ],
      "metadata": {
        "id": "Mg8bRMSiGS5w"
      },
      "execution_count": 193,
      "outputs": []
    },
    {
      "cell_type": "code",
      "source": [
        "data.info()"
      ],
      "metadata": {
        "colab": {
          "base_uri": "https://localhost:8080/"
        },
        "id": "o6C0HbAwZk70",
        "outputId": "546e4c16-7b34-415d-f7c4-61e24fb6a342"
      },
      "execution_count": 194,
      "outputs": [
        {
          "output_type": "stream",
          "name": "stdout",
          "text": [
            "<class 'pandas.core.frame.DataFrame'>\n",
            "Int64Index: 1963 entries, 0 to 2096\n",
            "Data columns (total 2 columns):\n",
            " #   Column  Non-Null Count  Dtype \n",
            "---  ------  --------------  ----- \n",
            " 0   review  1963 non-null   object\n",
            " 1   rating  1963 non-null   int64 \n",
            "dtypes: int64(1), object(1)\n",
            "memory usage: 46.0+ KB\n"
          ]
        }
      ]
    },
    {
      "cell_type": "code",
      "source": [
        "data.head()"
      ],
      "metadata": {
        "colab": {
          "base_uri": "https://localhost:8080/",
          "height": 206
        },
        "id": "muYVNNscgavR",
        "outputId": "1499baf0-8beb-40ad-9446-5302b95916ea"
      },
      "execution_count": 195,
      "outputs": [
        {
          "output_type": "execute_result",
          "data": {
            "text/plain": [
              "                                              review  rating\n",
              "0  Its just fine and has lifespan of 1 year only ...       4\n",
              "1  For this price point ,this headphone is a grea...       4\n",
              "2  Best experience ever in headphones I’ve used t...       4\n",
              "3                                    overall is good       4\n",
              "4                    Bass Quality and sound is great       4"
            ],
            "text/html": [
              "\n",
              "  <div id=\"df-47b2bd42-a636-463c-9de8-659e3cfd4bb9\">\n",
              "    <div class=\"colab-df-container\">\n",
              "      <div>\n",
              "<style scoped>\n",
              "    .dataframe tbody tr th:only-of-type {\n",
              "        vertical-align: middle;\n",
              "    }\n",
              "\n",
              "    .dataframe tbody tr th {\n",
              "        vertical-align: top;\n",
              "    }\n",
              "\n",
              "    .dataframe thead th {\n",
              "        text-align: right;\n",
              "    }\n",
              "</style>\n",
              "<table border=\"1\" class=\"dataframe\">\n",
              "  <thead>\n",
              "    <tr style=\"text-align: right;\">\n",
              "      <th></th>\n",
              "      <th>review</th>\n",
              "      <th>rating</th>\n",
              "    </tr>\n",
              "  </thead>\n",
              "  <tbody>\n",
              "    <tr>\n",
              "      <th>0</th>\n",
              "      <td>Its just fine and has lifespan of 1 year only ...</td>\n",
              "      <td>4</td>\n",
              "    </tr>\n",
              "    <tr>\n",
              "      <th>1</th>\n",
              "      <td>For this price point ,this headphone is a grea...</td>\n",
              "      <td>4</td>\n",
              "    </tr>\n",
              "    <tr>\n",
              "      <th>2</th>\n",
              "      <td>Best experience ever in headphones I’ve used t...</td>\n",
              "      <td>4</td>\n",
              "    </tr>\n",
              "    <tr>\n",
              "      <th>3</th>\n",
              "      <td>overall is good</td>\n",
              "      <td>4</td>\n",
              "    </tr>\n",
              "    <tr>\n",
              "      <th>4</th>\n",
              "      <td>Bass Quality and sound is great</td>\n",
              "      <td>4</td>\n",
              "    </tr>\n",
              "  </tbody>\n",
              "</table>\n",
              "</div>\n",
              "      <button class=\"colab-df-convert\" onclick=\"convertToInteractive('df-47b2bd42-a636-463c-9de8-659e3cfd4bb9')\"\n",
              "              title=\"Convert this dataframe to an interactive table.\"\n",
              "              style=\"display:none;\">\n",
              "        \n",
              "  <svg xmlns=\"http://www.w3.org/2000/svg\" height=\"24px\"viewBox=\"0 0 24 24\"\n",
              "       width=\"24px\">\n",
              "    <path d=\"M0 0h24v24H0V0z\" fill=\"none\"/>\n",
              "    <path d=\"M18.56 5.44l.94 2.06.94-2.06 2.06-.94-2.06-.94-.94-2.06-.94 2.06-2.06.94zm-11 1L8.5 8.5l.94-2.06 2.06-.94-2.06-.94L8.5 2.5l-.94 2.06-2.06.94zm10 10l.94 2.06.94-2.06 2.06-.94-2.06-.94-.94-2.06-.94 2.06-2.06.94z\"/><path d=\"M17.41 7.96l-1.37-1.37c-.4-.4-.92-.59-1.43-.59-.52 0-1.04.2-1.43.59L10.3 9.45l-7.72 7.72c-.78.78-.78 2.05 0 2.83L4 21.41c.39.39.9.59 1.41.59.51 0 1.02-.2 1.41-.59l7.78-7.78 2.81-2.81c.8-.78.8-2.07 0-2.86zM5.41 20L4 18.59l7.72-7.72 1.47 1.35L5.41 20z\"/>\n",
              "  </svg>\n",
              "      </button>\n",
              "      \n",
              "  <style>\n",
              "    .colab-df-container {\n",
              "      display:flex;\n",
              "      flex-wrap:wrap;\n",
              "      gap: 12px;\n",
              "    }\n",
              "\n",
              "    .colab-df-convert {\n",
              "      background-color: #E8F0FE;\n",
              "      border: none;\n",
              "      border-radius: 50%;\n",
              "      cursor: pointer;\n",
              "      display: none;\n",
              "      fill: #1967D2;\n",
              "      height: 32px;\n",
              "      padding: 0 0 0 0;\n",
              "      width: 32px;\n",
              "    }\n",
              "\n",
              "    .colab-df-convert:hover {\n",
              "      background-color: #E2EBFA;\n",
              "      box-shadow: 0px 1px 2px rgba(60, 64, 67, 0.3), 0px 1px 3px 1px rgba(60, 64, 67, 0.15);\n",
              "      fill: #174EA6;\n",
              "    }\n",
              "\n",
              "    [theme=dark] .colab-df-convert {\n",
              "      background-color: #3B4455;\n",
              "      fill: #D2E3FC;\n",
              "    }\n",
              "\n",
              "    [theme=dark] .colab-df-convert:hover {\n",
              "      background-color: #434B5C;\n",
              "      box-shadow: 0px 1px 3px 1px rgba(0, 0, 0, 0.15);\n",
              "      filter: drop-shadow(0px 1px 2px rgba(0, 0, 0, 0.3));\n",
              "      fill: #FFFFFF;\n",
              "    }\n",
              "  </style>\n",
              "\n",
              "      <script>\n",
              "        const buttonEl =\n",
              "          document.querySelector('#df-47b2bd42-a636-463c-9de8-659e3cfd4bb9 button.colab-df-convert');\n",
              "        buttonEl.style.display =\n",
              "          google.colab.kernel.accessAllowed ? 'block' : 'none';\n",
              "\n",
              "        async function convertToInteractive(key) {\n",
              "          const element = document.querySelector('#df-47b2bd42-a636-463c-9de8-659e3cfd4bb9');\n",
              "          const dataTable =\n",
              "            await google.colab.kernel.invokeFunction('convertToInteractive',\n",
              "                                                     [key], {});\n",
              "          if (!dataTable) return;\n",
              "\n",
              "          const docLinkHtml = 'Like what you see? Visit the ' +\n",
              "            '<a target=\"_blank\" href=https://colab.research.google.com/notebooks/data_table.ipynb>data table notebook</a>'\n",
              "            + ' to learn more about interactive tables.';\n",
              "          element.innerHTML = '';\n",
              "          dataTable['output_type'] = 'display_data';\n",
              "          await google.colab.output.renderOutput(dataTable, element);\n",
              "          const docLink = document.createElement('div');\n",
              "          docLink.innerHTML = docLinkHtml;\n",
              "          element.appendChild(docLink);\n",
              "        }\n",
              "      </script>\n",
              "    </div>\n",
              "  </div>\n",
              "  "
            ]
          },
          "metadata": {},
          "execution_count": 195
        }
      ]
    },
    {
      "cell_type": "code",
      "source": [
        "import re\n",
        "import nltk\n",
        "from nltk.corpus import stopwords\n",
        "from nltk.stem import PorterStemmer, LancasterStemmer\n",
        "from imblearn.under_sampling import RandomUnderSampler\n",
        "import string\n",
        "nltk.download('stopwords')"
      ],
      "metadata": {
        "colab": {
          "base_uri": "https://localhost:8080/"
        },
        "id": "eDcR70tNZ9oh",
        "outputId": "85544d3e-82ef-4c00-b087-3a9cde733fc7"
      },
      "execution_count": 196,
      "outputs": [
        {
          "output_type": "stream",
          "name": "stderr",
          "text": [
            "[nltk_data] Downloading package stopwords to /root/nltk_data...\n",
            "[nltk_data]   Package stopwords is already up-to-date!\n"
          ]
        },
        {
          "output_type": "execute_result",
          "data": {
            "text/plain": [
              "True"
            ]
          },
          "metadata": {},
          "execution_count": 196
        }
      ]
    },
    {
      "cell_type": "code",
      "source": [
        "def clean(text):\n",
        "    text = text.lower()\n",
        "    text = re.sub('\\[.*?\\]', '', text)\n",
        "    text = re.sub('[%s]' % re.escape(string.punctuation), '', text)\n",
        "    text = re.sub('\\w*\\d\\w*', '', text)\n",
        "    text = re.sub('[\"\"''_]', '', text)\n",
        "    text = re.sub('\\n', '', text)\n",
        "    return text\n",
        "\n",
        "def decontract_text(text):\n",
        "    text = re.sub(r\"won\\'t\", \"will not\", text)\n",
        "    text = re.sub(r\"can\\'t\", \"can not\", text)\n",
        "    text = re.sub(r\"won\\’t\", \"will not\", text)\n",
        "    text = re.sub(r\"can\\’t\", \"can not\", text)\n",
        "    text = re.sub(r\"\\'t've\", \" not have\", text)\n",
        "    text = re.sub(r\"\\'d've\", \" would have\", text)\n",
        "    text = re.sub(r\"\\'clock\", \"f the clock\", text)\n",
        "    text = re.sub(r\"\\'cause\", \" because\", text)\n",
        "    text = re.sub(r\"n\\'t\", \" not\", text)\n",
        "    text = re.sub(r\"\\'re\", \" are\", text)\n",
        "    text = re.sub(r\"\\'s\", \" is\", text)\n",
        "    text = re.sub(r\"\\'d\", \" would\", text)\n",
        "    text = re.sub(r\"\\'ll\", \" will\", text)\n",
        "    text = re.sub(r\"\\'t\", \" not\", text)\n",
        "    text = re.sub(r\"\\'ve\", \" have\", text)\n",
        "    text = re.sub(r\"\\'m\", \" am\", text)\n",
        "    text = re.sub(r\"n\\’t\", \" not\", text)\n",
        "    text = re.sub(r\"\\’re\", \" are\", text)\n",
        "    text = re.sub(r\"\\’s\", \" is\", text)\n",
        "    text = re.sub(r\"\\’d\", \" would\", text)\n",
        "    text = re.sub(r\"\\’ll\", \" will\", text)\n",
        "    text = re.sub(r\"\\’t\", \" not\", text)\n",
        "    text = re.sub(r\"\\’ve\", \" have\", text)\n",
        "    text = re.sub(r\"\\’m\", \" am\", text)\n",
        "    return text\n",
        "\n",
        "def final_clean(text):\n",
        "    text = re.sub('[^a-zA-Z]', ' ', text)\n",
        "    stop = set(stopwords.words('english'))\n",
        "    filtered_words = [word for word in text.split() if word not in stop]\n",
        "    ps = LancasterStemmer()\n",
        "    text = [ps.stem(word) for word in filtered_words]\n",
        "    text = ' '.join(text)\n",
        "    return text"
      ],
      "metadata": {
        "id": "lkjWqKQfaMJL"
      },
      "execution_count": 197,
      "outputs": []
    },
    {
      "cell_type": "code",
      "source": [
        "data['review'] = data['review'].apply(lambda text: decontract_text(text))\n",
        "data['review'] = data['review'].apply(lambda text: clean(text))\n",
        "data['review'] = data['review'].apply(lambda text: final_clean(text))"
      ],
      "metadata": {
        "id": "9aTCC7lgaNjT"
      },
      "execution_count": 198,
      "outputs": []
    },
    {
      "cell_type": "code",
      "source": [
        "data['review']"
      ],
      "metadata": {
        "colab": {
          "base_uri": "https://localhost:8080/"
        },
        "id": "FztnovNyaWxJ",
        "outputId": "71cabb48-787e-41ec-ce22-12ff40d081fe"
      },
      "execution_count": 199,
      "outputs": [
        {
          "output_type": "execute_result",
          "data": {
            "text/plain": [
              "0       fin lifesp year gre year mic headphon stop wor...\n",
              "1       pric point headphon gre steal us headphon dai ...\n",
              "2       best expery ev headphon us til sup sound qual ...\n",
              "3                                             overal good\n",
              "4                                     bass qual sound gre\n",
              "                              ...                        \n",
              "2092              produc qual got fail within three month\n",
              "2093    first produc defect replac got nic produc got ...\n",
              "2094    poor connect nee toggl connect jack rep okay l...\n",
              "2095    overal produc good nic sound qual jack good us...\n",
              "2096                             originalit duply orgvert\n",
              "Name: review, Length: 1963, dtype: object"
            ]
          },
          "metadata": {},
          "execution_count": 199
        }
      ]
    },
    {
      "cell_type": "code",
      "source": [
        "vec = CountVectorizer()\n",
        "X = vec.fit_transform(data[\"review\"])\n",
        "X"
      ],
      "metadata": {
        "colab": {
          "base_uri": "https://localhost:8080/"
        },
        "id": "XSs-VY1LaYvt",
        "outputId": "80117004-5f9f-4b2b-816c-69eb9a529a00"
      },
      "execution_count": 200,
      "outputs": [
        {
          "output_type": "execute_result",
          "data": {
            "text/plain": [
              "<1963x3368 sparse matrix of type '<class 'numpy.int64'>'\n",
              "\twith 26320 stored elements in Compressed Sparse Row format>"
            ]
          },
          "metadata": {},
          "execution_count": 200
        }
      ]
    },
    {
      "cell_type": "code",
      "source": [
        "df = pd.DataFrame(X.toarray(),columns=vec.get_feature_names_out())"
      ],
      "metadata": {
        "id": "egz3PFLfaf8q"
      },
      "execution_count": 201,
      "outputs": []
    },
    {
      "cell_type": "code",
      "source": [
        "data['rating'].value_counts()"
      ],
      "metadata": {
        "colab": {
          "base_uri": "https://localhost:8080/"
        },
        "id": "FRpp9ERdbHQS",
        "outputId": "f22f1518-4b84-4582-c03f-378852064979"
      },
      "execution_count": 202,
      "outputs": [
        {
          "output_type": "execute_result",
          "data": {
            "text/plain": [
              "4    678\n",
              "3    597\n",
              "5    435\n",
              "2    140\n",
              "1    113\n",
              "Name: rating, dtype: int64"
            ]
          },
          "metadata": {},
          "execution_count": 202
        }
      ]
    },
    {
      "cell_type": "code",
      "source": [
        "data['sentiment'] = data['rating'].apply(lambda x: 1 if x>3 else 0)"
      ],
      "metadata": {
        "id": "C8PeHRcq2HHI"
      },
      "execution_count": 203,
      "outputs": []
    },
    {
      "cell_type": "code",
      "source": [
        "data"
      ],
      "metadata": {
        "colab": {
          "base_uri": "https://localhost:8080/",
          "height": 424
        },
        "id": "P__kY5Mi2XDB",
        "outputId": "b1debf54-798f-4d1c-d12b-de7e11c66700"
      },
      "execution_count": 204,
      "outputs": [
        {
          "output_type": "execute_result",
          "data": {
            "text/plain": [
              "                                                 review  rating  sentiment\n",
              "0     fin lifesp year gre year mic headphon stop wor...       4          1\n",
              "1     pric point headphon gre steal us headphon dai ...       4          1\n",
              "2     best expery ev headphon us til sup sound qual ...       4          1\n",
              "3                                           overal good       4          1\n",
              "4                                   bass qual sound gre       4          1\n",
              "...                                                 ...     ...        ...\n",
              "2092            produc qual got fail within three month       2          0\n",
              "2093  first produc defect replac got nic produc got ...       3          0\n",
              "2094  poor connect nee toggl connect jack rep okay l...       2          0\n",
              "2095  overal produc good nic sound qual jack good us...       3          0\n",
              "2096                           originalit duply orgvert       2          0\n",
              "\n",
              "[1963 rows x 3 columns]"
            ],
            "text/html": [
              "\n",
              "  <div id=\"df-53641a05-5923-4165-bd07-0e5f1465d033\">\n",
              "    <div class=\"colab-df-container\">\n",
              "      <div>\n",
              "<style scoped>\n",
              "    .dataframe tbody tr th:only-of-type {\n",
              "        vertical-align: middle;\n",
              "    }\n",
              "\n",
              "    .dataframe tbody tr th {\n",
              "        vertical-align: top;\n",
              "    }\n",
              "\n",
              "    .dataframe thead th {\n",
              "        text-align: right;\n",
              "    }\n",
              "</style>\n",
              "<table border=\"1\" class=\"dataframe\">\n",
              "  <thead>\n",
              "    <tr style=\"text-align: right;\">\n",
              "      <th></th>\n",
              "      <th>review</th>\n",
              "      <th>rating</th>\n",
              "      <th>sentiment</th>\n",
              "    </tr>\n",
              "  </thead>\n",
              "  <tbody>\n",
              "    <tr>\n",
              "      <th>0</th>\n",
              "      <td>fin lifesp year gre year mic headphon stop wor...</td>\n",
              "      <td>4</td>\n",
              "      <td>1</td>\n",
              "    </tr>\n",
              "    <tr>\n",
              "      <th>1</th>\n",
              "      <td>pric point headphon gre steal us headphon dai ...</td>\n",
              "      <td>4</td>\n",
              "      <td>1</td>\n",
              "    </tr>\n",
              "    <tr>\n",
              "      <th>2</th>\n",
              "      <td>best expery ev headphon us til sup sound qual ...</td>\n",
              "      <td>4</td>\n",
              "      <td>1</td>\n",
              "    </tr>\n",
              "    <tr>\n",
              "      <th>3</th>\n",
              "      <td>overal good</td>\n",
              "      <td>4</td>\n",
              "      <td>1</td>\n",
              "    </tr>\n",
              "    <tr>\n",
              "      <th>4</th>\n",
              "      <td>bass qual sound gre</td>\n",
              "      <td>4</td>\n",
              "      <td>1</td>\n",
              "    </tr>\n",
              "    <tr>\n",
              "      <th>...</th>\n",
              "      <td>...</td>\n",
              "      <td>...</td>\n",
              "      <td>...</td>\n",
              "    </tr>\n",
              "    <tr>\n",
              "      <th>2092</th>\n",
              "      <td>produc qual got fail within three month</td>\n",
              "      <td>2</td>\n",
              "      <td>0</td>\n",
              "    </tr>\n",
              "    <tr>\n",
              "      <th>2093</th>\n",
              "      <td>first produc defect replac got nic produc got ...</td>\n",
              "      <td>3</td>\n",
              "      <td>0</td>\n",
              "    </tr>\n",
              "    <tr>\n",
              "      <th>2094</th>\n",
              "      <td>poor connect nee toggl connect jack rep okay l...</td>\n",
              "      <td>2</td>\n",
              "      <td>0</td>\n",
              "    </tr>\n",
              "    <tr>\n",
              "      <th>2095</th>\n",
              "      <td>overal produc good nic sound qual jack good us...</td>\n",
              "      <td>3</td>\n",
              "      <td>0</td>\n",
              "    </tr>\n",
              "    <tr>\n",
              "      <th>2096</th>\n",
              "      <td>originalit duply orgvert</td>\n",
              "      <td>2</td>\n",
              "      <td>0</td>\n",
              "    </tr>\n",
              "  </tbody>\n",
              "</table>\n",
              "<p>1963 rows × 3 columns</p>\n",
              "</div>\n",
              "      <button class=\"colab-df-convert\" onclick=\"convertToInteractive('df-53641a05-5923-4165-bd07-0e5f1465d033')\"\n",
              "              title=\"Convert this dataframe to an interactive table.\"\n",
              "              style=\"display:none;\">\n",
              "        \n",
              "  <svg xmlns=\"http://www.w3.org/2000/svg\" height=\"24px\"viewBox=\"0 0 24 24\"\n",
              "       width=\"24px\">\n",
              "    <path d=\"M0 0h24v24H0V0z\" fill=\"none\"/>\n",
              "    <path d=\"M18.56 5.44l.94 2.06.94-2.06 2.06-.94-2.06-.94-.94-2.06-.94 2.06-2.06.94zm-11 1L8.5 8.5l.94-2.06 2.06-.94-2.06-.94L8.5 2.5l-.94 2.06-2.06.94zm10 10l.94 2.06.94-2.06 2.06-.94-2.06-.94-.94-2.06-.94 2.06-2.06.94z\"/><path d=\"M17.41 7.96l-1.37-1.37c-.4-.4-.92-.59-1.43-.59-.52 0-1.04.2-1.43.59L10.3 9.45l-7.72 7.72c-.78.78-.78 2.05 0 2.83L4 21.41c.39.39.9.59 1.41.59.51 0 1.02-.2 1.41-.59l7.78-7.78 2.81-2.81c.8-.78.8-2.07 0-2.86zM5.41 20L4 18.59l7.72-7.72 1.47 1.35L5.41 20z\"/>\n",
              "  </svg>\n",
              "      </button>\n",
              "      \n",
              "  <style>\n",
              "    .colab-df-container {\n",
              "      display:flex;\n",
              "      flex-wrap:wrap;\n",
              "      gap: 12px;\n",
              "    }\n",
              "\n",
              "    .colab-df-convert {\n",
              "      background-color: #E8F0FE;\n",
              "      border: none;\n",
              "      border-radius: 50%;\n",
              "      cursor: pointer;\n",
              "      display: none;\n",
              "      fill: #1967D2;\n",
              "      height: 32px;\n",
              "      padding: 0 0 0 0;\n",
              "      width: 32px;\n",
              "    }\n",
              "\n",
              "    .colab-df-convert:hover {\n",
              "      background-color: #E2EBFA;\n",
              "      box-shadow: 0px 1px 2px rgba(60, 64, 67, 0.3), 0px 1px 3px 1px rgba(60, 64, 67, 0.15);\n",
              "      fill: #174EA6;\n",
              "    }\n",
              "\n",
              "    [theme=dark] .colab-df-convert {\n",
              "      background-color: #3B4455;\n",
              "      fill: #D2E3FC;\n",
              "    }\n",
              "\n",
              "    [theme=dark] .colab-df-convert:hover {\n",
              "      background-color: #434B5C;\n",
              "      box-shadow: 0px 1px 3px 1px rgba(0, 0, 0, 0.15);\n",
              "      filter: drop-shadow(0px 1px 2px rgba(0, 0, 0, 0.3));\n",
              "      fill: #FFFFFF;\n",
              "    }\n",
              "  </style>\n",
              "\n",
              "      <script>\n",
              "        const buttonEl =\n",
              "          document.querySelector('#df-53641a05-5923-4165-bd07-0e5f1465d033 button.colab-df-convert');\n",
              "        buttonEl.style.display =\n",
              "          google.colab.kernel.accessAllowed ? 'block' : 'none';\n",
              "\n",
              "        async function convertToInteractive(key) {\n",
              "          const element = document.querySelector('#df-53641a05-5923-4165-bd07-0e5f1465d033');\n",
              "          const dataTable =\n",
              "            await google.colab.kernel.invokeFunction('convertToInteractive',\n",
              "                                                     [key], {});\n",
              "          if (!dataTable) return;\n",
              "\n",
              "          const docLinkHtml = 'Like what you see? Visit the ' +\n",
              "            '<a target=\"_blank\" href=https://colab.research.google.com/notebooks/data_table.ipynb>data table notebook</a>'\n",
              "            + ' to learn more about interactive tables.';\n",
              "          element.innerHTML = '';\n",
              "          dataTable['output_type'] = 'display_data';\n",
              "          await google.colab.output.renderOutput(dataTable, element);\n",
              "          const docLink = document.createElement('div');\n",
              "          docLink.innerHTML = docLinkHtml;\n",
              "          element.appendChild(docLink);\n",
              "        }\n",
              "      </script>\n",
              "    </div>\n",
              "  </div>\n",
              "  "
            ]
          },
          "metadata": {},
          "execution_count": 204
        }
      ]
    },
    {
      "cell_type": "code",
      "source": [
        "data['sentiment'].value_counts()"
      ],
      "metadata": {
        "colab": {
          "base_uri": "https://localhost:8080/"
        },
        "id": "sol8ppAf2Y8D",
        "outputId": "2c586a8e-13fa-4e72-d468-204cb6fe2fc8"
      },
      "execution_count": 205,
      "outputs": [
        {
          "output_type": "execute_result",
          "data": {
            "text/plain": [
              "1    1113\n",
              "0     850\n",
              "Name: sentiment, dtype: int64"
            ]
          },
          "metadata": {},
          "execution_count": 205
        }
      ]
    },
    {
      "cell_type": "code",
      "source": [
        "y = data['sentiment']"
      ],
      "metadata": {
        "id": "w8p-KwWu2l-C"
      },
      "execution_count": 209,
      "outputs": []
    },
    {
      "cell_type": "code",
      "source": [
        "Xtrain, Xtest, ytrain, ytest = train_test_split(df,y,test_size=0.3, stratify = y)"
      ],
      "metadata": {
        "id": "vAyLtHlVasSX"
      },
      "execution_count": 210,
      "outputs": []
    },
    {
      "cell_type": "code",
      "source": [
        "print(ytrain.value_counts())\n",
        "print(ytest.value_counts())"
      ],
      "metadata": {
        "colab": {
          "base_uri": "https://localhost:8080/"
        },
        "id": "qMoPDi1cSFu3",
        "outputId": "a82a20be-8e41-47cd-a438-7d05337324ab"
      },
      "execution_count": 211,
      "outputs": [
        {
          "output_type": "stream",
          "name": "stdout",
          "text": [
            "1    779\n",
            "0    595\n",
            "Name: sentiment, dtype: int64\n",
            "1    334\n",
            "0    255\n",
            "Name: sentiment, dtype: int64\n"
          ]
        }
      ]
    },
    {
      "cell_type": "code",
      "source": [
        "print(Xtrain.shape, Xtest.shape)\n",
        "print(ytrain.shape, ytest.shape)"
      ],
      "metadata": {
        "colab": {
          "base_uri": "https://localhost:8080/"
        },
        "id": "xrBZid42fLee",
        "outputId": "29caef21-7b54-46db-d791-97c9c4e06565"
      },
      "execution_count": 212,
      "outputs": [
        {
          "output_type": "stream",
          "name": "stdout",
          "text": [
            "(1374, 3368) (589, 3368)\n",
            "(1374,) (589,)\n"
          ]
        }
      ]
    },
    {
      "cell_type": "code",
      "source": [
        "def print_acc(Ptrain,Ptest,ytrain,ytest):\n",
        "    print('------------------------------------------------------------------------------|')\n",
        "    print(f'|  Training Accuracy \\n| {classification_report(ytrain, Ptrain)} |')\n",
        "    #print('------------------------------------------------------------------------------|')\n",
        "    #print(f'|  Test Accuracy     \\n| {classification_report(ytest, Ptest)} |')\n",
        "    print('------------------------------------------------------------------------------|')\n",
        "\n",
        "def gen_conf(actual,pred):\n",
        "    classes = [0,1]\n",
        "    cm = confusion_matrix(actual,pred, labels=classes)\n",
        "    sn.heatmap(cm, annot=True)\n",
        "    plt.title(\"Confusion matrix\")\n",
        "    plt.show()"
      ],
      "metadata": {
        "id": "RNccTTFdgIVR"
      },
      "execution_count": 227,
      "outputs": []
    },
    {
      "cell_type": "code",
      "source": [
        "clf = svm.SVC(class_weight = 'balanced')\n",
        "clf.fit(Xtrain, ytrain)\n",
        "trpred = clf.predict(Xtrain)\n",
        "tpred = clf.predict(Xtest)\n",
        "print_acc(trpred, tpred, ytrain, ytest)\n",
        "gen_conf(ytrain, trpred)"
      ],
      "metadata": {
        "colab": {
          "base_uri": "https://localhost:8080/",
          "height": 570
        },
        "id": "jzhblDu1Vx8G",
        "outputId": "1bf1110f-8d20-4541-8547-95e27a21f875"
      },
      "execution_count": 228,
      "outputs": [
        {
          "output_type": "stream",
          "name": "stdout",
          "text": [
            "------------------------------------------------------------------------------|\n",
            "|  Training Accuracy \n",
            "|               precision    recall  f1-score   support\n",
            "\n",
            "           0       0.89      0.86      0.87       595\n",
            "           1       0.89      0.92      0.91       779\n",
            "\n",
            "    accuracy                           0.89      1374\n",
            "   macro avg       0.89      0.89      0.89      1374\n",
            "weighted avg       0.89      0.89      0.89      1374\n",
            " |\n",
            "------------------------------------------------------------------------------|\n"
          ]
        },
        {
          "output_type": "display_data",
          "data": {
            "text/plain": [
              "<Figure size 576x396 with 2 Axes>"
            ],
            "image/png": "[encoded data removed]"
          },
          "metadata": {}
        }
      ]
    },
    {
      "cell_type": "code",
      "source": [
        "gnb = GaussianNB()\n",
        "gnb.fit(Xtrain, ytrain)\n",
        "#print_acc(gnb, Xtrain, Xtest, ytrain, ytest)\n",
        "trpred = gnb.predict(Xtrain)\n",
        "tpred = gnb.predict(Xtest)\n",
        "print_acc(trpred, tpred, ytrain, ytest)\n",
        "gen_conf(ytrain, trpred)"
      ],
      "metadata": {
        "colab": {
          "base_uri": "https://localhost:8080/",
          "height": 570
        },
        "id": "Zv42_UJ9YWpB",
        "outputId": "bbc49a99-7726-41d5-98ef-870bd415430e"
      },
      "execution_count": 229,
      "outputs": [
        {
          "output_type": "stream",
          "name": "stdout",
          "text": [
            "------------------------------------------------------------------------------|\n",
            "|  Training Accuracy \n",
            "|               precision    recall  f1-score   support\n",
            "\n",
            "           0       0.61      1.00      0.76       595\n",
            "           1       1.00      0.51      0.68       779\n",
            "\n",
            "    accuracy                           0.72      1374\n",
            "   macro avg       0.81      0.76      0.72      1374\n",
            "weighted avg       0.83      0.72      0.71      1374\n",
            " |\n",
            "------------------------------------------------------------------------------|\n"
          ]
        },
        {
          "output_type": "display_data",
          "data": {
            "text/plain": [
              "<Figure size 576x396 with 2 Axes>"
            ],
            "image/png": "[encoded data removed]"
          },
          "metadata": {}
        }
      ]
    },
    {
      "cell_type": "code",
      "source": [
        "mnb = MultinomialNB()\n",
        "mnb.fit(Xtrain, ytrain)\n",
        "trpred = mnb.predict(Xtrain)\n",
        "tpred = mnb.predict(Xtest)\n",
        "print_acc(trpred, tpred, ytrain, ytest)\n",
        "gen_conf(ytrain, trpred)"
      ],
      "metadata": {
        "colab": {
          "base_uri": "https://localhost:8080/",
          "height": 570
        },
        "id": "gV-Gw2GnZ04w",
        "outputId": "5bb5bfd5-60ce-4192-c9ce-19ef062c778a"
      },
      "execution_count": 230,
      "outputs": [
        {
          "output_type": "stream",
          "name": "stdout",
          "text": [
            "------------------------------------------------------------------------------|\n",
            "|  Training Accuracy \n",
            "|               precision    recall  f1-score   support\n",
            "\n",
            "           0       0.91      0.76      0.83       595\n",
            "           1       0.84      0.94      0.88       779\n",
            "\n",
            "    accuracy                           0.86      1374\n",
            "   macro avg       0.87      0.85      0.85      1374\n",
            "weighted avg       0.87      0.86      0.86      1374\n",
            " |\n",
            "------------------------------------------------------------------------------|\n"
          ]
        },
        {
          "output_type": "display_data",
          "data": {
            "text/plain": [
              "<Figure size 576x396 with 2 Axes>"
            ],
            "image/png": "[encoded data removed]"
          },
          "metadata": {}
        }
      ]
    },
    {
      "cell_type": "code",
      "source": [
        "dtc = DecisionTreeClassifier()\n",
        "dtc.fit(Xtrain, ytrain)\n",
        "trpred = dtc.predict(Xtrain)\n",
        "tpred = dtc.predict(Xtest)\n",
        "print_acc(trpred, tpred, ytrain, ytest)\n",
        "gen_conf(ytrain, trpred)"
      ],
      "metadata": {
        "colab": {
          "base_uri": "https://localhost:8080/",
          "height": 570
        },
        "id": "L4OyMYxTZ4tG",
        "outputId": "7e994cbc-1d29-4ed7-b22e-b8eddef85025"
      },
      "execution_count": 231,
      "outputs": [
        {
          "output_type": "stream",
          "name": "stdout",
          "text": [
            "------------------------------------------------------------------------------|\n",
            "|  Training Accuracy \n",
            "|               precision    recall  f1-score   support\n",
            "\n",
            "           0       0.98      0.97      0.98       595\n",
            "           1       0.98      0.99      0.98       779\n",
            "\n",
            "    accuracy                           0.98      1374\n",
            "   macro avg       0.98      0.98      0.98      1374\n",
            "weighted avg       0.98      0.98      0.98      1374\n",
            " |\n",
            "------------------------------------------------------------------------------|\n"
          ]
        },
        {
          "output_type": "display_data",
          "data": {
            "text/plain": [
              "<Figure size 576x396 with 2 Axes>"
            ],
            "image/png": "[encoded data removed]"
          },
          "metadata": {}
        }
      ]
    },
    {
      "cell_type": "code",
      "source": [
        "knn = KNeighborsClassifier()\n",
        "knn.fit(Xtrain, ytrain)\n",
        "trpred = knn.predict(Xtrain)\n",
        "tpred = knn.predict(Xtest)\n",
        "print_acc(trpred, tpred, ytrain, ytest)\n",
        "gen_conf(ytrain, trpred)"
      ],
      "metadata": {
        "colab": {
          "base_uri": "https://localhost:8080/",
          "height": 570
        },
        "id": "mC1h9zMFaxzx",
        "outputId": "88c59ba2-3c52-4cd0-fb8c-c31c64fba126"
      },
      "execution_count": 232,
      "outputs": [
        {
          "output_type": "stream",
          "name": "stdout",
          "text": [
            "------------------------------------------------------------------------------|\n",
            "|  Training Accuracy \n",
            "|               precision    recall  f1-score   support\n",
            "\n",
            "           0       0.80      0.48      0.60       595\n",
            "           1       0.70      0.91      0.79       779\n",
            "\n",
            "    accuracy                           0.72      1374\n",
            "   macro avg       0.75      0.70      0.70      1374\n",
            "weighted avg       0.74      0.72      0.71      1374\n",
            " |\n",
            "------------------------------------------------------------------------------|\n"
          ]
        },
        {
          "output_type": "display_data",
          "data": {
            "text/plain": [
              "<Figure size 576x396 with 2 Axes>"
            ],
            "image/png": "[encoded data removed]"
          },
          "metadata": {}
        }
      ]
    },
    {
      "cell_type": "code",
      "source": [
        "rfc = RandomForestClassifier(n_jobs = -1, max_depth = 10, n_estimators = 50)\n",
        "rfc.fit(Xtrain, ytrain)\n",
        "trpred = rfc.predict(Xtrain)\n",
        "tpred = rfc.predict(Xtest)\n",
        "print_acc(trpred, tpred, ytrain, ytest)\n",
        "gen_conf(ytrain, trpred)"
      ],
      "metadata": {
        "colab": {
          "base_uri": "https://localhost:8080/",
          "height": 570
        },
        "id": "gGXosqf6a07r",
        "outputId": "4530a0b2-2ac3-4357-8259-c2b56cf3e3ba"
      },
      "execution_count": 233,
      "outputs": [
        {
          "output_type": "stream",
          "name": "stdout",
          "text": [
            "------------------------------------------------------------------------------|\n",
            "|  Training Accuracy \n",
            "|               precision    recall  f1-score   support\n",
            "\n",
            "           0       0.97      0.35      0.52       595\n",
            "           1       0.67      0.99      0.80       779\n",
            "\n",
            "    accuracy                           0.72      1374\n",
            "   macro avg       0.82      0.67      0.66      1374\n",
            "weighted avg       0.80      0.72      0.68      1374\n",
            " |\n",
            "------------------------------------------------------------------------------|\n"
          ]
        },
        {
          "output_type": "display_data",
          "data": {
            "text/plain": [
              "<Figure size 576x396 with 2 Axes>"
            ],
            "image/png": "[encoded data removed]"
          },
          "metadata": {}
        }
      ]
    },
    {
      "cell_type": "markdown",
      "source": [
        "So, here we can see that the SVM and RandomForest classifiers are giving better results. "
      ],
      "metadata": {
        "id": "Z-1Yef6K7C1H"
      }
    }
  ]
}