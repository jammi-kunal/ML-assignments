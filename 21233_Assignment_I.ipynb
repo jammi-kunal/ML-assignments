{
 "cells": [
  {
   "cell_type": "code",
   "execution_count": 130,
   "id": "d740a329",
   "metadata": {},
   "outputs": [],
   "source": [
    "#importing\n",
    "\n",
    "import pandas as pd\n",
    "import numpy as np\n",
    "import seaborn as sns\n",
    "import matplotlib.pyplot as plt\n",
    "from sklearn.linear_model import LinearRegression, Lasso, Ridge\n",
    "from sklearn.metrics import r2_score, mean_squared_error\n",
    "from sklearn.preprocessing import OneHotEncoder as ohe, MinMaxScaler, StandardScaler\n",
    "from sklearn.model_selection import train_test_split\n",
    "import warnings\n",
    "import itertools\n",
    "warnings.simplefilter(action='ignore', category=FutureWarning)"
   ]
  },
  {
   "cell_type": "code",
   "execution_count": 2,
   "id": "6252ea56",
   "metadata": {},
   "outputs": [],
   "source": [
    "data = pd.read_csv('/home/msc2/Jupyter/Notebooks/Datasets/Insurance.csv')"
   ]
  },
  {
   "cell_type": "markdown",
   "id": "df6e38c1",
   "metadata": {},
   "source": [
    "<h2>BASIC FEATURE ENGINEERING</h2>"
   ]
  },
  {
   "cell_type": "code",
   "execution_count": 3,
   "id": "943f52ee",
   "metadata": {
    "scrolled": false
   },
   "outputs": [
    {
     "name": "stdout",
     "output_type": "stream",
     "text": [
      "<class 'pandas.core.frame.DataFrame'>\n",
      "RangeIndex: 1338 entries, 0 to 1337\n",
      "Data columns (total 7 columns):\n",
      " #   Column    Non-Null Count  Dtype  \n",
      "---  ------    --------------  -----  \n",
      " 0   age       1338 non-null   int64  \n",
      " 1   sex       1338 non-null   object \n",
      " 2   bmi       1338 non-null   float64\n",
      " 3   children  1338 non-null   int64  \n",
      " 4   smoker    1338 non-null   object \n",
      " 5   region    1338 non-null   object \n",
      " 6   charges   1338 non-null   float64\n",
      "dtypes: float64(2), int64(2), object(3)\n",
      "memory usage: 73.3+ KB\n"
     ]
    }
   ],
   "source": [
    "data.info()"
   ]
  },
  {
   "cell_type": "code",
   "execution_count": 4,
   "id": "a93b8df4",
   "metadata": {},
   "outputs": [],
   "source": [
    "gender_ohe = ohe().fit(data[['sex']])\n",
    "region_ohe = ohe().fit(data[['region']])"
   ]
  },
  {
   "cell_type": "code",
   "execution_count": 5,
   "id": "6c616784",
   "metadata": {},
   "outputs": [
    {
     "name": "stdout",
     "output_type": "stream",
     "text": [
      "[array(['female', 'male'], dtype=object)],[array(['northeast', 'northwest', 'southeast', 'southwest'], dtype=object)]\n"
     ]
    }
   ],
   "source": [
    "print(f'{gender_ohe.categories_},{region_ohe.categories_}')"
   ]
  },
  {
   "cell_type": "code",
   "execution_count": 6,
   "id": "22f0aadd",
   "metadata": {},
   "outputs": [],
   "source": [
    "data[['female', 'male']] = gender_ohe.transform(data[['sex']]).toarray()\n",
    "data[['northeast','northwest','southeast','southwest']] = region_ohe.transform(data[['region']]).toarray()"
   ]
  },
  {
   "cell_type": "code",
   "execution_count": 7,
   "id": "3bac7dce",
   "metadata": {},
   "outputs": [
    {
     "data": {
      "text/html": [
       "<div>\n",
       "<style scoped>\n",
       "    .dataframe tbody tr th:only-of-type {\n",
       "        vertical-align: middle;\n",
       "    }\n",
       "\n",
       "    .dataframe tbody tr th {\n",
       "        vertical-align: top;\n",
       "    }\n",
       "\n",
       "    .dataframe thead th {\n",
       "        text-align: right;\n",
       "    }\n",
       "</style>\n",
       "<table border=\"1\" class=\"dataframe\">\n",
       "  <thead>\n",
       "    <tr style=\"text-align: right;\">\n",
       "      <th></th>\n",
       "      <th>age</th>\n",
       "      <th>sex</th>\n",
       "      <th>bmi</th>\n",
       "      <th>children</th>\n",
       "      <th>smoker</th>\n",
       "      <th>region</th>\n",
       "      <th>charges</th>\n",
       "      <th>female</th>\n",
       "      <th>male</th>\n",
       "      <th>northeast</th>\n",
       "      <th>northwest</th>\n",
       "      <th>southeast</th>\n",
       "      <th>southwest</th>\n",
       "    </tr>\n",
       "  </thead>\n",
       "  <tbody>\n",
       "    <tr>\n",
       "      <th>0</th>\n",
       "      <td>19</td>\n",
       "      <td>female</td>\n",
       "      <td>27.900</td>\n",
       "      <td>0</td>\n",
       "      <td>yes</td>\n",
       "      <td>southwest</td>\n",
       "      <td>16884.92400</td>\n",
       "      <td>1.0</td>\n",
       "      <td>0.0</td>\n",
       "      <td>0.0</td>\n",
       "      <td>0.0</td>\n",
       "      <td>0.0</td>\n",
       "      <td>1.0</td>\n",
       "    </tr>\n",
       "    <tr>\n",
       "      <th>1</th>\n",
       "      <td>18</td>\n",
       "      <td>male</td>\n",
       "      <td>33.770</td>\n",
       "      <td>1</td>\n",
       "      <td>no</td>\n",
       "      <td>southeast</td>\n",
       "      <td>1725.55230</td>\n",
       "      <td>0.0</td>\n",
       "      <td>1.0</td>\n",
       "      <td>0.0</td>\n",
       "      <td>0.0</td>\n",
       "      <td>1.0</td>\n",
       "      <td>0.0</td>\n",
       "    </tr>\n",
       "    <tr>\n",
       "      <th>2</th>\n",
       "      <td>28</td>\n",
       "      <td>male</td>\n",
       "      <td>33.000</td>\n",
       "      <td>3</td>\n",
       "      <td>no</td>\n",
       "      <td>southeast</td>\n",
       "      <td>4449.46200</td>\n",
       "      <td>0.0</td>\n",
       "      <td>1.0</td>\n",
       "      <td>0.0</td>\n",
       "      <td>0.0</td>\n",
       "      <td>1.0</td>\n",
       "      <td>0.0</td>\n",
       "    </tr>\n",
       "    <tr>\n",
       "      <th>3</th>\n",
       "      <td>33</td>\n",
       "      <td>male</td>\n",
       "      <td>22.705</td>\n",
       "      <td>0</td>\n",
       "      <td>no</td>\n",
       "      <td>northwest</td>\n",
       "      <td>21984.47061</td>\n",
       "      <td>0.0</td>\n",
       "      <td>1.0</td>\n",
       "      <td>0.0</td>\n",
       "      <td>1.0</td>\n",
       "      <td>0.0</td>\n",
       "      <td>0.0</td>\n",
       "    </tr>\n",
       "    <tr>\n",
       "      <th>4</th>\n",
       "      <td>32</td>\n",
       "      <td>male</td>\n",
       "      <td>28.880</td>\n",
       "      <td>0</td>\n",
       "      <td>no</td>\n",
       "      <td>northwest</td>\n",
       "      <td>3866.85520</td>\n",
       "      <td>0.0</td>\n",
       "      <td>1.0</td>\n",
       "      <td>0.0</td>\n",
       "      <td>1.0</td>\n",
       "      <td>0.0</td>\n",
       "      <td>0.0</td>\n",
       "    </tr>\n",
       "    <tr>\n",
       "      <th>...</th>\n",
       "      <td>...</td>\n",
       "      <td>...</td>\n",
       "      <td>...</td>\n",
       "      <td>...</td>\n",
       "      <td>...</td>\n",
       "      <td>...</td>\n",
       "      <td>...</td>\n",
       "      <td>...</td>\n",
       "      <td>...</td>\n",
       "      <td>...</td>\n",
       "      <td>...</td>\n",
       "      <td>...</td>\n",
       "      <td>...</td>\n",
       "    </tr>\n",
       "    <tr>\n",
       "      <th>1333</th>\n",
       "      <td>50</td>\n",
       "      <td>male</td>\n",
       "      <td>30.970</td>\n",
       "      <td>3</td>\n",
       "      <td>no</td>\n",
       "      <td>northwest</td>\n",
       "      <td>10600.54830</td>\n",
       "      <td>0.0</td>\n",
       "      <td>1.0</td>\n",
       "      <td>0.0</td>\n",
       "      <td>1.0</td>\n",
       "      <td>0.0</td>\n",
       "      <td>0.0</td>\n",
       "    </tr>\n",
       "    <tr>\n",
       "      <th>1334</th>\n",
       "      <td>18</td>\n",
       "      <td>female</td>\n",
       "      <td>31.920</td>\n",
       "      <td>0</td>\n",
       "      <td>no</td>\n",
       "      <td>northeast</td>\n",
       "      <td>2205.98080</td>\n",
       "      <td>1.0</td>\n",
       "      <td>0.0</td>\n",
       "      <td>1.0</td>\n",
       "      <td>0.0</td>\n",
       "      <td>0.0</td>\n",
       "      <td>0.0</td>\n",
       "    </tr>\n",
       "    <tr>\n",
       "      <th>1335</th>\n",
       "      <td>18</td>\n",
       "      <td>female</td>\n",
       "      <td>36.850</td>\n",
       "      <td>0</td>\n",
       "      <td>no</td>\n",
       "      <td>southeast</td>\n",
       "      <td>1629.83350</td>\n",
       "      <td>1.0</td>\n",
       "      <td>0.0</td>\n",
       "      <td>0.0</td>\n",
       "      <td>0.0</td>\n",
       "      <td>1.0</td>\n",
       "      <td>0.0</td>\n",
       "    </tr>\n",
       "    <tr>\n",
       "      <th>1336</th>\n",
       "      <td>21</td>\n",
       "      <td>female</td>\n",
       "      <td>25.800</td>\n",
       "      <td>0</td>\n",
       "      <td>no</td>\n",
       "      <td>southwest</td>\n",
       "      <td>2007.94500</td>\n",
       "      <td>1.0</td>\n",
       "      <td>0.0</td>\n",
       "      <td>0.0</td>\n",
       "      <td>0.0</td>\n",
       "      <td>0.0</td>\n",
       "      <td>1.0</td>\n",
       "    </tr>\n",
       "    <tr>\n",
       "      <th>1337</th>\n",
       "      <td>61</td>\n",
       "      <td>female</td>\n",
       "      <td>29.070</td>\n",
       "      <td>0</td>\n",
       "      <td>yes</td>\n",
       "      <td>northwest</td>\n",
       "      <td>29141.36030</td>\n",
       "      <td>1.0</td>\n",
       "      <td>0.0</td>\n",
       "      <td>0.0</td>\n",
       "      <td>1.0</td>\n",
       "      <td>0.0</td>\n",
       "      <td>0.0</td>\n",
       "    </tr>\n",
       "  </tbody>\n",
       "</table>\n",
       "<p>1338 rows × 13 columns</p>\n",
       "</div>"
      ],
      "text/plain": [
       "      age     sex     bmi  children smoker     region      charges  female  \\\n",
       "0      19  female  27.900         0    yes  southwest  16884.92400     1.0   \n",
       "1      18    male  33.770         1     no  southeast   1725.55230     0.0   \n",
       "2      28    male  33.000         3     no  southeast   4449.46200     0.0   \n",
       "3      33    male  22.705         0     no  northwest  21984.47061     0.0   \n",
       "4      32    male  28.880         0     no  northwest   3866.85520     0.0   \n",
       "...   ...     ...     ...       ...    ...        ...          ...     ...   \n",
       "1333   50    male  30.970         3     no  northwest  10600.54830     0.0   \n",
       "1334   18  female  31.920         0     no  northeast   2205.98080     1.0   \n",
       "1335   18  female  36.850         0     no  southeast   1629.83350     1.0   \n",
       "1336   21  female  25.800         0     no  southwest   2007.94500     1.0   \n",
       "1337   61  female  29.070         0    yes  northwest  29141.36030     1.0   \n",
       "\n",
       "      male  northeast  northwest  southeast  southwest  \n",
       "0      0.0        0.0        0.0        0.0        1.0  \n",
       "1      1.0        0.0        0.0        1.0        0.0  \n",
       "2      1.0        0.0        0.0        1.0        0.0  \n",
       "3      1.0        0.0        1.0        0.0        0.0  \n",
       "4      1.0        0.0        1.0        0.0        0.0  \n",
       "...    ...        ...        ...        ...        ...  \n",
       "1333   1.0        0.0        1.0        0.0        0.0  \n",
       "1334   0.0        1.0        0.0        0.0        0.0  \n",
       "1335   0.0        0.0        0.0        1.0        0.0  \n",
       "1336   0.0        0.0        0.0        0.0        1.0  \n",
       "1337   0.0        0.0        1.0        0.0        0.0  \n",
       "\n",
       "[1338 rows x 13 columns]"
      ]
     },
     "execution_count": 7,
     "metadata": {},
     "output_type": "execute_result"
    }
   ],
   "source": [
    "data"
   ]
  },
  {
   "cell_type": "code",
   "execution_count": 8,
   "id": "4595a638",
   "metadata": {},
   "outputs": [],
   "source": [
    "ndf = data.drop(['sex', 'region', 'male'], axis = 1)"
   ]
  },
  {
   "cell_type": "code",
   "execution_count": 9,
   "id": "ffe67a4e",
   "metadata": {},
   "outputs": [
    {
     "name": "stdout",
     "output_type": "stream",
     "text": [
      "<class 'pandas.core.frame.DataFrame'>\n",
      "RangeIndex: 1338 entries, 0 to 1337\n",
      "Data columns (total 10 columns):\n",
      " #   Column     Non-Null Count  Dtype  \n",
      "---  ------     --------------  -----  \n",
      " 0   age        1338 non-null   int64  \n",
      " 1   bmi        1338 non-null   float64\n",
      " 2   children   1338 non-null   int64  \n",
      " 3   smoker     1338 non-null   object \n",
      " 4   charges    1338 non-null   float64\n",
      " 5   female     1338 non-null   float64\n",
      " 6   northeast  1338 non-null   float64\n",
      " 7   northwest  1338 non-null   float64\n",
      " 8   southeast  1338 non-null   float64\n",
      " 9   southwest  1338 non-null   float64\n",
      "dtypes: float64(7), int64(2), object(1)\n",
      "memory usage: 104.7+ KB\n"
     ]
    }
   ],
   "source": [
    "ndf.info()"
   ]
  },
  {
   "cell_type": "code",
   "execution_count": 10,
   "id": "df289057",
   "metadata": {},
   "outputs": [],
   "source": [
    "ndf['smoker'] = ndf['smoker'].map({'yes':1, 'no':0})"
   ]
  },
  {
   "cell_type": "code",
   "execution_count": 11,
   "id": "79701506",
   "metadata": {
    "scrolled": true
   },
   "outputs": [
    {
     "data": {
      "text/html": [
       "<div>\n",
       "<style scoped>\n",
       "    .dataframe tbody tr th:only-of-type {\n",
       "        vertical-align: middle;\n",
       "    }\n",
       "\n",
       "    .dataframe tbody tr th {\n",
       "        vertical-align: top;\n",
       "    }\n",
       "\n",
       "    .dataframe thead th {\n",
       "        text-align: right;\n",
       "    }\n",
       "</style>\n",
       "<table border=\"1\" class=\"dataframe\">\n",
       "  <thead>\n",
       "    <tr style=\"text-align: right;\">\n",
       "      <th></th>\n",
       "      <th>age</th>\n",
       "      <th>bmi</th>\n",
       "      <th>children</th>\n",
       "      <th>smoker</th>\n",
       "      <th>charges</th>\n",
       "      <th>female</th>\n",
       "      <th>northeast</th>\n",
       "      <th>northwest</th>\n",
       "      <th>southeast</th>\n",
       "      <th>southwest</th>\n",
       "    </tr>\n",
       "  </thead>\n",
       "  <tbody>\n",
       "    <tr>\n",
       "      <th>0</th>\n",
       "      <td>19</td>\n",
       "      <td>27.900</td>\n",
       "      <td>0</td>\n",
       "      <td>1</td>\n",
       "      <td>16884.92400</td>\n",
       "      <td>1.0</td>\n",
       "      <td>0.0</td>\n",
       "      <td>0.0</td>\n",
       "      <td>0.0</td>\n",
       "      <td>1.0</td>\n",
       "    </tr>\n",
       "    <tr>\n",
       "      <th>1</th>\n",
       "      <td>18</td>\n",
       "      <td>33.770</td>\n",
       "      <td>1</td>\n",
       "      <td>0</td>\n",
       "      <td>1725.55230</td>\n",
       "      <td>0.0</td>\n",
       "      <td>0.0</td>\n",
       "      <td>0.0</td>\n",
       "      <td>1.0</td>\n",
       "      <td>0.0</td>\n",
       "    </tr>\n",
       "    <tr>\n",
       "      <th>2</th>\n",
       "      <td>28</td>\n",
       "      <td>33.000</td>\n",
       "      <td>3</td>\n",
       "      <td>0</td>\n",
       "      <td>4449.46200</td>\n",
       "      <td>0.0</td>\n",
       "      <td>0.0</td>\n",
       "      <td>0.0</td>\n",
       "      <td>1.0</td>\n",
       "      <td>0.0</td>\n",
       "    </tr>\n",
       "    <tr>\n",
       "      <th>3</th>\n",
       "      <td>33</td>\n",
       "      <td>22.705</td>\n",
       "      <td>0</td>\n",
       "      <td>0</td>\n",
       "      <td>21984.47061</td>\n",
       "      <td>0.0</td>\n",
       "      <td>0.0</td>\n",
       "      <td>1.0</td>\n",
       "      <td>0.0</td>\n",
       "      <td>0.0</td>\n",
       "    </tr>\n",
       "    <tr>\n",
       "      <th>4</th>\n",
       "      <td>32</td>\n",
       "      <td>28.880</td>\n",
       "      <td>0</td>\n",
       "      <td>0</td>\n",
       "      <td>3866.85520</td>\n",
       "      <td>0.0</td>\n",
       "      <td>0.0</td>\n",
       "      <td>1.0</td>\n",
       "      <td>0.0</td>\n",
       "      <td>0.0</td>\n",
       "    </tr>\n",
       "    <tr>\n",
       "      <th>...</th>\n",
       "      <td>...</td>\n",
       "      <td>...</td>\n",
       "      <td>...</td>\n",
       "      <td>...</td>\n",
       "      <td>...</td>\n",
       "      <td>...</td>\n",
       "      <td>...</td>\n",
       "      <td>...</td>\n",
       "      <td>...</td>\n",
       "      <td>...</td>\n",
       "    </tr>\n",
       "    <tr>\n",
       "      <th>1333</th>\n",
       "      <td>50</td>\n",
       "      <td>30.970</td>\n",
       "      <td>3</td>\n",
       "      <td>0</td>\n",
       "      <td>10600.54830</td>\n",
       "      <td>0.0</td>\n",
       "      <td>0.0</td>\n",
       "      <td>1.0</td>\n",
       "      <td>0.0</td>\n",
       "      <td>0.0</td>\n",
       "    </tr>\n",
       "    <tr>\n",
       "      <th>1334</th>\n",
       "      <td>18</td>\n",
       "      <td>31.920</td>\n",
       "      <td>0</td>\n",
       "      <td>0</td>\n",
       "      <td>2205.98080</td>\n",
       "      <td>1.0</td>\n",
       "      <td>1.0</td>\n",
       "      <td>0.0</td>\n",
       "      <td>0.0</td>\n",
       "      <td>0.0</td>\n",
       "    </tr>\n",
       "    <tr>\n",
       "      <th>1335</th>\n",
       "      <td>18</td>\n",
       "      <td>36.850</td>\n",
       "      <td>0</td>\n",
       "      <td>0</td>\n",
       "      <td>1629.83350</td>\n",
       "      <td>1.0</td>\n",
       "      <td>0.0</td>\n",
       "      <td>0.0</td>\n",
       "      <td>1.0</td>\n",
       "      <td>0.0</td>\n",
       "    </tr>\n",
       "    <tr>\n",
       "      <th>1336</th>\n",
       "      <td>21</td>\n",
       "      <td>25.800</td>\n",
       "      <td>0</td>\n",
       "      <td>0</td>\n",
       "      <td>2007.94500</td>\n",
       "      <td>1.0</td>\n",
       "      <td>0.0</td>\n",
       "      <td>0.0</td>\n",
       "      <td>0.0</td>\n",
       "      <td>1.0</td>\n",
       "    </tr>\n",
       "    <tr>\n",
       "      <th>1337</th>\n",
       "      <td>61</td>\n",
       "      <td>29.070</td>\n",
       "      <td>0</td>\n",
       "      <td>1</td>\n",
       "      <td>29141.36030</td>\n",
       "      <td>1.0</td>\n",
       "      <td>0.0</td>\n",
       "      <td>1.0</td>\n",
       "      <td>0.0</td>\n",
       "      <td>0.0</td>\n",
       "    </tr>\n",
       "  </tbody>\n",
       "</table>\n",
       "<p>1338 rows × 10 columns</p>\n",
       "</div>"
      ],
      "text/plain": [
       "      age     bmi  children  smoker      charges  female  northeast  \\\n",
       "0      19  27.900         0       1  16884.92400     1.0        0.0   \n",
       "1      18  33.770         1       0   1725.55230     0.0        0.0   \n",
       "2      28  33.000         3       0   4449.46200     0.0        0.0   \n",
       "3      33  22.705         0       0  21984.47061     0.0        0.0   \n",
       "4      32  28.880         0       0   3866.85520     0.0        0.0   \n",
       "...   ...     ...       ...     ...          ...     ...        ...   \n",
       "1333   50  30.970         3       0  10600.54830     0.0        0.0   \n",
       "1334   18  31.920         0       0   2205.98080     1.0        1.0   \n",
       "1335   18  36.850         0       0   1629.83350     1.0        0.0   \n",
       "1336   21  25.800         0       0   2007.94500     1.0        0.0   \n",
       "1337   61  29.070         0       1  29141.36030     1.0        0.0   \n",
       "\n",
       "      northwest  southeast  southwest  \n",
       "0           0.0        0.0        1.0  \n",
       "1           0.0        1.0        0.0  \n",
       "2           0.0        1.0        0.0  \n",
       "3           1.0        0.0        0.0  \n",
       "4           1.0        0.0        0.0  \n",
       "...         ...        ...        ...  \n",
       "1333        1.0        0.0        0.0  \n",
       "1334        0.0        0.0        0.0  \n",
       "1335        0.0        1.0        0.0  \n",
       "1336        0.0        0.0        1.0  \n",
       "1337        1.0        0.0        0.0  \n",
       "\n",
       "[1338 rows x 10 columns]"
      ]
     },
     "execution_count": 11,
     "metadata": {},
     "output_type": "execute_result"
    }
   ],
   "source": [
    "ndf"
   ]
  },
  {
   "cell_type": "markdown",
   "id": "13bfb8bc",
   "metadata": {},
   "source": [
    "<h2>EXPLORATORY DATA ANALYSIS</h2>"
   ]
  },
  {
   "cell_type": "code",
   "execution_count": 12,
   "id": "16b2cb52",
   "metadata": {
    "scrolled": false
   },
   "outputs": [
    {
     "data": {
      "image/png": "[encoded data removed]",
      "text/plain": [
       "<Figure size 1152x864 with 2 Axes>"
      ]
     },
     "metadata": {
      "needs_background": "light"
     },
     "output_type": "display_data"
    }
   ],
   "source": [
    "# correlation matrix\n",
    "correlations = ndf.corr(method='pearson')\n",
    "plt.figure(figsize=(16, 12))\n",
    "sns.heatmap(correlations, cmap=\"coolwarm\", annot=True)\n",
    "plt.title(\"Correlation Matrix\")\n",
    "plt.show()"
   ]
  },
  {
   "cell_type": "code",
   "execution_count": 13,
   "id": "58dba466",
   "metadata": {},
   "outputs": [],
   "source": [
    "# high +ve correlation between smoker and charges. \n",
    "# a slight +ve correlation between age and charges.\n",
    "\n",
    "# we can do further EDA but before that let us build a basic regression model"
   ]
  },
  {
   "cell_type": "code",
   "execution_count": 51,
   "id": "109797ee",
   "metadata": {},
   "outputs": [],
   "source": [
    "def Print(x, x_min, x_max, Q1, Q2, Q3):\n",
    "    print(f'5 Point Summary of {x.capitalize()} Attribute:\\n\\n{x.capitalize()}(min) : {x_min}\\nQ1 : {Q1}\\nQ2(Median) : {Q2}\\nQ3 : {Q3}\\n{x.capitalize()}(max) : {x_max}')"
   ]
  },
  {
   "cell_type": "code",
   "execution_count": 60,
   "id": "a302edc7",
   "metadata": {},
   "outputs": [],
   "source": [
    "def plot(x):\n",
    "    x_min = ndf[x].min()\n",
    "    x_max = ndf[x].max()\n",
    "    Q1 = ndf[x].quantile(0.25)\n",
    "    Q2 = ndf[x].quantile(0.50)\n",
    "    Q3 = ndf[x].quantile(0.75)\n",
    "    \n",
    "    Print(x, x_min, x_max, Q1, Q2, Q3)\n",
    "    \n",
    "    fig = plt.figure(figsize=(14, 8))\n",
    "    plt.subplots_adjust(hspace = 0.4)\n",
    "    sns.set_palette('Set2')\n",
    "    \n",
    "    plt.subplot(221)\n",
    "    ax1 = sns.distplot(ndf[x], color = 'r')\n",
    "    plt.title(f'{x.capitalize()} Density Distribution')\n",
    "    \n",
    "    plt.subplot(222)\n",
    "    ax2 = sns.violinplot(x = ndf[x], palette = 'Accent', split = True)\n",
    "    plt.title(f'{x.capitalize()} Violinplot')\n",
    "    \n",
    "    plt.subplot(223)\n",
    "    ax2 = sns.boxplot(x=ndf[x], palette = 'cool', width=0.7, linewidth=0.6)\n",
    "    plt.title(f'{x.capitalize()} Boxplot')\n",
    "    \n",
    "    plt.subplot(224)\n",
    "    ax3 = sns.kdeplot(ndf[x], cumulative=True)\n",
    "    plt.title(f'{x.capitalize()} Cumulative Density Distribution')\n",
    "    \n",
    "    plt.show()"
   ]
  },
  {
   "cell_type": "code",
   "execution_count": 61,
   "id": "f3341d91",
   "metadata": {},
   "outputs": [
    {
     "name": "stdout",
     "output_type": "stream",
     "text": [
      "5 Point Summary of Age Attribute:\n",
      "\n",
      "Age(min) : 18\n",
      "Q1 : 27.0\n",
      "Q2(Median) : 39.0\n",
      "Q3 : 51.0\n",
      "Age(max) : 64\n"
     ]
    },
    {
     "data": {
      "image/png": "[encoded data removed]",
      "text/plain": [
       "<Figure size 1008x576 with 4 Axes>"
      ]
     },
     "metadata": {
      "needs_background": "light"
     },
     "output_type": "display_data"
    }
   ],
   "source": [
    "plot('age')"
   ]
  },
  {
   "cell_type": "code",
   "execution_count": 62,
   "id": "9c59113f",
   "metadata": {},
   "outputs": [
    {
     "name": "stdout",
     "output_type": "stream",
     "text": [
      "5 Point Summary of Bmi Attribute:\n",
      "\n",
      "Bmi(min) : 15.96\n",
      "Q1 : 26.29625\n",
      "Q2(Median) : 30.4\n",
      "Q3 : 34.69375\n",
      "Bmi(max) : 53.13\n"
     ]
    },
    {
     "data": {
      "image/png": "[encoded data removed]",
      "text/plain": [
       "<Figure size 1008x576 with 4 Axes>"
      ]
     },
     "metadata": {
      "needs_background": "light"
     },
     "output_type": "display_data"
    }
   ],
   "source": [
    "plot('bmi')"
   ]
  },
  {
   "cell_type": "code",
   "execution_count": null,
   "id": "5961800b",
   "metadata": {},
   "outputs": [],
   "source": [
    "# We have a few outliers in the bmi variable but they are not really outliers as it might represent obese people."
   ]
  },
  {
   "cell_type": "markdown",
   "id": "2ebd2be0",
   "metadata": {},
   "source": [
    "<h2>SCALING THE FEATURES</h2>"
   ]
  },
  {
   "cell_type": "code",
   "execution_count": 14,
   "id": "6d5a0752",
   "metadata": {},
   "outputs": [],
   "source": [
    "ndata = ndf.copy()"
   ]
  },
  {
   "cell_type": "code",
   "execution_count": 15,
   "id": "520024fb",
   "metadata": {
    "scrolled": true
   },
   "outputs": [
    {
     "data": {
      "text/html": [
       "<div>\n",
       "<style scoped>\n",
       "    .dataframe tbody tr th:only-of-type {\n",
       "        vertical-align: middle;\n",
       "    }\n",
       "\n",
       "    .dataframe tbody tr th {\n",
       "        vertical-align: top;\n",
       "    }\n",
       "\n",
       "    .dataframe thead th {\n",
       "        text-align: right;\n",
       "    }\n",
       "</style>\n",
       "<table border=\"1\" class=\"dataframe\">\n",
       "  <thead>\n",
       "    <tr style=\"text-align: right;\">\n",
       "      <th></th>\n",
       "      <th>age</th>\n",
       "      <th>bmi</th>\n",
       "      <th>children</th>\n",
       "      <th>smoker</th>\n",
       "      <th>charges</th>\n",
       "      <th>female</th>\n",
       "      <th>northeast</th>\n",
       "      <th>northwest</th>\n",
       "      <th>southeast</th>\n",
       "      <th>southwest</th>\n",
       "    </tr>\n",
       "  </thead>\n",
       "  <tbody>\n",
       "    <tr>\n",
       "      <th>0</th>\n",
       "      <td>-1.438764</td>\n",
       "      <td>-0.453320</td>\n",
       "      <td>-0.908614</td>\n",
       "      <td>1</td>\n",
       "      <td>0.298584</td>\n",
       "      <td>1.0</td>\n",
       "      <td>0.0</td>\n",
       "      <td>0.0</td>\n",
       "      <td>0.0</td>\n",
       "      <td>1.0</td>\n",
       "    </tr>\n",
       "    <tr>\n",
       "      <th>1</th>\n",
       "      <td>-1.509965</td>\n",
       "      <td>0.509621</td>\n",
       "      <td>-0.078767</td>\n",
       "      <td>0</td>\n",
       "      <td>-0.953689</td>\n",
       "      <td>0.0</td>\n",
       "      <td>0.0</td>\n",
       "      <td>0.0</td>\n",
       "      <td>1.0</td>\n",
       "      <td>0.0</td>\n",
       "    </tr>\n",
       "    <tr>\n",
       "      <th>2</th>\n",
       "      <td>-0.797954</td>\n",
       "      <td>0.383307</td>\n",
       "      <td>1.580926</td>\n",
       "      <td>0</td>\n",
       "      <td>-0.728675</td>\n",
       "      <td>0.0</td>\n",
       "      <td>0.0</td>\n",
       "      <td>0.0</td>\n",
       "      <td>1.0</td>\n",
       "      <td>0.0</td>\n",
       "    </tr>\n",
       "    <tr>\n",
       "      <th>3</th>\n",
       "      <td>-0.441948</td>\n",
       "      <td>-1.305531</td>\n",
       "      <td>-0.908614</td>\n",
       "      <td>0</td>\n",
       "      <td>0.719843</td>\n",
       "      <td>0.0</td>\n",
       "      <td>0.0</td>\n",
       "      <td>1.0</td>\n",
       "      <td>0.0</td>\n",
       "      <td>0.0</td>\n",
       "    </tr>\n",
       "    <tr>\n",
       "      <th>4</th>\n",
       "      <td>-0.513149</td>\n",
       "      <td>-0.292556</td>\n",
       "      <td>-0.908614</td>\n",
       "      <td>0</td>\n",
       "      <td>-0.776802</td>\n",
       "      <td>0.0</td>\n",
       "      <td>0.0</td>\n",
       "      <td>1.0</td>\n",
       "      <td>0.0</td>\n",
       "      <td>0.0</td>\n",
       "    </tr>\n",
       "    <tr>\n",
       "      <th>...</th>\n",
       "      <td>...</td>\n",
       "      <td>...</td>\n",
       "      <td>...</td>\n",
       "      <td>...</td>\n",
       "      <td>...</td>\n",
       "      <td>...</td>\n",
       "      <td>...</td>\n",
       "      <td>...</td>\n",
       "      <td>...</td>\n",
       "      <td>...</td>\n",
       "    </tr>\n",
       "    <tr>\n",
       "      <th>1333</th>\n",
       "      <td>0.768473</td>\n",
       "      <td>0.050297</td>\n",
       "      <td>1.580926</td>\n",
       "      <td>0</td>\n",
       "      <td>-0.220551</td>\n",
       "      <td>0.0</td>\n",
       "      <td>0.0</td>\n",
       "      <td>1.0</td>\n",
       "      <td>0.0</td>\n",
       "      <td>0.0</td>\n",
       "    </tr>\n",
       "    <tr>\n",
       "      <th>1334</th>\n",
       "      <td>-1.509965</td>\n",
       "      <td>0.206139</td>\n",
       "      <td>-0.908614</td>\n",
       "      <td>0</td>\n",
       "      <td>-0.914002</td>\n",
       "      <td>1.0</td>\n",
       "      <td>1.0</td>\n",
       "      <td>0.0</td>\n",
       "      <td>0.0</td>\n",
       "      <td>0.0</td>\n",
       "    </tr>\n",
       "    <tr>\n",
       "      <th>1335</th>\n",
       "      <td>-1.509965</td>\n",
       "      <td>1.014878</td>\n",
       "      <td>-0.908614</td>\n",
       "      <td>0</td>\n",
       "      <td>-0.961596</td>\n",
       "      <td>1.0</td>\n",
       "      <td>0.0</td>\n",
       "      <td>0.0</td>\n",
       "      <td>1.0</td>\n",
       "      <td>0.0</td>\n",
       "    </tr>\n",
       "    <tr>\n",
       "      <th>1336</th>\n",
       "      <td>-1.296362</td>\n",
       "      <td>-0.797813</td>\n",
       "      <td>-0.908614</td>\n",
       "      <td>0</td>\n",
       "      <td>-0.930362</td>\n",
       "      <td>1.0</td>\n",
       "      <td>0.0</td>\n",
       "      <td>0.0</td>\n",
       "      <td>0.0</td>\n",
       "      <td>1.0</td>\n",
       "    </tr>\n",
       "    <tr>\n",
       "      <th>1337</th>\n",
       "      <td>1.551686</td>\n",
       "      <td>-0.261388</td>\n",
       "      <td>-0.908614</td>\n",
       "      <td>1</td>\n",
       "      <td>1.311053</td>\n",
       "      <td>1.0</td>\n",
       "      <td>0.0</td>\n",
       "      <td>1.0</td>\n",
       "      <td>0.0</td>\n",
       "      <td>0.0</td>\n",
       "    </tr>\n",
       "  </tbody>\n",
       "</table>\n",
       "<p>1338 rows × 10 columns</p>\n",
       "</div>"
      ],
      "text/plain": [
       "           age       bmi  children  smoker   charges  female  northeast  \\\n",
       "0    -1.438764 -0.453320 -0.908614       1  0.298584     1.0        0.0   \n",
       "1    -1.509965  0.509621 -0.078767       0 -0.953689     0.0        0.0   \n",
       "2    -0.797954  0.383307  1.580926       0 -0.728675     0.0        0.0   \n",
       "3    -0.441948 -1.305531 -0.908614       0  0.719843     0.0        0.0   \n",
       "4    -0.513149 -0.292556 -0.908614       0 -0.776802     0.0        0.0   \n",
       "...        ...       ...       ...     ...       ...     ...        ...   \n",
       "1333  0.768473  0.050297  1.580926       0 -0.220551     0.0        0.0   \n",
       "1334 -1.509965  0.206139 -0.908614       0 -0.914002     1.0        1.0   \n",
       "1335 -1.509965  1.014878 -0.908614       0 -0.961596     1.0        0.0   \n",
       "1336 -1.296362 -0.797813 -0.908614       0 -0.930362     1.0        0.0   \n",
       "1337  1.551686 -0.261388 -0.908614       1  1.311053     1.0        0.0   \n",
       "\n",
       "      northwest  southeast  southwest  \n",
       "0           0.0        0.0        1.0  \n",
       "1           0.0        1.0        0.0  \n",
       "2           0.0        1.0        0.0  \n",
       "3           1.0        0.0        0.0  \n",
       "4           1.0        0.0        0.0  \n",
       "...         ...        ...        ...  \n",
       "1333        1.0        0.0        0.0  \n",
       "1334        0.0        0.0        0.0  \n",
       "1335        0.0        1.0        0.0  \n",
       "1336        0.0        0.0        1.0  \n",
       "1337        1.0        0.0        0.0  \n",
       "\n",
       "[1338 rows x 10 columns]"
      ]
     },
     "execution_count": 15,
     "metadata": {},
     "output_type": "execute_result"
    }
   ],
   "source": [
    "scaler = StandardScaler()\n",
    "ndata[['age','bmi','children','charges']] = scaler.fit_transform(ndata[['age','bmi','children','charges']])\n",
    "ndata"
   ]
  },
  {
   "cell_type": "markdown",
   "id": "59c0cec6",
   "metadata": {},
   "source": [
    "<h2>BASIC LINEAR MODELING"
   ]
  },
  {
   "cell_type": "code",
   "execution_count": 16,
   "id": "4c61fc3c",
   "metadata": {},
   "outputs": [],
   "source": [
    "Xtrain, Xtest, ytrain, ytest = train_test_split(ndata.drop('charges', axis = 1), ndata.charges, test_size = 0.2, shuffle = True)"
   ]
  },
  {
   "cell_type": "code",
   "execution_count": 17,
   "id": "1a2eade2",
   "metadata": {},
   "outputs": [
    {
     "name": "stdout",
     "output_type": "stream",
     "text": [
      "(1070, 9)\n",
      "(268, 9)\n",
      "(1070,)\n",
      "(268,)\n"
     ]
    }
   ],
   "source": [
    "print(Xtrain.shape)\n",
    "print(Xtest.shape)\n",
    "print(ytrain.shape)\n",
    "print(ytest.shape)"
   ]
  },
  {
   "cell_type": "code",
   "execution_count": 18,
   "id": "085475bf",
   "metadata": {},
   "outputs": [],
   "source": [
    "def adj_r2_score(actual, predicted, rc, fc):\n",
    "    return 1- (1-r2_score(actual, predicted))*(rc-1)/(rc-fc)"
   ]
  },
  {
   "cell_type": "code",
   "execution_count": 19,
   "id": "b8a7bc8d",
   "metadata": {
    "scrolled": true
   },
   "outputs": [
    {
     "data": {
      "text/html": [
       "<style>#sk-container-id-1 {color: black;background-color: white;}#sk-container-id-1 pre{padding: 0;}#sk-container-id-1 div.sk-toggleable {background-color: white;}#sk-container-id-1 label.sk-toggleable__label {cursor: pointer;display: block;width: 100%;margin-bottom: 0;padding: 0.3em;box-sizing: border-box;text-align: center;}#sk-container-id-1 label.sk-toggleable__label-arrow:before {content: \"▸\";float: left;margin-right: 0.25em;color: #696969;}#sk-container-id-1 label.sk-toggleable__label-arrow:hover:before {color: black;}#sk-container-id-1 div.sk-estimator:hover label.sk-toggleable__label-arrow:before {color: black;}#sk-container-id-1 div.sk-toggleable__content {max-height: 0;max-width: 0;overflow: hidden;text-align: left;background-color: #f0f8ff;}#sk-container-id-1 div.sk-toggleable__content pre {margin: 0.2em;color: black;border-radius: 0.25em;background-color: #f0f8ff;}#sk-container-id-1 input.sk-toggleable__control:checked~div.sk-toggleable__content {max-height: 200px;max-width: 100%;overflow: auto;}#sk-container-id-1 input.sk-toggleable__control:checked~label.sk-toggleable__label-arrow:before {content: \"▾\";}#sk-container-id-1 div.sk-estimator input.sk-toggleable__control:checked~label.sk-toggleable__label {background-color: #d4ebff;}#sk-container-id-1 div.sk-label input.sk-toggleable__control:checked~label.sk-toggleable__label {background-color: #d4ebff;}#sk-container-id-1 input.sk-hidden--visually {border: 0;clip: rect(1px 1px 1px 1px);clip: rect(1px, 1px, 1px, 1px);height: 1px;margin: -1px;overflow: hidden;padding: 0;position: absolute;width: 1px;}#sk-container-id-1 div.sk-estimator {font-family: monospace;background-color: #f0f8ff;border: 1px dotted black;border-radius: 0.25em;box-sizing: border-box;margin-bottom: 0.5em;}#sk-container-id-1 div.sk-estimator:hover {background-color: #d4ebff;}#sk-container-id-1 div.sk-parallel-item::after {content: \"\";width: 100%;border-bottom: 1px solid gray;flex-grow: 1;}#sk-container-id-1 div.sk-label:hover label.sk-toggleable__label {background-color: #d4ebff;}#sk-container-id-1 div.sk-serial::before {content: \"\";position: absolute;border-left: 1px solid gray;box-sizing: border-box;top: 0;bottom: 0;left: 50%;z-index: 0;}#sk-container-id-1 div.sk-serial {display: flex;flex-direction: column;align-items: center;background-color: white;padding-right: 0.2em;padding-left: 0.2em;position: relative;}#sk-container-id-1 div.sk-item {position: relative;z-index: 1;}#sk-container-id-1 div.sk-parallel {display: flex;align-items: stretch;justify-content: center;background-color: white;position: relative;}#sk-container-id-1 div.sk-item::before, #sk-container-id-1 div.sk-parallel-item::before {content: \"\";position: absolute;border-left: 1px solid gray;box-sizing: border-box;top: 0;bottom: 0;left: 50%;z-index: -1;}#sk-container-id-1 div.sk-parallel-item {display: flex;flex-direction: column;z-index: 1;position: relative;background-color: white;}#sk-container-id-1 div.sk-parallel-item:first-child::after {align-self: flex-end;width: 50%;}#sk-container-id-1 div.sk-parallel-item:last-child::after {align-self: flex-start;width: 50%;}#sk-container-id-1 div.sk-parallel-item:only-child::after {width: 0;}#sk-container-id-1 div.sk-dashed-wrapped {border: 1px dashed gray;margin: 0 0.4em 0.5em 0.4em;box-sizing: border-box;padding-bottom: 0.4em;background-color: white;}#sk-container-id-1 div.sk-label label {font-family: monospace;font-weight: bold;display: inline-block;line-height: 1.2em;}#sk-container-id-1 div.sk-label-container {text-align: center;}#sk-container-id-1 div.sk-container {/* jupyter's `normalize.less` sets `[hidden] { display: none; }` but bootstrap.min.css set `[hidden] { display: none !important; }` so we also need the `!important` here to be able to override the default hidden behavior on the sphinx rendered scikit-learn.org. See: https://github.com/scikit-learn/scikit-learn/issues/21755 */display: inline-block !important;position: relative;}#sk-container-id-1 div.sk-text-repr-fallback {display: none;}</style><div id=\"sk-container-id-1\" class=\"sk-top-container\"><div class=\"sk-text-repr-fallback\"><pre>LinearRegression()</pre><b>In a Jupyter environment, please rerun this cell to show the HTML representation or trust the notebook. <br />On GitHub, the HTML representation is unable to render, please try loading this page with nbviewer.org.</b></div><div class=\"sk-container\" hidden><div class=\"sk-item\"><div class=\"sk-estimator sk-toggleable\"><input class=\"sk-toggleable__control sk-hidden--visually\" id=\"sk-estimator-id-1\" type=\"checkbox\" checked><label for=\"sk-estimator-id-1\" class=\"sk-toggleable__label sk-toggleable__label-arrow\">LinearRegression</label><div class=\"sk-toggleable__content\"><pre>LinearRegression()</pre></div></div></div></div></div>"
      ],
      "text/plain": [
       "LinearRegression()"
      ]
     },
     "execution_count": 19,
     "metadata": {},
     "output_type": "execute_result"
    }
   ],
   "source": [
    "model = LinearRegression()\n",
    "model.fit(Xtrain, ytrain)\n",
    "model"
   ]
  },
  {
   "cell_type": "code",
   "execution_count": 20,
   "id": "1ffdbc6a",
   "metadata": {},
   "outputs": [],
   "source": [
    "actual = ytrain.to_numpy()\n",
    "predicted = model.predict(Xtrain)\n",
    "trainr2 = adj_r2_score(actual, predicted, Xtrain.shape[0], Xtrain.shape[1])"
   ]
  },
  {
   "cell_type": "code",
   "execution_count": 21,
   "id": "c1eeec42",
   "metadata": {},
   "outputs": [],
   "source": [
    "actual = ytest.to_numpy()\n",
    "predicted = model.predict(Xtest)\n",
    "testr2 = adj_r2_score(actual, predicted, Xtest.shape[0], Xtest.shape[1])"
   ]
  },
  {
   "cell_type": "code",
   "execution_count": 22,
   "id": "6a6dae48",
   "metadata": {},
   "outputs": [
    {
     "name": "stdout",
     "output_type": "stream",
     "text": [
      "Adjusted R2 score for training dataset: 0.7399882265036439\n",
      "Adjusted R2 score for test dataset: 0.774094844152555\n"
     ]
    }
   ],
   "source": [
    "print(f'Adjusted R2 score for training dataset: {trainr2}')\n",
    "print(f'Adjusted R2 score for test dataset: {testr2}')"
   ]
  },
  {
   "cell_type": "markdown",
   "id": "10c93ee1",
   "metadata": {},
   "source": [
    "We can see that the scores are not very good but decent for a basic linear regression model. The model seems to overfit the training data a bit"
   ]
  },
  {
   "cell_type": "code",
   "execution_count": 23,
   "id": "1a8efcf4",
   "metadata": {},
   "outputs": [],
   "source": [
    "def adj_r_sqr_lasso(Xtrain,ytrain,Xtest,ytest):\n",
    "    model = Lasso(alpha = 0.01)  \n",
    "    model.fit(Xtrain,ytrain)\n",
    "    r_2_train = model.score(Xtrain,ytrain)\n",
    "    r_2_test = model.score(Xtest,ytest)\n",
    "    adj_r_2_train =  1 - (1-r_2_train)*(len(ytrain)-1)/(len(ytrain)-Xtrain.shape[1]-1)\n",
    "    adj_r_2_test =  1 - (1-r_2_test)*(len(ytest)-1)/(len(ytest)-Xtest.shape[1]-1)  \n",
    "    return adj_r_2_train,adj_r_2_test"
   ]
  },
  {
   "cell_type": "code",
   "execution_count": 24,
   "id": "d92bc152",
   "metadata": {},
   "outputs": [],
   "source": [
    "def adj_r_sqr_ridge(Xtrain,ytrain,Xtest,ytest):\n",
    "    model = Ridge(alpha = 0.1)  \n",
    "    model.fit(Xtrain,ytrain)\n",
    "    r_2_train = model.score(Xtrain,ytrain)\n",
    "    r_2_test = model.score(Xtest,ytest)\n",
    "    adj_r_2_train =  1 - (1-r_2_train)*(len(ytrain)-1)/(len(ytrain)-Xtrain.shape[1]-1)\n",
    "    adj_r_2_test =  1 - (1-r_2_test)*(len(ytest)-1)/(len(ytest)-Xtest.shape[1]-1)  \n",
    "    return adj_r_2_train,adj_r_2_test"
   ]
  },
  {
   "cell_type": "code",
   "execution_count": 25,
   "id": "9048587e",
   "metadata": {},
   "outputs": [
    {
     "data": {
      "text/plain": [
       "(0.7374531100965662, 0.7738113949003051)"
      ]
     },
     "execution_count": 25,
     "metadata": {},
     "output_type": "execute_result"
    }
   ],
   "source": [
    "adj_r_sqr_lasso(Xtrain, ytrain, Xtest, ytest)"
   ]
  },
  {
   "cell_type": "code",
   "execution_count": 26,
   "id": "3bd889cc",
   "metadata": {},
   "outputs": [
    {
     "data": {
      "text/plain": [
       "(0.7397427168914896, 0.7731774112622648)"
      ]
     },
     "execution_count": 26,
     "metadata": {},
     "output_type": "execute_result"
    }
   ],
   "source": [
    "adj_r_sqr_ridge(Xtrain, ytrain, Xtest, ytest)"
   ]
  },
  {
   "cell_type": "markdown",
   "id": "85460ab3",
   "metadata": {},
   "source": [
    "We can see here that the Lasso and Ridge regression also did not help much. This dataset can be better modeled with RandomForest regression or with polynomial regression"
   ]
  },
  {
   "cell_type": "markdown",
   "id": "8d23d227",
   "metadata": {},
   "source": [
    "<h2>FEATURE SELECTION"
   ]
  },
  {
   "cell_type": "code",
   "execution_count": 63,
   "id": "1eb6fcbb",
   "metadata": {},
   "outputs": [],
   "source": [
    "# Now let us do feature selection and select the most optimal model"
   ]
  },
  {
   "cell_type": "code",
   "execution_count": 67,
   "id": "dbda3902",
   "metadata": {},
   "outputs": [],
   "source": [
    "def get_score(X,y):\n",
    "    model = LinearRegression()\n",
    "    model.fit(X,y)\n",
    "    pred = model.predict(X)\n",
    "    RSS = mean_squared_error(y,pred)*len(y) \n",
    "    R_squared = model.score(X,y) \n",
    "    adj_R_squared = 1 - (1-R_squared)*(len(y)-1)/(len(y)-X.shape[1]-1)\n",
    "    return RSS, R_squared, adj_R_squared "
   ]
  },
  {
   "cell_type": "code",
   "execution_count": 93,
   "id": "0e087be0",
   "metadata": {},
   "outputs": [],
   "source": [
    "m = 11\n",
    "RSS_list, R_squared_list, feature_list, adj_R_squared_list, numb_features = [], [], [], [], []\n",
    "\n",
    "tdf = ndata.drop('charges', axis = 1)\n",
    "tdf1 = ndata.charges\n",
    "\n",
    "for k in range(1,len(tdf.columns) + 1):\n",
    "    for combo in itertools.combinations(tdf.columns,k):\n",
    "        tmp_result = get_score(tdf[list(combo)],tdf1)\n",
    "        RSS_list.append(tmp_result[0])\n",
    "        R_squared_list.append(tmp_result[1])\n",
    "        adj_R_squared_list.append(tmp_result[2])\n",
    "        feature_list.append(combo)\n",
    "        numb_features.append(len(combo))   \n",
    "\n",
    "df = pd.DataFrame({'numb_features': numb_features,'RSS': RSS_list, 'R_squared':R_squared_list,'Adj_R_squared': adj_R_squared_list, 'features':feature_list})"
   ]
  },
  {
   "cell_type": "code",
   "execution_count": 94,
   "id": "5f619e7b",
   "metadata": {
    "scrolled": true
   },
   "outputs": [
    {
     "data": {
      "text/html": [
       "<div>\n",
       "<style scoped>\n",
       "    .dataframe tbody tr th:only-of-type {\n",
       "        vertical-align: middle;\n",
       "    }\n",
       "\n",
       "    .dataframe tbody tr th {\n",
       "        vertical-align: top;\n",
       "    }\n",
       "\n",
       "    .dataframe thead th {\n",
       "        text-align: right;\n",
       "    }\n",
       "</style>\n",
       "<table border=\"1\" class=\"dataframe\">\n",
       "  <thead>\n",
       "    <tr style=\"text-align: right;\">\n",
       "      <th></th>\n",
       "      <th>numb_features</th>\n",
       "      <th>RSS</th>\n",
       "      <th>R_squared</th>\n",
       "      <th>Adj_R_squared</th>\n",
       "      <th>features</th>\n",
       "    </tr>\n",
       "  </thead>\n",
       "  <tbody>\n",
       "    <tr>\n",
       "      <th>3</th>\n",
       "      <td>1</td>\n",
       "      <td>508.754678</td>\n",
       "      <td>0.619765</td>\n",
       "      <td>0.619480</td>\n",
       "      <td>(smoker,)</td>\n",
       "    </tr>\n",
       "    <tr>\n",
       "      <th>11</th>\n",
       "      <td>2</td>\n",
       "      <td>372.765695</td>\n",
       "      <td>0.721401</td>\n",
       "      <td>0.720983</td>\n",
       "      <td>(age, smoker)</td>\n",
       "    </tr>\n",
       "    <tr>\n",
       "      <th>46</th>\n",
       "      <td>3</td>\n",
       "      <td>337.875562</td>\n",
       "      <td>0.747477</td>\n",
       "      <td>0.746909</td>\n",
       "      <td>(age, bmi, smoker)</td>\n",
       "    </tr>\n",
       "    <tr>\n",
       "      <th>129</th>\n",
       "      <td>4</td>\n",
       "      <td>334.908718</td>\n",
       "      <td>0.749695</td>\n",
       "      <td>0.748943</td>\n",
       "      <td>(age, bmi, children, smoker)</td>\n",
       "    </tr>\n",
       "    <tr>\n",
       "      <th>256</th>\n",
       "      <td>5</td>\n",
       "      <td>333.925028</td>\n",
       "      <td>0.750430</td>\n",
       "      <td>0.749493</td>\n",
       "      <td>(age, bmi, children, smoker, northeast)</td>\n",
       "    </tr>\n",
       "    <tr>\n",
       "      <th>385</th>\n",
       "      <td>6</td>\n",
       "      <td>333.323734</td>\n",
       "      <td>0.750879</td>\n",
       "      <td>0.749756</td>\n",
       "      <td>(age, bmi, children, smoker, northeast, northw...</td>\n",
       "    </tr>\n",
       "    <tr>\n",
       "      <th>465</th>\n",
       "      <td>7</td>\n",
       "      <td>333.284723</td>\n",
       "      <td>0.750908</td>\n",
       "      <td>0.749597</td>\n",
       "      <td>(age, bmi, children, smoker, female, northeast...</td>\n",
       "    </tr>\n",
       "    <tr>\n",
       "      <th>501</th>\n",
       "      <td>8</td>\n",
       "      <td>333.278360</td>\n",
       "      <td>0.750913</td>\n",
       "      <td>0.749414</td>\n",
       "      <td>(age, bmi, children, smoker, female, northeast...</td>\n",
       "    </tr>\n",
       "    <tr>\n",
       "      <th>502</th>\n",
       "      <td>8</td>\n",
       "      <td>333.278360</td>\n",
       "      <td>0.750913</td>\n",
       "      <td>0.749414</td>\n",
       "      <td>(age, bmi, children, smoker, female, northeast...</td>\n",
       "    </tr>\n",
       "    <tr>\n",
       "      <th>503</th>\n",
       "      <td>8</td>\n",
       "      <td>333.278360</td>\n",
       "      <td>0.750913</td>\n",
       "      <td>0.749414</td>\n",
       "      <td>(age, bmi, children, smoker, female, northeast...</td>\n",
       "    </tr>\n",
       "  </tbody>\n",
       "</table>\n",
       "</div>"
      ],
      "text/plain": [
       "     numb_features         RSS  R_squared  Adj_R_squared  \\\n",
       "3                1  508.754678   0.619765       0.619480   \n",
       "11               2  372.765695   0.721401       0.720983   \n",
       "46               3  337.875562   0.747477       0.746909   \n",
       "129              4  334.908718   0.749695       0.748943   \n",
       "256              5  333.925028   0.750430       0.749493   \n",
       "385              6  333.323734   0.750879       0.749756   \n",
       "465              7  333.284723   0.750908       0.749597   \n",
       "501              8  333.278360   0.750913       0.749414   \n",
       "502              8  333.278360   0.750913       0.749414   \n",
       "503              8  333.278360   0.750913       0.749414   \n",
       "\n",
       "                                              features  \n",
       "3                                            (smoker,)  \n",
       "11                                       (age, smoker)  \n",
       "46                                  (age, bmi, smoker)  \n",
       "129                       (age, bmi, children, smoker)  \n",
       "256            (age, bmi, children, smoker, northeast)  \n",
       "385  (age, bmi, children, smoker, northeast, northw...  \n",
       "465  (age, bmi, children, smoker, female, northeast...  \n",
       "501  (age, bmi, children, smoker, female, northeast...  \n",
       "502  (age, bmi, children, smoker, female, northeast...  \n",
       "503  (age, bmi, children, smoker, female, northeast...  "
      ]
     },
     "metadata": {},
     "output_type": "display_data"
    }
   ],
   "source": [
    "df_max_adj = df[df.groupby('numb_features')['Adj_R_squared'].transform(max) == df['Adj_R_squared']]\n",
    "display(df_max_adj.head(10))"
   ]
  },
  {
   "cell_type": "code",
   "execution_count": 88,
   "id": "b5519682",
   "metadata": {},
   "outputs": [],
   "source": [
    "# Here let us choose the model with the 7 features which has the Adjusted R squared value of .749597\n",
    "# the features are ['age', 'bmi', 'children', 'smoker', 'female', 'northeast', 'northwest']"
   ]
  },
  {
   "cell_type": "code",
   "execution_count": 95,
   "id": "9cbfc66c",
   "metadata": {},
   "outputs": [],
   "source": [
    "X = ndata[['age', 'bmi', 'children', 'smoker', 'female', 'northeast', 'northwest']]\n",
    "y = ndata.charges\n",
    "#sns.pairplot(tmp_df)"
   ]
  },
  {
   "cell_type": "markdown",
   "id": "cf99c196",
   "metadata": {},
   "source": [
    "<h2>MODELING WITH THE SELECTED FEATURES"
   ]
  },
  {
   "cell_type": "code",
   "execution_count": 97,
   "id": "8d31a73b",
   "metadata": {},
   "outputs": [
    {
     "data": {
      "text/plain": [
       "(1338, 7)"
      ]
     },
     "execution_count": 97,
     "metadata": {},
     "output_type": "execute_result"
    }
   ],
   "source": [
    "X.shape"
   ]
  },
  {
   "cell_type": "code",
   "execution_count": 98,
   "id": "54eccdb1",
   "metadata": {},
   "outputs": [
    {
     "data": {
      "text/plain": [
       "(1338,)"
      ]
     },
     "execution_count": 98,
     "metadata": {},
     "output_type": "execute_result"
    }
   ],
   "source": [
    "y.shape"
   ]
  },
  {
   "cell_type": "code",
   "execution_count": 123,
   "id": "c462a083",
   "metadata": {},
   "outputs": [],
   "source": [
    "Xtr, Xte, ytr, yte = train_test_split(X, y, test_size = 0.4, shuffle = True, random_state = 42)"
   ]
  },
  {
   "cell_type": "code",
   "execution_count": 124,
   "id": "cfa08504",
   "metadata": {},
   "outputs": [
    {
     "name": "stdout",
     "output_type": "stream",
     "text": [
      "(802, 7)\n",
      "(536, 7)\n",
      "(802,)\n",
      "(536,)\n"
     ]
    }
   ],
   "source": [
    "print(Xtr.shape)\n",
    "print(Xte.shape)\n",
    "print(ytr.shape)\n",
    "print(yte.shape)"
   ]
  },
  {
   "cell_type": "code",
   "execution_count": 125,
   "id": "c485b93f",
   "metadata": {},
   "outputs": [
    {
     "data": {
      "text/html": [
       "<style>#sk-container-id-7 {color: black;background-color: white;}#sk-container-id-7 pre{padding: 0;}#sk-container-id-7 div.sk-toggleable {background-color: white;}#sk-container-id-7 label.sk-toggleable__label {cursor: pointer;display: block;width: 100%;margin-bottom: 0;padding: 0.3em;box-sizing: border-box;text-align: center;}#sk-container-id-7 label.sk-toggleable__label-arrow:before {content: \"▸\";float: left;margin-right: 0.25em;color: #696969;}#sk-container-id-7 label.sk-toggleable__label-arrow:hover:before {color: black;}#sk-container-id-7 div.sk-estimator:hover label.sk-toggleable__label-arrow:before {color: black;}#sk-container-id-7 div.sk-toggleable__content {max-height: 0;max-width: 0;overflow: hidden;text-align: left;background-color: #f0f8ff;}#sk-container-id-7 div.sk-toggleable__content pre {margin: 0.2em;color: black;border-radius: 0.25em;background-color: #f0f8ff;}#sk-container-id-7 input.sk-toggleable__control:checked~div.sk-toggleable__content {max-height: 200px;max-width: 100%;overflow: auto;}#sk-container-id-7 input.sk-toggleable__control:checked~label.sk-toggleable__label-arrow:before {content: \"▾\";}#sk-container-id-7 div.sk-estimator input.sk-toggleable__control:checked~label.sk-toggleable__label {background-color: #d4ebff;}#sk-container-id-7 div.sk-label input.sk-toggleable__control:checked~label.sk-toggleable__label {background-color: #d4ebff;}#sk-container-id-7 input.sk-hidden--visually {border: 0;clip: rect(1px 1px 1px 1px);clip: rect(1px, 1px, 1px, 1px);height: 1px;margin: -1px;overflow: hidden;padding: 0;position: absolute;width: 1px;}#sk-container-id-7 div.sk-estimator {font-family: monospace;background-color: #f0f8ff;border: 1px dotted black;border-radius: 0.25em;box-sizing: border-box;margin-bottom: 0.5em;}#sk-container-id-7 div.sk-estimator:hover {background-color: #d4ebff;}#sk-container-id-7 div.sk-parallel-item::after {content: \"\";width: 100%;border-bottom: 1px solid gray;flex-grow: 1;}#sk-container-id-7 div.sk-label:hover label.sk-toggleable__label {background-color: #d4ebff;}#sk-container-id-7 div.sk-serial::before {content: \"\";position: absolute;border-left: 1px solid gray;box-sizing: border-box;top: 0;bottom: 0;left: 50%;z-index: 0;}#sk-container-id-7 div.sk-serial {display: flex;flex-direction: column;align-items: center;background-color: white;padding-right: 0.2em;padding-left: 0.2em;position: relative;}#sk-container-id-7 div.sk-item {position: relative;z-index: 1;}#sk-container-id-7 div.sk-parallel {display: flex;align-items: stretch;justify-content: center;background-color: white;position: relative;}#sk-container-id-7 div.sk-item::before, #sk-container-id-7 div.sk-parallel-item::before {content: \"\";position: absolute;border-left: 1px solid gray;box-sizing: border-box;top: 0;bottom: 0;left: 50%;z-index: -1;}#sk-container-id-7 div.sk-parallel-item {display: flex;flex-direction: column;z-index: 1;position: relative;background-color: white;}#sk-container-id-7 div.sk-parallel-item:first-child::after {align-self: flex-end;width: 50%;}#sk-container-id-7 div.sk-parallel-item:last-child::after {align-self: flex-start;width: 50%;}#sk-container-id-7 div.sk-parallel-item:only-child::after {width: 0;}#sk-container-id-7 div.sk-dashed-wrapped {border: 1px dashed gray;margin: 0 0.4em 0.5em 0.4em;box-sizing: border-box;padding-bottom: 0.4em;background-color: white;}#sk-container-id-7 div.sk-label label {font-family: monospace;font-weight: bold;display: inline-block;line-height: 1.2em;}#sk-container-id-7 div.sk-label-container {text-align: center;}#sk-container-id-7 div.sk-container {/* jupyter's `normalize.less` sets `[hidden] { display: none; }` but bootstrap.min.css set `[hidden] { display: none !important; }` so we also need the `!important` here to be able to override the default hidden behavior on the sphinx rendered scikit-learn.org. See: https://github.com/scikit-learn/scikit-learn/issues/21755 */display: inline-block !important;position: relative;}#sk-container-id-7 div.sk-text-repr-fallback {display: none;}</style><div id=\"sk-container-id-7\" class=\"sk-top-container\"><div class=\"sk-text-repr-fallback\"><pre>LinearRegression()</pre><b>In a Jupyter environment, please rerun this cell to show the HTML representation or trust the notebook. <br />On GitHub, the HTML representation is unable to render, please try loading this page with nbviewer.org.</b></div><div class=\"sk-container\" hidden><div class=\"sk-item\"><div class=\"sk-estimator sk-toggleable\"><input class=\"sk-toggleable__control sk-hidden--visually\" id=\"sk-estimator-id-7\" type=\"checkbox\" checked><label for=\"sk-estimator-id-7\" class=\"sk-toggleable__label sk-toggleable__label-arrow\">LinearRegression</label><div class=\"sk-toggleable__content\"><pre>LinearRegression()</pre></div></div></div></div></div>"
      ],
      "text/plain": [
       "LinearRegression()"
      ]
     },
     "execution_count": 125,
     "metadata": {},
     "output_type": "execute_result"
    }
   ],
   "source": [
    "finalmodel = LinearRegression()\n",
    "finalmodel.fit(Xtr, ytr)"
   ]
  },
  {
   "cell_type": "code",
   "execution_count": 126,
   "id": "123f8bd9",
   "metadata": {},
   "outputs": [],
   "source": [
    "actu = ytr.to_numpy()\n",
    "pred = finalmodel.predict(Xtr)\n",
    "trainr = adj_r2_score(actu, pred, Xtr.shape[0], Xtr.shape[1])"
   ]
  },
  {
   "cell_type": "code",
   "execution_count": 127,
   "id": "cb74c285",
   "metadata": {},
   "outputs": [],
   "source": [
    "actu1 = yte.to_numpy()\n",
    "pred1 = finalmodel.predict(Xte)\n",
    "testr = adj_r2_score(actu1, pred1, Xte.shape[0], Xte.shape[1])"
   ]
  },
  {
   "cell_type": "code",
   "execution_count": 128,
   "id": "8acf7d7a",
   "metadata": {},
   "outputs": [
    {
     "name": "stdout",
     "output_type": "stream",
     "text": [
      "Adjusted R2 score for training dataset: 0.7403205036607674\n",
      "Adjusted R2 score for test dataset: 0.7593452529036959\n"
     ]
    }
   ],
   "source": [
    "print(f'Adjusted R2 score for training dataset: {trainr}')\n",
    "print(f'Adjusted R2 score for test dataset: {testr}')"
   ]
  }
 ],
 "metadata": {
  "kernelspec": {
   "display_name": "Python 3 (ipykernel)",
   "language": "python",
   "name": "python3"
  },
  "language_info": {
   "codemirror_mode": {
    "name": "ipython",
    "version": 3
   },
   "file_extension": ".py",
   "mimetype": "text/x-python",
   "name": "python",
   "nbconvert_exporter": "python",
   "pygments_lexer": "ipython3",
   "version": "3.8.10"
  }
 },
 "nbformat": 4,
 "nbformat_minor": 5
}
