{
  "cells": [
    {
      "cell_type": "code",
      "execution_count": 1,
      "id": "4e64d82d",
      "metadata": {
        "id": "4e64d82d"
      },
      "outputs": [],
      "source": [
        "import pandas as pd\n",
        "import numpy as np\n",
        "from sklearn.decomposition import PCA\n",
        "import string\n",
        "from sklearn.preprocessing import LabelEncoder as le, OrdinalEncoder as oe, StandardScaler as ss, MinMaxScaler as mms, OneHotEncoder\n",
        "import seaborn as sns\n",
        "import matplotlib.pyplot as plt\n",
        "from sklearn.compose import ColumnTransformer\n",
        "from sklearn.model_selection import train_test_split\n",
        "from sklearn.naive_bayes import GaussianNB, MultinomialNB, BernoulliNB\n",
        "from sklearn.linear_model import LogisticRegression\n",
        "from sklearn import svm\n",
        "from sklearn.tree import DecisionTreeClassifier\n",
        "from sklearn.ensemble import BaggingClassifier, RandomForestClassifier, GradientBoostingClassifier\n",
        "from sklearn.neighbors import KNeighborsClassifier\n",
        "from sklearn.metrics import classification_report, confusion_matrix, accuracy_score, log_loss\n",
        "from sklearn.pipeline import Pipeline\n",
        "from sklearn.model_selection import train_test_split, GridSearchCV, StratifiedKFold, RandomizedSearchCV\n",
        "import matplotlib.pyplot as plt\n",
        "import seaborn as sn\n",
        "from sklearn.metrics import confusion_matrix\n",
        "import xgboost as xgb\n",
        "from xgboost import plot_tree"
      ]
    },
    {
      "cell_type": "code",
      "execution_count": 2,
      "id": "Emk8EIIm_ZyF",
      "metadata": {
        "id": "Emk8EIIm_ZyF"
      },
      "outputs": [],
      "source": [
        "#path = f'/content/drive/MyDrive/Colab Notebooks/hackathons/AnalyticsOlympiad2022Data/data/'\n",
        "path = 'data/'"
      ]
    },
    {
      "cell_type": "code",
      "execution_count": 7,
      "id": "f6ed50dd",
      "metadata": {
        "id": "f6ed50dd"
      },
      "outputs": [],
      "source": [
        "train = pd.read_csv(path+'train.csv')"
      ]
    },
    {
      "cell_type": "code",
      "execution_count": 9,
      "id": "89c98672",
      "metadata": {
        "colab": {
          "base_uri": "https://localhost:8080/",
          "height": 357
        },
        "id": "89c98672",
        "outputId": "b902f61f-e5a1-4ff0-c509-24ee598e0a31",
        "scrolled": true
      },
      "outputs": [
        {
          "output_type": "execute_result",
          "data": {
            "text/plain": [
              "       ID    AGE  GENDER DRIVING_EXPERIENCE    EDUCATION         INCOME  \\\n",
              "0  816393  40-64  female             20-29y   university   middle class   \n",
              "1  251762  26-39    male             20-29y  high school   middle class   \n",
              "2  481952  40-64    male             20-29y         none   middle class   \n",
              "3    3506  40-64    male             20-29y  high school    upper class   \n",
              "4  498013  40-64  female             20-29y         none  working class   \n",
              "\n",
              "   CREDIT_SCORE  VEHICLE_OWNERSHIP VEHICLE_YEAR  MARRIED  CHILDREN  \\\n",
              "0      0.638050                0.0   after 2015      0.0       0.0   \n",
              "1      0.475741                1.0  before 2015      1.0       0.0   \n",
              "2      0.839817                1.0  before 2015      1.0       1.0   \n",
              "3      0.682527                1.0  before 2015      0.0       1.0   \n",
              "4      0.572184                1.0   after 2015      1.0       1.0   \n",
              "\n",
              "   POSTAL_CODE  ANNUAL_MILEAGE  SPEEDING_VIOLATIONS  DUIS  PAST_ACCIDENTS  \\\n",
              "0        37379         11000.0                    0     0               0   \n",
              "1        10238          9000.0                    0     0               0   \n",
              "2        10238         12000.0                    0     0               0   \n",
              "3        92099          6000.0                    1     0               0   \n",
              "4        32122         15000.0                    0     0               1   \n",
              "\n",
              "   OUTCOME TYPE_OF_VEHICLE  \n",
              "0      0.0      Sports Car  \n",
              "1      1.0       HatchBack  \n",
              "2      1.0           Sedan  \n",
              "3      1.0           Sedan  \n",
              "4      0.0           Sedan  "
            ],
            "text/html": [
              "\n",
              "  <div id=\"df-0c4b5f9f-3ec3-4e1c-b157-6317cda24267\">\n",
              "    <div class=\"colab-df-container\">\n",
              "      <div>\n",
              "<style scoped>\n",
              "    .dataframe tbody tr th:only-of-type {\n",
              "        vertical-align: middle;\n",
              "    }\n",
              "\n",
              "    .dataframe tbody tr th {\n",
              "        vertical-align: top;\n",
              "    }\n",
              "\n",
              "    .dataframe thead th {\n",
              "        text-align: right;\n",
              "    }\n",
              "</style>\n",
              "<table border=\"1\" class=\"dataframe\">\n",
              "  <thead>\n",
              "    <tr style=\"text-align: right;\">\n",
              "      <th></th>\n",
              "      <th>ID</th>\n",
              "      <th>AGE</th>\n",
              "      <th>GENDER</th>\n",
              "      <th>DRIVING_EXPERIENCE</th>\n",
              "      <th>EDUCATION</th>\n",
              "      <th>INCOME</th>\n",
              "      <th>CREDIT_SCORE</th>\n",
              "      <th>VEHICLE_OWNERSHIP</th>\n",
              "      <th>VEHICLE_YEAR</th>\n",
              "      <th>MARRIED</th>\n",
              "      <th>CHILDREN</th>\n",
              "      <th>POSTAL_CODE</th>\n",
              "      <th>ANNUAL_MILEAGE</th>\n",
              "      <th>SPEEDING_VIOLATIONS</th>\n",
              "      <th>DUIS</th>\n",
              "      <th>PAST_ACCIDENTS</th>\n",
              "      <th>OUTCOME</th>\n",
              "      <th>TYPE_OF_VEHICLE</th>\n",
              "    </tr>\n",
              "  </thead>\n",
              "  <tbody>\n",
              "    <tr>\n",
              "      <th>0</th>\n",
              "      <td>816393</td>\n",
              "      <td>40-64</td>\n",
              "      <td>female</td>\n",
              "      <td>20-29y</td>\n",
              "      <td>university</td>\n",
              "      <td>middle class</td>\n",
              "      <td>0.638050</td>\n",
              "      <td>0.0</td>\n",
              "      <td>after 2015</td>\n",
              "      <td>0.0</td>\n",
              "      <td>0.0</td>\n",
              "      <td>37379</td>\n",
              "      <td>11000.0</td>\n",
              "      <td>0</td>\n",
              "      <td>0</td>\n",
              "      <td>0</td>\n",
              "      <td>0.0</td>\n",
              "      <td>Sports Car</td>\n",
              "    </tr>\n",
              "    <tr>\n",
              "      <th>1</th>\n",
              "      <td>251762</td>\n",
              "      <td>26-39</td>\n",
              "      <td>male</td>\n",
              "      <td>20-29y</td>\n",
              "      <td>high school</td>\n",
              "      <td>middle class</td>\n",
              "      <td>0.475741</td>\n",
              "      <td>1.0</td>\n",
              "      <td>before 2015</td>\n",
              "      <td>1.0</td>\n",
              "      <td>0.0</td>\n",
              "      <td>10238</td>\n",
              "      <td>9000.0</td>\n",
              "      <td>0</td>\n",
              "      <td>0</td>\n",
              "      <td>0</td>\n",
              "      <td>1.0</td>\n",
              "      <td>HatchBack</td>\n",
              "    </tr>\n",
              "    <tr>\n",
              "      <th>2</th>\n",
              "      <td>481952</td>\n",
              "      <td>40-64</td>\n",
              "      <td>male</td>\n",
              "      <td>20-29y</td>\n",
              "      <td>none</td>\n",
              "      <td>middle class</td>\n",
              "      <td>0.839817</td>\n",
              "      <td>1.0</td>\n",
              "      <td>before 2015</td>\n",
              "      <td>1.0</td>\n",
              "      <td>1.0</td>\n",
              "      <td>10238</td>\n",
              "      <td>12000.0</td>\n",
              "      <td>0</td>\n",
              "      <td>0</td>\n",
              "      <td>0</td>\n",
              "      <td>1.0</td>\n",
              "      <td>Sedan</td>\n",
              "    </tr>\n",
              "    <tr>\n",
              "      <th>3</th>\n",
              "      <td>3506</td>\n",
              "      <td>40-64</td>\n",
              "      <td>male</td>\n",
              "      <td>20-29y</td>\n",
              "      <td>high school</td>\n",
              "      <td>upper class</td>\n",
              "      <td>0.682527</td>\n",
              "      <td>1.0</td>\n",
              "      <td>before 2015</td>\n",
              "      <td>0.0</td>\n",
              "      <td>1.0</td>\n",
              "      <td>92099</td>\n",
              "      <td>6000.0</td>\n",
              "      <td>1</td>\n",
              "      <td>0</td>\n",
              "      <td>0</td>\n",
              "      <td>1.0</td>\n",
              "      <td>Sedan</td>\n",
              "    </tr>\n",
              "    <tr>\n",
              "      <th>4</th>\n",
              "      <td>498013</td>\n",
              "      <td>40-64</td>\n",
              "      <td>female</td>\n",
              "      <td>20-29y</td>\n",
              "      <td>none</td>\n",
              "      <td>working class</td>\n",
              "      <td>0.572184</td>\n",
              "      <td>1.0</td>\n",
              "      <td>after 2015</td>\n",
              "      <td>1.0</td>\n",
              "      <td>1.0</td>\n",
              "      <td>32122</td>\n",
              "      <td>15000.0</td>\n",
              "      <td>0</td>\n",
              "      <td>0</td>\n",
              "      <td>1</td>\n",
              "      <td>0.0</td>\n",
              "      <td>Sedan</td>\n",
              "    </tr>\n",
              "  </tbody>\n",
              "</table>\n",
              "</div>\n",
              "      <button class=\"colab-df-convert\" onclick=\"convertToInteractive('df-0c4b5f9f-3ec3-4e1c-b157-6317cda24267')\"\n",
              "              title=\"Convert this dataframe to an interactive table.\"\n",
              "              style=\"display:none;\">\n",
              "        \n",
              "  <svg xmlns=\"http://www.w3.org/2000/svg\" height=\"24px\"viewBox=\"0 0 24 24\"\n",
              "       width=\"24px\">\n",
              "    <path d=\"M0 0h24v24H0V0z\" fill=\"none\"/>\n",
              "    <path d=\"M18.56 5.44l.94 2.06.94-2.06 2.06-.94-2.06-.94-.94-2.06-.94 2.06-2.06.94zm-11 1L8.5 8.5l.94-2.06 2.06-.94-2.06-.94L8.5 2.5l-.94 2.06-2.06.94zm10 10l.94 2.06.94-2.06 2.06-.94-2.06-.94-.94-2.06-.94 2.06-2.06.94z\"/><path d=\"M17.41 7.96l-1.37-1.37c-.4-.4-.92-.59-1.43-.59-.52 0-1.04.2-1.43.59L10.3 9.45l-7.72 7.72c-.78.78-.78 2.05 0 2.83L4 21.41c.39.39.9.59 1.41.59.51 0 1.02-.2 1.41-.59l7.78-7.78 2.81-2.81c.8-.78.8-2.07 0-2.86zM5.41 20L4 18.59l7.72-7.72 1.47 1.35L5.41 20z\"/>\n",
              "  </svg>\n",
              "      </button>\n",
              "      \n",
              "  <style>\n",
              "    .colab-df-container {\n",
              "      display:flex;\n",
              "      flex-wrap:wrap;\n",
              "      gap: 12px;\n",
              "    }\n",
              "\n",
              "    .colab-df-convert {\n",
              "      background-color: #E8F0FE;\n",
              "      border: none;\n",
              "      border-radius: 50%;\n",
              "      cursor: pointer;\n",
              "      display: none;\n",
              "      fill: #1967D2;\n",
              "      height: 32px;\n",
              "      padding: 0 0 0 0;\n",
              "      width: 32px;\n",
              "    }\n",
              "\n",
              "    .colab-df-convert:hover {\n",
              "      background-color: #E2EBFA;\n",
              "      box-shadow: 0px 1px 2px rgba(60, 64, 67, 0.3), 0px 1px 3px 1px rgba(60, 64, 67, 0.15);\n",
              "      fill: #174EA6;\n",
              "    }\n",
              "\n",
              "    [theme=dark] .colab-df-convert {\n",
              "      background-color: #3B4455;\n",
              "      fill: #D2E3FC;\n",
              "    }\n",
              "\n",
              "    [theme=dark] .colab-df-convert:hover {\n",
              "      background-color: #434B5C;\n",
              "      box-shadow: 0px 1px 3px 1px rgba(0, 0, 0, 0.15);\n",
              "      filter: drop-shadow(0px 1px 2px rgba(0, 0, 0, 0.3));\n",
              "      fill: #FFFFFF;\n",
              "    }\n",
              "  </style>\n",
              "\n",
              "      <script>\n",
              "        const buttonEl =\n",
              "          document.querySelector('#df-0c4b5f9f-3ec3-4e1c-b157-6317cda24267 button.colab-df-convert');\n",
              "        buttonEl.style.display =\n",
              "          google.colab.kernel.accessAllowed ? 'block' : 'none';\n",
              "\n",
              "        async function convertToInteractive(key) {\n",
              "          const element = document.querySelector('#df-0c4b5f9f-3ec3-4e1c-b157-6317cda24267');\n",
              "          const dataTable =\n",
              "            await google.colab.kernel.invokeFunction('convertToInteractive',\n",
              "                                                     [key], {});\n",
              "          if (!dataTable) return;\n",
              "\n",
              "          const docLinkHtml = 'Like what you see? Visit the ' +\n",
              "            '<a target=\"_blank\" href=https://colab.research.google.com/notebooks/data_table.ipynb>data table notebook</a>'\n",
              "            + ' to learn more about interactive tables.';\n",
              "          element.innerHTML = '';\n",
              "          dataTable['output_type'] = 'display_data';\n",
              "          await google.colab.output.renderOutput(dataTable, element);\n",
              "          const docLink = document.createElement('div');\n",
              "          docLink.innerHTML = docLinkHtml;\n",
              "          element.appendChild(docLink);\n",
              "        }\n",
              "      </script>\n",
              "    </div>\n",
              "  </div>\n",
              "  "
            ]
          },
          "metadata": {},
          "execution_count": 9
        }
      ],
      "source": [
        "train.head()"
      ]
    },
    {
      "cell_type": "code",
      "execution_count": 10,
      "id": "351e3d21",
      "metadata": {
        "colab": {
          "base_uri": "https://localhost:8080/"
        },
        "id": "351e3d21",
        "outputId": "5ea7cb64-8534-4237-f0fd-42cb1d72874f"
      },
      "outputs": [
        {
          "output_type": "stream",
          "name": "stdout",
          "text": [
            "<class 'pandas.core.frame.DataFrame'>\n",
            "RangeIndex: 105000 entries, 0 to 104999\n",
            "Data columns (total 18 columns):\n",
            " #   Column               Non-Null Count   Dtype  \n",
            "---  ------               --------------   -----  \n",
            " 0   ID                   105000 non-null  int64  \n",
            " 1   AGE                  105000 non-null  object \n",
            " 2   GENDER               105000 non-null  object \n",
            " 3   DRIVING_EXPERIENCE   105000 non-null  object \n",
            " 4   EDUCATION            105000 non-null  object \n",
            " 5   INCOME               105000 non-null  object \n",
            " 6   CREDIT_SCORE         105000 non-null  float64\n",
            " 7   VEHICLE_OWNERSHIP    105000 non-null  float64\n",
            " 8   VEHICLE_YEAR         105000 non-null  object \n",
            " 9   MARRIED              105000 non-null  float64\n",
            " 10  CHILDREN             105000 non-null  float64\n",
            " 11  POSTAL_CODE          105000 non-null  int64  \n",
            " 12  ANNUAL_MILEAGE       105000 non-null  float64\n",
            " 13  SPEEDING_VIOLATIONS  105000 non-null  int64  \n",
            " 14  DUIS                 105000 non-null  int64  \n",
            " 15  PAST_ACCIDENTS       105000 non-null  int64  \n",
            " 16  OUTCOME              105000 non-null  float64\n",
            " 17  TYPE_OF_VEHICLE      105000 non-null  object \n",
            "dtypes: float64(6), int64(5), object(7)\n",
            "memory usage: 14.4+ MB\n"
          ]
        }
      ],
      "source": [
        "train.info()"
      ]
    },
    {
      "cell_type": "code",
      "execution_count": 11,
      "id": "2e9cc624",
      "metadata": {
        "colab": {
          "base_uri": "https://localhost:8080/"
        },
        "id": "2e9cc624",
        "outputId": "d5310bb1-04ed-43e2-93a9-41fa580d0c72"
      },
      "outputs": [
        {
          "output_type": "execute_result",
          "data": {
            "text/plain": [
              "6515"
            ]
          },
          "metadata": {},
          "execution_count": 11
        }
      ],
      "source": [
        "train['ID'].duplicated().sum()"
      ]
    },
    {
      "cell_type": "code",
      "execution_count": 12,
      "id": "ef3701f6",
      "metadata": {
        "id": "ef3701f6"
      },
      "outputs": [],
      "source": [
        "train.columns = [x.lower() for x in list(train.columns)]"
      ]
    },
    {
      "cell_type": "code",
      "execution_count": 13,
      "id": "f809f6ac",
      "metadata": {
        "colab": {
          "base_uri": "https://localhost:8080/"
        },
        "id": "f809f6ac",
        "outputId": "908349f3-7369-4492-cd92-159dd00bf526"
      },
      "outputs": [
        {
          "output_type": "execute_result",
          "data": {
            "text/plain": [
              "0.0    60622\n",
              "1.0    44378\n",
              "Name: outcome, dtype: int64"
            ]
          },
          "metadata": {},
          "execution_count": 13
        }
      ],
      "source": [
        "train['outcome'].value_counts()"
      ]
    },
    {
      "cell_type": "code",
      "execution_count": 14,
      "id": "7365defc",
      "metadata": {
        "colab": {
          "base_uri": "https://localhost:8080/"
        },
        "id": "7365defc",
        "outputId": "803160e0-9225-4202-eaf3-1c10c1dcd6c3"
      },
      "outputs": [
        {
          "output_type": "execute_result",
          "data": {
            "text/plain": [
              "id                     0\n",
              "age                    0\n",
              "gender                 0\n",
              "driving_experience     0\n",
              "education              0\n",
              "income                 0\n",
              "credit_score           0\n",
              "vehicle_ownership      0\n",
              "vehicle_year           0\n",
              "married                0\n",
              "children               0\n",
              "postal_code            0\n",
              "annual_mileage         0\n",
              "speeding_violations    0\n",
              "duis                   0\n",
              "past_accidents         0\n",
              "outcome                0\n",
              "type_of_vehicle        0\n",
              "dtype: int64"
            ]
          },
          "metadata": {},
          "execution_count": 14
        }
      ],
      "source": [
        "train.isnull().sum()"
      ]
    },
    {
      "cell_type": "code",
      "execution_count": 15,
      "id": "aa7beb52",
      "metadata": {
        "colab": {
          "base_uri": "https://localhost:8080/"
        },
        "id": "aa7beb52",
        "outputId": "eb8f387c-7b30-4a00-e30c-8a8b9e20f690"
      },
      "outputs": [
        {
          "output_type": "execute_result",
          "data": {
            "text/plain": [
              "0"
            ]
          },
          "metadata": {},
          "execution_count": 15
        }
      ],
      "source": [
        "train.duplicated().sum()"
      ]
    },
    {
      "cell_type": "markdown",
      "id": "5bf03960",
      "metadata": {
        "id": "5bf03960"
      },
      "source": [
        "#### Numerical columns:\n",
        "- id\n",
        "- credit_score\n",
        "- vehicle_ownership\n",
        "- married\n",
        "- children\n",
        "- postal_code\n",
        "- annual_mileage\n",
        "- speeding_violations\n",
        "- duis\n",
        "- past_accidents\n",
        "- outcome\n",
        "\n",
        "#### Categorical columns:\n",
        "- age\n",
        "- gender\n",
        "- driving_experience\n",
        "- education\n",
        "- income\n",
        "- vehicle_year\n",
        "- type_of_vehicle"
      ]
    },
    {
      "cell_type": "markdown",
      "id": "8702f92e",
      "metadata": {
        "id": "8702f92e"
      },
      "source": [
        "### No duplicates and Null values"
      ]
    },
    {
      "cell_type": "code",
      "execution_count": 16,
      "id": "29653a75",
      "metadata": {
        "id": "29653a75"
      },
      "outputs": [],
      "source": [
        "def check_value_cnts(var):\n",
        "    print('------------------------------------------------------------------------')\n",
        "    print(train[var].value_counts())"
      ]
    },
    {
      "cell_type": "code",
      "execution_count": 17,
      "id": "2e9bec8a",
      "metadata": {
        "id": "2e9bec8a"
      },
      "outputs": [],
      "source": [
        "nums = list(train.select_dtypes(include='number').columns)\n",
        "cats = list(train.select_dtypes(include='object').columns)"
      ]
    },
    {
      "cell_type": "code",
      "execution_count": 18,
      "id": "f229ea79",
      "metadata": {
        "colab": {
          "base_uri": "https://localhost:8080/"
        },
        "id": "f229ea79",
        "outputId": "7c7d82e4-dc83-4f0f-bd05-081e8d50440d"
      },
      "outputs": [
        {
          "output_type": "stream",
          "name": "stdout",
          "text": [
            "------------------------------------------------------------------------\n",
            "40-64    33716\n",
            "65+      32962\n",
            "26-39    20018\n",
            "16-25    18304\n",
            "Name: age, dtype: int64\n",
            "------------------------------------------------------------------------\n",
            "male      65317\n",
            "female    39683\n",
            "Name: gender, dtype: int64\n",
            "------------------------------------------------------------------------\n",
            "20-29y    37493\n",
            "0-9y      33111\n",
            "10-19y    25101\n",
            "30y+       9295\n",
            "Name: driving_experience, dtype: int64\n",
            "------------------------------------------------------------------------\n",
            "high school    46590\n",
            "university     31220\n",
            "none           27190\n",
            "Name: education, dtype: int64\n",
            "------------------------------------------------------------------------\n",
            "upper class      51271\n",
            "working class    24454\n",
            "middle class     14738\n",
            "poverty          14537\n",
            "Name: income, dtype: int64\n",
            "------------------------------------------------------------------------\n",
            "before 2015    57511\n",
            "after 2015     47489\n",
            "Name: vehicle_year, dtype: int64\n",
            "------------------------------------------------------------------------\n",
            "Sports Car    34592\n",
            "Sedan         28120\n",
            "HatchBack     24900\n",
            "SUV           17388\n",
            "Name: type_of_vehicle, dtype: int64\n"
          ]
        },
        {
          "output_type": "execute_result",
          "data": {
            "text/plain": [
              "[None, None, None, None, None, None, None]"
            ]
          },
          "metadata": {},
          "execution_count": 18
        }
      ],
      "source": [
        "list(map(check_value_cnts, cats))"
      ]
    },
    {
      "cell_type": "markdown",
      "id": "5dc96724",
      "metadata": {
        "id": "5dc96724"
      },
      "source": [
        "### Feature transformation and encoding"
      ]
    },
    {
      "cell_type": "markdown",
      "id": "d0f7f1f9",
      "metadata": {
        "id": "d0f7f1f9"
      },
      "source": [
        "#### Features to be Label Encoded(Nominal):\n",
        "- gender\n",
        "- type_of_vehicle\n",
        "- vehicle_year\n",
        "\n",
        "#### Features to be Ordinal Encoded(Ordinal):\n",
        "- age\n",
        "- driving_experience\n",
        "- education\n",
        "- income"
      ]
    },
    {
      "cell_type": "code",
      "execution_count": 19,
      "id": "c4e80586",
      "metadata": {
        "id": "c4e80586"
      },
      "outputs": [],
      "source": [
        "y = train['outcome']\n",
        "X = train.drop('outcome', axis = 1)"
      ]
    },
    {
      "cell_type": "code",
      "execution_count": 20,
      "id": "18c64304",
      "metadata": {
        "id": "18c64304"
      },
      "outputs": [],
      "source": [
        "X.drop(['id', 'postal_code'], axis = 1, inplace = True)"
      ]
    },
    {
      "cell_type": "code",
      "execution_count": 21,
      "id": "8b76bcb4",
      "metadata": {
        "id": "8b76bcb4"
      },
      "outputs": [],
      "source": [
        "nums = X.select_dtypes(include='number').columns\n",
        "ohei = ['gender','type_of_vehicle', 'vehicle_year']\n",
        "ordi = ['age','driving_experience','education','income']"
      ]
    },
    {
      "cell_type": "code",
      "execution_count": 22,
      "id": "bbf5ac55",
      "metadata": {
        "id": "bbf5ac55"
      },
      "outputs": [],
      "source": [
        "agec = ['16-25','26-39','40-64','65+']\n",
        "dexp = ['0-9y','10-19y','20-29y','30y+']\n",
        "educ = ['none','high school','university']\n",
        "inco = ['poverty','working class','middle class','upper class']"
      ]
    },
    {
      "cell_type": "code",
      "execution_count": 23,
      "id": "22af1e44",
      "metadata": {
        "id": "22af1e44"
      },
      "outputs": [],
      "source": [
        "cat_pipeline = Pipeline(\n",
        "    steps=[\n",
        "        (\"ohe\", OneHotEncoder(handle_unknown=\"ignore\", sparse=False))\n",
        "    ]\n",
        ")\n",
        "\n",
        "ord_pipeline = Pipeline(\n",
        "    steps=[\n",
        "        (\"ord\", oe(categories = [agec, dexp, educ, inco])),\n",
        "        (\"scaler\", ss())\n",
        "    ]\n",
        ")\n",
        "\n",
        "num_pipeline = Pipeline(\n",
        "    steps=[\n",
        "        (\"scaler\", ss())\n",
        "    ]\n",
        ")"
      ]
    },
    {
      "cell_type": "code",
      "execution_count": 24,
      "id": "3c5443a3",
      "metadata": {
        "id": "3c5443a3"
      },
      "outputs": [],
      "source": [
        "transform = ColumnTransformer(\n",
        "    transformers=[\n",
        "        (\"nums\", num_pipeline, nums),\n",
        "        (\"cats\", cat_pipeline, ohei),\n",
        "        (\"ords\", ord_pipeline, ordi)\n",
        "    ]\n",
        ")"
      ]
    },
    {
      "cell_type": "code",
      "execution_count": 25,
      "id": "5aa9ebaa",
      "metadata": {
        "id": "5aa9ebaa"
      },
      "outputs": [],
      "source": [
        "X1 = transform.fit_transform(X)"
      ]
    },
    {
      "cell_type": "code",
      "execution_count": 26,
      "id": "3a1dfc7e",
      "metadata": {
        "colab": {
          "base_uri": "https://localhost:8080/"
        },
        "id": "3a1dfc7e",
        "outputId": "3fe48b7e-fe68-44cf-bad7-740eec3d7696"
      },
      "outputs": [
        {
          "output_type": "execute_result",
          "data": {
            "text/plain": [
              "[('nums',\n",
              "  Pipeline(steps=[('scaler', StandardScaler())]),\n",
              "  Index(['credit_score', 'vehicle_ownership', 'married', 'children',\n",
              "         'annual_mileage', 'speeding_violations', 'duis', 'past_accidents'],\n",
              "        dtype='object')),\n",
              " ('cats',\n",
              "  Pipeline(steps=[('ohe', OneHotEncoder(handle_unknown='ignore', sparse=False))]),\n",
              "  ['gender', 'type_of_vehicle', 'vehicle_year']),\n",
              " ('ords', Pipeline(steps=[('ord',\n",
              "                   OrdinalEncoder(categories=[['16-25', '26-39', '40-64', '65+'],\n",
              "                                              ['0-9y', '10-19y', '20-29y',\n",
              "                                               '30y+'],\n",
              "                                              ['none', 'high school',\n",
              "                                               'university'],\n",
              "                                              ['poverty', 'working class',\n",
              "                                               'middle class', 'upper class']])),\n",
              "                  ('scaler', StandardScaler())]), ['age',\n",
              "   'driving_experience',\n",
              "   'education',\n",
              "   'income'])]"
            ]
          },
          "metadata": {},
          "execution_count": 26
        }
      ],
      "source": [
        "transform.transformers_"
      ]
    },
    {
      "cell_type": "code",
      "execution_count": 27,
      "id": "33be90e9",
      "metadata": {
        "colab": {
          "base_uri": "https://localhost:8080/"
        },
        "id": "33be90e9",
        "outputId": "14198eac-bee4-4e37-9b51-40d283bfc343"
      },
      "outputs": [
        {
          "output_type": "execute_result",
          "data": {
            "text/plain": [
              "0"
            ]
          },
          "metadata": {},
          "execution_count": 27
        }
      ],
      "source": [
        "X.duplicated().sum()"
      ]
    },
    {
      "cell_type": "code",
      "execution_count": 28,
      "id": "ec9493c8",
      "metadata": {
        "colab": {
          "base_uri": "https://localhost:8080/"
        },
        "id": "ec9493c8",
        "outputId": "c40ceaa1-953c-45c4-ad09-0a6e3569dc72",
        "scrolled": false
      },
      "outputs": [
        {
          "output_type": "execute_result",
          "data": {
            "text/plain": [
              "0.0    0.577352\n",
              "1.0    0.422648\n",
              "Name: outcome, dtype: float64"
            ]
          },
          "metadata": {},
          "execution_count": 28
        }
      ],
      "source": [
        "y.value_counts()/len(y)"
      ]
    },
    {
      "cell_type": "markdown",
      "id": "8713671f",
      "metadata": {
        "id": "8713671f"
      },
      "source": [
        "***"
      ]
    },
    {
      "cell_type": "code",
      "execution_count": 29,
      "id": "828a2c78",
      "metadata": {
        "id": "828a2c78"
      },
      "outputs": [],
      "source": [
        "col_names = list(nums)+['female',\n",
        "                        'male',\n",
        "                        'vehicle_hatchback',\n",
        "                        'vehicle_suv',\n",
        "                        'vehicle_sedan',\n",
        "                        'vehicle_sports_car',\n",
        "                        'vehicle_year_after_2015',\n",
        "                        'vehicle_year_before_2015']+ordi"
      ]
    },
    {
      "cell_type": "code",
      "execution_count": 30,
      "id": "540b25e3",
      "metadata": {
        "id": "540b25e3"
      },
      "outputs": [],
      "source": [
        "X1 = pd.DataFrame(X1, columns = col_names)"
      ]
    },
    {
      "cell_type": "markdown",
      "id": "6653bf03",
      "metadata": {
        "id": "6653bf03"
      },
      "source": [
        "## Data Visualization"
      ]
    },
    {
      "cell_type": "code",
      "execution_count": 31,
      "id": "65d68cf5",
      "metadata": {
        "colab": {
          "base_uri": "https://localhost:8080/",
          "height": 712
        },
        "id": "65d68cf5",
        "outputId": "5110fc6f-8b11-4491-9ff4-6f069e6785f2"
      },
      "outputs": [
        {
          "output_type": "display_data",
          "data": {
            "text/plain": [
              "<Figure size 1440x720 with 2 Axes>"
            ],
            "image/png": "[encoded data removed]"
          },
          "metadata": {
            "needs_background": "light"
          }
        }
      ],
      "source": [
        "#### heatmap\n",
        "plt.figure(figsize = (20,10))\n",
        "ax = sns.heatmap(X1.corr(),cmap = sns.color_palette(\"ch:s=0,rot=-.45\", as_cmap=True) ,annot = True, fmt = '.1f', linewidth = .5)\n",
        "ax.set_xticklabels(ax.get_xticklabels(), rotation = 70)\n",
        "plt.show()"
      ]
    },
    {
      "cell_type": "markdown",
      "id": "1d53f216",
      "metadata": {
        "id": "1d53f216"
      },
      "source": [
        "### Inference\n",
        "- No correlation among the features\n",
        "***"
      ]
    },
    {
      "cell_type": "code",
      "execution_count": 32,
      "id": "GNnCd280gUqK",
      "metadata": {
        "colab": {
          "base_uri": "https://localhost:8080/",
          "height": 297
        },
        "id": "GNnCd280gUqK",
        "outputId": "696ba40d-723b-4d4d-f05f-4ed3eb25ce01"
      },
      "outputs": [
        {
          "output_type": "display_data",
          "data": {
            "text/plain": [
              "<Figure size 432x288 with 1 Axes>"
            ],
            "image/png": "[encoded data removed]"
          },
          "metadata": {
            "needs_background": "light"
          }
        }
      ],
      "source": [
        "sns.histplot(x = X['credit_score'], kde = True)\n",
        "plt.title('Distribution of Credit Score', fontsize = '15')\n",
        "plt.xlabel('Credit Score')\n",
        "plt.ylabel('No of people')\n",
        "plt.show()"
      ]
    },
    {
      "cell_type": "code",
      "execution_count": 33,
      "id": "6b602971",
      "metadata": {
        "colab": {
          "base_uri": "https://localhost:8080/",
          "height": 297
        },
        "id": "6b602971",
        "outputId": "790d79ba-c051-40f5-9cf4-634bb352e87e"
      },
      "outputs": [
        {
          "output_type": "display_data",
          "data": {
            "text/plain": [
              "<Figure size 432x288 with 1 Axes>"
            ],
            "image/png": "[encoded data removed]"
          },
          "metadata": {
            "needs_background": "light"
          }
        }
      ],
      "source": [
        "sns.histplot(x = X['annual_mileage'], kde = True, bins = 20)\n",
        "plt.title('Distribution of Annual Mileage', fontsize = '15')\n",
        "plt.xlabel('Annual Mileage')\n",
        "plt.ylabel('No of people')\n",
        "plt.show()"
      ]
    },
    {
      "cell_type": "markdown",
      "id": "fb6da9c4",
      "metadata": {
        "id": "fb6da9c4"
      },
      "source": [
        "### Inference\n",
        "- The Credit Score is Left skewed (Negatively Skewed)\n",
        "- Most of the people have an annual mileage between 10k to 15k kms\n",
        "***"
      ]
    },
    {
      "cell_type": "code",
      "execution_count": 34,
      "id": "opLDmcIPhJkH",
      "metadata": {
        "colab": {
          "base_uri": "https://localhost:8080/",
          "height": 441
        },
        "id": "opLDmcIPhJkH",
        "outputId": "01805fac-6590-47ec-c079-159b2838cee7"
      },
      "outputs": [
        {
          "output_type": "display_data",
          "data": {
            "text/plain": [
              "<Figure size 432x432 with 3 Axes>"
            ],
            "image/png": "[encoded data removed]"
          },
          "metadata": {
            "needs_background": "light"
          }
        }
      ],
      "source": [
        "sns.jointplot(data = X, x= 'duis',y= 'credit_score', hue = 'gender')\n",
        "plt.title('Relationship between Dues and Credit Score', fontsize = 15, x = -2, y = 1.1)\n",
        "plt.show()"
      ]
    },
    {
      "cell_type": "markdown",
      "id": "387289a7",
      "metadata": {
        "id": "387289a7"
      },
      "source": [
        "### Inference - \n",
        "- The number of males having 0 dues is more than that of females\n",
        "- More number of males than females are having higher number of dues and a lower credit_score\n",
        "***"
      ]
    },
    {
      "cell_type": "code",
      "execution_count": 35,
      "id": "4uZCOtKFhPIx",
      "metadata": {
        "id": "4uZCOtKFhPIx"
      },
      "outputs": [],
      "source": [
        "age_cs = pd.pivot_table(data= X, values = ['credit_score'], columns = 'age',aggfunc = np.sum)"
      ]
    },
    {
      "cell_type": "code",
      "execution_count": 36,
      "id": "h_ykgvqkhQZH",
      "metadata": {
        "colab": {
          "base_uri": "https://localhost:8080/",
          "height": 297
        },
        "id": "h_ykgvqkhQZH",
        "outputId": "ae5c9de9-3b48-468a-9cad-b10df23a6bea"
      },
      "outputs": [
        {
          "output_type": "display_data",
          "data": {
            "text/plain": [
              "<Figure size 432x288 with 1 Axes>"
            ],
            "image/png": "[encoded data removed]"
          },
          "metadata": {
            "needs_background": "light"
          }
        }
      ],
      "source": [
        "sns.barplot(x = age_cs.columns, y = age_cs.values[0])\n",
        "plt.title('Age vs Credit Score', fontsize = 15)\n",
        "plt.ylabel('Credit Score')\n",
        "plt.xlabel('Age')\n",
        "plt.show()"
      ]
    },
    {
      "cell_type": "markdown",
      "id": "35d84cb9",
      "metadata": {
        "id": "35d84cb9"
      },
      "source": [
        "### Inference\n",
        "- As the age increases, the credit_score increases\n",
        "***"
      ]
    },
    {
      "cell_type": "code",
      "execution_count": 37,
      "id": "075685cc",
      "metadata": {
        "id": "075685cc"
      },
      "outputs": [],
      "source": [
        "gs = pd.pivot_table(data=X, columns = 'gender', values = 'speeding_violations', aggfunc = np.count_nonzero)"
      ]
    },
    {
      "cell_type": "code",
      "execution_count": 38,
      "id": "5bd6aef3",
      "metadata": {
        "id": "5bd6aef3",
        "outputId": "0bb31ddc-34fa-4e21-b435-f6ccb6241d5e",
        "colab": {
          "base_uri": "https://localhost:8080/",
          "height": 81
        }
      },
      "outputs": [
        {
          "output_type": "execute_result",
          "data": {
            "text/plain": [
              "gender               female   male\n",
              "speeding_violations   13429  22408"
            ],
            "text/html": [
              "\n",
              "  <div id=\"df-fbd74310-8820-45b1-b76e-fe77d1bc40cf\">\n",
              "    <div class=\"colab-df-container\">\n",
              "      <div>\n",
              "<style scoped>\n",
              "    .dataframe tbody tr th:only-of-type {\n",
              "        vertical-align: middle;\n",
              "    }\n",
              "\n",
              "    .dataframe tbody tr th {\n",
              "        vertical-align: top;\n",
              "    }\n",
              "\n",
              "    .dataframe thead th {\n",
              "        text-align: right;\n",
              "    }\n",
              "</style>\n",
              "<table border=\"1\" class=\"dataframe\">\n",
              "  <thead>\n",
              "    <tr style=\"text-align: right;\">\n",
              "      <th>gender</th>\n",
              "      <th>female</th>\n",
              "      <th>male</th>\n",
              "    </tr>\n",
              "  </thead>\n",
              "  <tbody>\n",
              "    <tr>\n",
              "      <th>speeding_violations</th>\n",
              "      <td>13429</td>\n",
              "      <td>22408</td>\n",
              "    </tr>\n",
              "  </tbody>\n",
              "</table>\n",
              "</div>\n",
              "      <button class=\"colab-df-convert\" onclick=\"convertToInteractive('df-fbd74310-8820-45b1-b76e-fe77d1bc40cf')\"\n",
              "              title=\"Convert this dataframe to an interactive table.\"\n",
              "              style=\"display:none;\">\n",
              "        \n",
              "  <svg xmlns=\"http://www.w3.org/2000/svg\" height=\"24px\"viewBox=\"0 0 24 24\"\n",
              "       width=\"24px\">\n",
              "    <path d=\"M0 0h24v24H0V0z\" fill=\"none\"/>\n",
              "    <path d=\"M18.56 5.44l.94 2.06.94-2.06 2.06-.94-2.06-.94-.94-2.06-.94 2.06-2.06.94zm-11 1L8.5 8.5l.94-2.06 2.06-.94-2.06-.94L8.5 2.5l-.94 2.06-2.06.94zm10 10l.94 2.06.94-2.06 2.06-.94-2.06-.94-.94-2.06-.94 2.06-2.06.94z\"/><path d=\"M17.41 7.96l-1.37-1.37c-.4-.4-.92-.59-1.43-.59-.52 0-1.04.2-1.43.59L10.3 9.45l-7.72 7.72c-.78.78-.78 2.05 0 2.83L4 21.41c.39.39.9.59 1.41.59.51 0 1.02-.2 1.41-.59l7.78-7.78 2.81-2.81c.8-.78.8-2.07 0-2.86zM5.41 20L4 18.59l7.72-7.72 1.47 1.35L5.41 20z\"/>\n",
              "  </svg>\n",
              "      </button>\n",
              "      \n",
              "  <style>\n",
              "    .colab-df-container {\n",
              "      display:flex;\n",
              "      flex-wrap:wrap;\n",
              "      gap: 12px;\n",
              "    }\n",
              "\n",
              "    .colab-df-convert {\n",
              "      background-color: #E8F0FE;\n",
              "      border: none;\n",
              "      border-radius: 50%;\n",
              "      cursor: pointer;\n",
              "      display: none;\n",
              "      fill: #1967D2;\n",
              "      height: 32px;\n",
              "      padding: 0 0 0 0;\n",
              "      width: 32px;\n",
              "    }\n",
              "\n",
              "    .colab-df-convert:hover {\n",
              "      background-color: #E2EBFA;\n",
              "      box-shadow: 0px 1px 2px rgba(60, 64, 67, 0.3), 0px 1px 3px 1px rgba(60, 64, 67, 0.15);\n",
              "      fill: #174EA6;\n",
              "    }\n",
              "\n",
              "    [theme=dark] .colab-df-convert {\n",
              "      background-color: #3B4455;\n",
              "      fill: #D2E3FC;\n",
              "    }\n",
              "\n",
              "    [theme=dark] .colab-df-convert:hover {\n",
              "      background-color: #434B5C;\n",
              "      box-shadow: 0px 1px 3px 1px rgba(0, 0, 0, 0.15);\n",
              "      filter: drop-shadow(0px 1px 2px rgba(0, 0, 0, 0.3));\n",
              "      fill: #FFFFFF;\n",
              "    }\n",
              "  </style>\n",
              "\n",
              "      <script>\n",
              "        const buttonEl =\n",
              "          document.querySelector('#df-fbd74310-8820-45b1-b76e-fe77d1bc40cf button.colab-df-convert');\n",
              "        buttonEl.style.display =\n",
              "          google.colab.kernel.accessAllowed ? 'block' : 'none';\n",
              "\n",
              "        async function convertToInteractive(key) {\n",
              "          const element = document.querySelector('#df-fbd74310-8820-45b1-b76e-fe77d1bc40cf');\n",
              "          const dataTable =\n",
              "            await google.colab.kernel.invokeFunction('convertToInteractive',\n",
              "                                                     [key], {});\n",
              "          if (!dataTable) return;\n",
              "\n",
              "          const docLinkHtml = 'Like what you see? Visit the ' +\n",
              "            '<a target=\"_blank\" href=https://colab.research.google.com/notebooks/data_table.ipynb>data table notebook</a>'\n",
              "            + ' to learn more about interactive tables.';\n",
              "          element.innerHTML = '';\n",
              "          dataTable['output_type'] = 'display_data';\n",
              "          await google.colab.output.renderOutput(dataTable, element);\n",
              "          const docLink = document.createElement('div');\n",
              "          docLink.innerHTML = docLinkHtml;\n",
              "          element.appendChild(docLink);\n",
              "        }\n",
              "      </script>\n",
              "    </div>\n",
              "  </div>\n",
              "  "
            ]
          },
          "metadata": {},
          "execution_count": 38
        }
      ],
      "source": [
        "gs"
      ]
    },
    {
      "cell_type": "code",
      "execution_count": 39,
      "id": "12859c6e",
      "metadata": {
        "id": "12859c6e",
        "outputId": "026b782d-1bc9-40cc-e778-febdd2dd786f",
        "colab": {
          "base_uri": "https://localhost:8080/",
          "height": 297
        }
      },
      "outputs": [
        {
          "output_type": "display_data",
          "data": {
            "text/plain": [
              "<Figure size 432x288 with 1 Axes>"
            ],
            "image/png": "[encoded data removed]"
          },
          "metadata": {
            "needs_background": "light"
          }
        }
      ],
      "source": [
        "# male,female and speeding_violations\n",
        "sns.barplot(x = gs.columns, y = gs.values[0])\n",
        "plt.title('Genderwise speeding violations', fontsize = 15)\n",
        "plt.xlabel('Gender')\n",
        "plt.ylabel('Count')\n",
        "plt.show()"
      ]
    },
    {
      "cell_type": "markdown",
      "id": "ababb954",
      "metadata": {
        "id": "ababb954"
      },
      "source": [
        "### Inference\n",
        "- More males have speeding violations than females\n",
        "***"
      ]
    },
    {
      "cell_type": "code",
      "execution_count": 40,
      "id": "o4keltTihUbe",
      "metadata": {
        "colab": {
          "base_uri": "https://localhost:8080/",
          "height": 295
        },
        "id": "o4keltTihUbe",
        "outputId": "5342f85d-3e19-40bb-a518-8b84cec3dfac"
      },
      "outputs": [
        {
          "output_type": "display_data",
          "data": {
            "text/plain": [
              "<Figure size 432x288 with 1 Axes>"
            ],
            "image/png": "[encoded data removed]"
          },
          "metadata": {
            "needs_background": "light"
          }
        }
      ],
      "source": [
        "sns.barplot(data = X, y = 'driving_experience', x = 'annual_mileage', hue = 'gender', saturation = .8)\n",
        "plt.xlim(10000)\n",
        "plt.xlabel('Annual Mileage')\n",
        "plt.ylabel('Driving Experience')\n",
        "plt.title('Genderwise Annual Mileage vs Driving Experience')\n",
        "plt.show()"
      ]
    },
    {
      "cell_type": "markdown",
      "id": "5bba1409",
      "metadata": {
        "id": "5bba1409"
      },
      "source": [
        "## NOTE:\n",
        "### THE SCALES OF THE GRAPH HAVE BEEN CHANGED TO VIEW THE MINUTE DIFFERENCES"
      ]
    },
    {
      "cell_type": "markdown",
      "id": "8173a736",
      "metadata": {
        "id": "8173a736"
      },
      "source": [
        "### Inference\n",
        "- Almost all the age groups have an average mileage of 11-11.2 kms\n",
        "***"
      ]
    },
    {
      "cell_type": "code",
      "execution_count": 41,
      "id": "fRZPqOFKhVlt",
      "metadata": {
        "colab": {
          "base_uri": "https://localhost:8080/",
          "height": 582
        },
        "id": "fRZPqOFKhVlt",
        "outputId": "62823480-77cd-4834-ea8d-428763876948"
      },
      "outputs": [
        {
          "output_type": "execute_result",
          "data": {
            "text/plain": [
              "                                              annual_mileage  children  \\\n",
              "vehicle_ownership vehicle_year income                                    \n",
              "0.0               after 2015   middle class     11115.826702  0.517241   \n",
              "                               poverty          10912.888889  0.522667   \n",
              "                               upper class      11022.037218  0.504652   \n",
              "                               working class    11155.046826  0.509886   \n",
              "                  before 2015  middle class     10926.510989  0.545330   \n",
              "                               poverty          11018.315018  0.516484   \n",
              "                               upper class      11028.994577  0.508552   \n",
              "                               working class    11036.339755  0.517513   \n",
              "1.0               after 2015   middle class     11035.754399  0.532946   \n",
              "                               poverty          11122.730574  0.525781   \n",
              "                               upper class      11080.646002  0.514301   \n",
              "                               working class    11109.017643  0.528752   \n",
              "                  before 2015  middle class     11002.349831  0.528271   \n",
              "                               poverty          11077.687720  0.518428   \n",
              "                               upper class      11036.296232  0.516510   \n",
              "                               working class    11098.138442  0.526658   \n",
              "\n",
              "                                              credit_score      duis  \\\n",
              "vehicle_ownership vehicle_year income                                  \n",
              "0.0               after 2015   middle class       0.601110  0.126437   \n",
              "                               poverty            0.609386  0.149333   \n",
              "                               upper class        0.600985  0.114838   \n",
              "                               working class      0.606341  0.118106   \n",
              "                  before 2015  middle class       0.604773  0.121566   \n",
              "                               poverty            0.599626  0.115751   \n",
              "                               upper class        0.599713  0.139132   \n",
              "                               working class      0.591726  0.121716   \n",
              "1.0               after 2015   middle class       0.604841  0.137589   \n",
              "                               poverty            0.600375  0.123094   \n",
              "                               upper class        0.602959  0.134618   \n",
              "                               working class      0.607867  0.142888   \n",
              "                  before 2015  middle class       0.601589  0.134968   \n",
              "                               poverty            0.599847  0.124790   \n",
              "                               upper class        0.600371  0.122295   \n",
              "                               working class      0.603484  0.131393   \n",
              "\n",
              "                                               married  past_accidents  \\\n",
              "vehicle_ownership vehicle_year income                                    \n",
              "0.0               after 2015   middle class   0.577365        0.557913   \n",
              "                               poverty        0.599111        0.611556   \n",
              "                               upper class    0.584476        0.527424   \n",
              "                               working class  0.595734        0.518210   \n",
              "                  before 2015  middle class   0.592033        0.549451   \n",
              "                               poverty        0.604396        0.504029   \n",
              "                               upper class    0.591364        0.557363   \n",
              "                               working class  0.581436        0.553853   \n",
              "1.0               after 2015   middle class   0.586672        0.535193   \n",
              "                               poverty        0.585512        0.585512   \n",
              "                               upper class    0.585517        0.551237   \n",
              "                               working class  0.573840        0.547266   \n",
              "                  before 2015  middle class   0.585402        0.556323   \n",
              "                               poverty        0.584187        0.550390   \n",
              "                               upper class    0.583585        0.551254   \n",
              "                               working class  0.579704        0.534882   \n",
              "\n",
              "                                              speeding_violations  \n",
              "vehicle_ownership vehicle_year income                              \n",
              "0.0               after 2015   middle class              0.618921  \n",
              "                               poverty                   0.651556  \n",
              "                               upper class               0.692214  \n",
              "                               working class             0.585848  \n",
              "                  before 2015  middle class              0.766484  \n",
              "                               poverty                   0.753846  \n",
              "                               upper class               0.674385  \n",
              "                               working class             0.771016  \n",
              "1.0               after 2015   middle class              0.675215  \n",
              "                               poverty                   0.626906  \n",
              "                               upper class               0.668247  \n",
              "                               working class             0.655522  \n",
              "                  before 2015  middle class              0.675136  \n",
              "                               poverty                   0.663710  \n",
              "                               upper class               0.683852  \n",
              "                               working class             0.697090  "
            ],
            "text/html": [
              "\n",
              "  <div id=\"df-99112714-f810-40d7-b87d-37ef4d9dc01b\">\n",
              "    <div class=\"colab-df-container\">\n",
              "      <div>\n",
              "<style scoped>\n",
              "    .dataframe tbody tr th:only-of-type {\n",
              "        vertical-align: middle;\n",
              "    }\n",
              "\n",
              "    .dataframe tbody tr th {\n",
              "        vertical-align: top;\n",
              "    }\n",
              "\n",
              "    .dataframe thead th {\n",
              "        text-align: right;\n",
              "    }\n",
              "</style>\n",
              "<table border=\"1\" class=\"dataframe\">\n",
              "  <thead>\n",
              "    <tr style=\"text-align: right;\">\n",
              "      <th></th>\n",
              "      <th></th>\n",
              "      <th></th>\n",
              "      <th>annual_mileage</th>\n",
              "      <th>children</th>\n",
              "      <th>credit_score</th>\n",
              "      <th>duis</th>\n",
              "      <th>married</th>\n",
              "      <th>past_accidents</th>\n",
              "      <th>speeding_violations</th>\n",
              "    </tr>\n",
              "    <tr>\n",
              "      <th>vehicle_ownership</th>\n",
              "      <th>vehicle_year</th>\n",
              "      <th>income</th>\n",
              "      <th></th>\n",
              "      <th></th>\n",
              "      <th></th>\n",
              "      <th></th>\n",
              "      <th></th>\n",
              "      <th></th>\n",
              "      <th></th>\n",
              "    </tr>\n",
              "  </thead>\n",
              "  <tbody>\n",
              "    <tr>\n",
              "      <th rowspan=\"8\" valign=\"top\">0.0</th>\n",
              "      <th rowspan=\"4\" valign=\"top\">after 2015</th>\n",
              "      <th>middle class</th>\n",
              "      <td>11115.826702</td>\n",
              "      <td>0.517241</td>\n",
              "      <td>0.601110</td>\n",
              "      <td>0.126437</td>\n",
              "      <td>0.577365</td>\n",
              "      <td>0.557913</td>\n",
              "      <td>0.618921</td>\n",
              "    </tr>\n",
              "    <tr>\n",
              "      <th>poverty</th>\n",
              "      <td>10912.888889</td>\n",
              "      <td>0.522667</td>\n",
              "      <td>0.609386</td>\n",
              "      <td>0.149333</td>\n",
              "      <td>0.599111</td>\n",
              "      <td>0.611556</td>\n",
              "      <td>0.651556</td>\n",
              "    </tr>\n",
              "    <tr>\n",
              "      <th>upper class</th>\n",
              "      <td>11022.037218</td>\n",
              "      <td>0.504652</td>\n",
              "      <td>0.600985</td>\n",
              "      <td>0.114838</td>\n",
              "      <td>0.584476</td>\n",
              "      <td>0.527424</td>\n",
              "      <td>0.692214</td>\n",
              "    </tr>\n",
              "    <tr>\n",
              "      <th>working class</th>\n",
              "      <td>11155.046826</td>\n",
              "      <td>0.509886</td>\n",
              "      <td>0.606341</td>\n",
              "      <td>0.118106</td>\n",
              "      <td>0.595734</td>\n",
              "      <td>0.518210</td>\n",
              "      <td>0.585848</td>\n",
              "    </tr>\n",
              "    <tr>\n",
              "      <th rowspan=\"4\" valign=\"top\">before 2015</th>\n",
              "      <th>middle class</th>\n",
              "      <td>10926.510989</td>\n",
              "      <td>0.545330</td>\n",
              "      <td>0.604773</td>\n",
              "      <td>0.121566</td>\n",
              "      <td>0.592033</td>\n",
              "      <td>0.549451</td>\n",
              "      <td>0.766484</td>\n",
              "    </tr>\n",
              "    <tr>\n",
              "      <th>poverty</th>\n",
              "      <td>11018.315018</td>\n",
              "      <td>0.516484</td>\n",
              "      <td>0.599626</td>\n",
              "      <td>0.115751</td>\n",
              "      <td>0.604396</td>\n",
              "      <td>0.504029</td>\n",
              "      <td>0.753846</td>\n",
              "    </tr>\n",
              "    <tr>\n",
              "      <th>upper class</th>\n",
              "      <td>11028.994577</td>\n",
              "      <td>0.508552</td>\n",
              "      <td>0.599713</td>\n",
              "      <td>0.139132</td>\n",
              "      <td>0.591364</td>\n",
              "      <td>0.557363</td>\n",
              "      <td>0.674385</td>\n",
              "    </tr>\n",
              "    <tr>\n",
              "      <th>working class</th>\n",
              "      <td>11036.339755</td>\n",
              "      <td>0.517513</td>\n",
              "      <td>0.591726</td>\n",
              "      <td>0.121716</td>\n",
              "      <td>0.581436</td>\n",
              "      <td>0.553853</td>\n",
              "      <td>0.771016</td>\n",
              "    </tr>\n",
              "    <tr>\n",
              "      <th rowspan=\"8\" valign=\"top\">1.0</th>\n",
              "      <th rowspan=\"4\" valign=\"top\">after 2015</th>\n",
              "      <th>middle class</th>\n",
              "      <td>11035.754399</td>\n",
              "      <td>0.532946</td>\n",
              "      <td>0.604841</td>\n",
              "      <td>0.137589</td>\n",
              "      <td>0.586672</td>\n",
              "      <td>0.535193</td>\n",
              "      <td>0.675215</td>\n",
              "    </tr>\n",
              "    <tr>\n",
              "      <th>poverty</th>\n",
              "      <td>11122.730574</td>\n",
              "      <td>0.525781</td>\n",
              "      <td>0.600375</td>\n",
              "      <td>0.123094</td>\n",
              "      <td>0.585512</td>\n",
              "      <td>0.585512</td>\n",
              "      <td>0.626906</td>\n",
              "    </tr>\n",
              "    <tr>\n",
              "      <th>upper class</th>\n",
              "      <td>11080.646002</td>\n",
              "      <td>0.514301</td>\n",
              "      <td>0.602959</td>\n",
              "      <td>0.134618</td>\n",
              "      <td>0.585517</td>\n",
              "      <td>0.551237</td>\n",
              "      <td>0.668247</td>\n",
              "    </tr>\n",
              "    <tr>\n",
              "      <th>working class</th>\n",
              "      <td>11109.017643</td>\n",
              "      <td>0.528752</td>\n",
              "      <td>0.607867</td>\n",
              "      <td>0.142888</td>\n",
              "      <td>0.573840</td>\n",
              "      <td>0.547266</td>\n",
              "      <td>0.655522</td>\n",
              "    </tr>\n",
              "    <tr>\n",
              "      <th rowspan=\"4\" valign=\"top\">before 2015</th>\n",
              "      <th>middle class</th>\n",
              "      <td>11002.349831</td>\n",
              "      <td>0.528271</td>\n",
              "      <td>0.601589</td>\n",
              "      <td>0.134968</td>\n",
              "      <td>0.585402</td>\n",
              "      <td>0.556323</td>\n",
              "      <td>0.675136</td>\n",
              "    </tr>\n",
              "    <tr>\n",
              "      <th>poverty</th>\n",
              "      <td>11077.687720</td>\n",
              "      <td>0.518428</td>\n",
              "      <td>0.599847</td>\n",
              "      <td>0.124790</td>\n",
              "      <td>0.584187</td>\n",
              "      <td>0.550390</td>\n",
              "      <td>0.663710</td>\n",
              "    </tr>\n",
              "    <tr>\n",
              "      <th>upper class</th>\n",
              "      <td>11036.296232</td>\n",
              "      <td>0.516510</td>\n",
              "      <td>0.600371</td>\n",
              "      <td>0.122295</td>\n",
              "      <td>0.583585</td>\n",
              "      <td>0.551254</td>\n",
              "      <td>0.683852</td>\n",
              "    </tr>\n",
              "    <tr>\n",
              "      <th>working class</th>\n",
              "      <td>11098.138442</td>\n",
              "      <td>0.526658</td>\n",
              "      <td>0.603484</td>\n",
              "      <td>0.131393</td>\n",
              "      <td>0.579704</td>\n",
              "      <td>0.534882</td>\n",
              "      <td>0.697090</td>\n",
              "    </tr>\n",
              "  </tbody>\n",
              "</table>\n",
              "</div>\n",
              "      <button class=\"colab-df-convert\" onclick=\"convertToInteractive('df-99112714-f810-40d7-b87d-37ef4d9dc01b')\"\n",
              "              title=\"Convert this dataframe to an interactive table.\"\n",
              "              style=\"display:none;\">\n",
              "        \n",
              "  <svg xmlns=\"http://www.w3.org/2000/svg\" height=\"24px\"viewBox=\"0 0 24 24\"\n",
              "       width=\"24px\">\n",
              "    <path d=\"M0 0h24v24H0V0z\" fill=\"none\"/>\n",
              "    <path d=\"M18.56 5.44l.94 2.06.94-2.06 2.06-.94-2.06-.94-.94-2.06-.94 2.06-2.06.94zm-11 1L8.5 8.5l.94-2.06 2.06-.94-2.06-.94L8.5 2.5l-.94 2.06-2.06.94zm10 10l.94 2.06.94-2.06 2.06-.94-2.06-.94-.94-2.06-.94 2.06-2.06.94z\"/><path d=\"M17.41 7.96l-1.37-1.37c-.4-.4-.92-.59-1.43-.59-.52 0-1.04.2-1.43.59L10.3 9.45l-7.72 7.72c-.78.78-.78 2.05 0 2.83L4 21.41c.39.39.9.59 1.41.59.51 0 1.02-.2 1.41-.59l7.78-7.78 2.81-2.81c.8-.78.8-2.07 0-2.86zM5.41 20L4 18.59l7.72-7.72 1.47 1.35L5.41 20z\"/>\n",
              "  </svg>\n",
              "      </button>\n",
              "      \n",
              "  <style>\n",
              "    .colab-df-container {\n",
              "      display:flex;\n",
              "      flex-wrap:wrap;\n",
              "      gap: 12px;\n",
              "    }\n",
              "\n",
              "    .colab-df-convert {\n",
              "      background-color: #E8F0FE;\n",
              "      border: none;\n",
              "      border-radius: 50%;\n",
              "      cursor: pointer;\n",
              "      display: none;\n",
              "      fill: #1967D2;\n",
              "      height: 32px;\n",
              "      padding: 0 0 0 0;\n",
              "      width: 32px;\n",
              "    }\n",
              "\n",
              "    .colab-df-convert:hover {\n",
              "      background-color: #E2EBFA;\n",
              "      box-shadow: 0px 1px 2px rgba(60, 64, 67, 0.3), 0px 1px 3px 1px rgba(60, 64, 67, 0.15);\n",
              "      fill: #174EA6;\n",
              "    }\n",
              "\n",
              "    [theme=dark] .colab-df-convert {\n",
              "      background-color: #3B4455;\n",
              "      fill: #D2E3FC;\n",
              "    }\n",
              "\n",
              "    [theme=dark] .colab-df-convert:hover {\n",
              "      background-color: #434B5C;\n",
              "      box-shadow: 0px 1px 3px 1px rgba(0, 0, 0, 0.15);\n",
              "      filter: drop-shadow(0px 1px 2px rgba(0, 0, 0, 0.3));\n",
              "      fill: #FFFFFF;\n",
              "    }\n",
              "  </style>\n",
              "\n",
              "      <script>\n",
              "        const buttonEl =\n",
              "          document.querySelector('#df-99112714-f810-40d7-b87d-37ef4d9dc01b button.colab-df-convert');\n",
              "        buttonEl.style.display =\n",
              "          google.colab.kernel.accessAllowed ? 'block' : 'none';\n",
              "\n",
              "        async function convertToInteractive(key) {\n",
              "          const element = document.querySelector('#df-99112714-f810-40d7-b87d-37ef4d9dc01b');\n",
              "          const dataTable =\n",
              "            await google.colab.kernel.invokeFunction('convertToInteractive',\n",
              "                                                     [key], {});\n",
              "          if (!dataTable) return;\n",
              "\n",
              "          const docLinkHtml = 'Like what you see? Visit the ' +\n",
              "            '<a target=\"_blank\" href=https://colab.research.google.com/notebooks/data_table.ipynb>data table notebook</a>'\n",
              "            + ' to learn more about interactive tables.';\n",
              "          element.innerHTML = '';\n",
              "          dataTable['output_type'] = 'display_data';\n",
              "          await google.colab.output.renderOutput(dataTable, element);\n",
              "          const docLink = document.createElement('div');\n",
              "          docLink.innerHTML = docLinkHtml;\n",
              "          element.appendChild(docLink);\n",
              "        }\n",
              "      </script>\n",
              "    </div>\n",
              "  </div>\n",
              "  "
            ]
          },
          "metadata": {},
          "execution_count": 41
        }
      ],
      "source": [
        "pd.pivot_table(data = X, index = ['vehicle_ownership', 'vehicle_year', 'income'])"
      ]
    },
    {
      "cell_type": "markdown",
      "id": "e15d1802",
      "metadata": {
        "id": "e15d1802"
      },
      "source": [
        "## Feature Selection"
      ]
    },
    {
      "cell_type": "code",
      "execution_count": 42,
      "id": "5ba49046",
      "metadata": {
        "colab": {
          "base_uri": "https://localhost:8080/"
        },
        "id": "5ba49046",
        "outputId": "bd06af52-d73e-4ba3-d4e3-46dd06a7ecd8"
      },
      "outputs": [
        {
          "output_type": "execute_result",
          "data": {
            "text/plain": [
              "(105000, 20)"
            ]
          },
          "metadata": {},
          "execution_count": 42
        }
      ],
      "source": [
        "X1.shape"
      ]
    },
    {
      "cell_type": "code",
      "execution_count": 43,
      "id": "233cb9dd",
      "metadata": {
        "id": "233cb9dd"
      },
      "outputs": [],
      "source": [
        "# 20 dimensional data"
      ]
    },
    {
      "cell_type": "code",
      "execution_count": 44,
      "id": "24990c36",
      "metadata": {
        "id": "24990c36"
      },
      "outputs": [],
      "source": [
        "pca = PCA(.8)"
      ]
    },
    {
      "cell_type": "code",
      "execution_count": 45,
      "id": "eedb8f9f",
      "metadata": {
        "id": "eedb8f9f"
      },
      "outputs": [],
      "source": [
        "fit_pca = pca.fit(X1)"
      ]
    },
    {
      "cell_type": "code",
      "execution_count": 46,
      "id": "43fdaae9",
      "metadata": {
        "colab": {
          "base_uri": "https://localhost:8080/"
        },
        "id": "43fdaae9",
        "outputId": "0c7db3ff-21da-4120-db04-0a510ae900d3"
      },
      "outputs": [
        {
          "output_type": "execute_result",
          "data": {
            "text/plain": [
              "array([0.07503854, 0.07452225, 0.0741998 , 0.07362236, 0.07321692,\n",
              "       0.07305323, 0.07278996, 0.07247858, 0.07234279, 0.072123  ,\n",
              "       0.07169455])"
            ]
          },
          "metadata": {},
          "execution_count": 46
        }
      ],
      "source": [
        "fit_pca.explained_variance_ratio_"
      ]
    },
    {
      "cell_type": "code",
      "execution_count": 47,
      "id": "eabb4e05",
      "metadata": {
        "id": "eabb4e05"
      },
      "outputs": [],
      "source": [
        "# 11 dimensional data"
      ]
    },
    {
      "cell_type": "code",
      "execution_count": 48,
      "id": "758acc4c",
      "metadata": {
        "id": "758acc4c"
      },
      "outputs": [],
      "source": [
        "X2 = pca.transform(X1)"
      ]
    },
    {
      "cell_type": "code",
      "execution_count": 49,
      "id": "244ad65e",
      "metadata": {
        "colab": {
          "base_uri": "https://localhost:8080/",
          "height": 295
        },
        "id": "244ad65e",
        "outputId": "1d14ae0e-bf29-4c22-e1ae-d174f8c44948"
      },
      "outputs": [
        {
          "output_type": "display_data",
          "data": {
            "text/plain": [
              "<Figure size 432x288 with 1 Axes>"
            ],
            "image/png": "[encoded data removed]"
          },
          "metadata": {
            "needs_background": "light"
          }
        }
      ],
      "source": [
        "PC_values = np.arange(pca.n_components_) + 1\n",
        "plt.plot(PC_values, pca.explained_variance_ratio_, 'o-', linewidth=2, color='blue')\n",
        "plt.title('Scree Plot')\n",
        "plt.xlabel('Principal Component')\n",
        "plt.ylabel('Variance Explained')\n",
        "plt.show()"
      ]
    },
    {
      "cell_type": "markdown",
      "id": "49415200",
      "metadata": {
        "id": "49415200"
      },
      "source": [
        "## Train Test Splitting"
      ]
    },
    {
      "cell_type": "code",
      "execution_count": 50,
      "id": "89d93570",
      "metadata": {
        "id": "89d93570"
      },
      "outputs": [],
      "source": [
        "Xtrain, Xtest, ytrain, ytest = train_test_split(X2,y,test_size = .1, stratify = y)"
      ]
    },
    {
      "cell_type": "code",
      "execution_count": 51,
      "id": "5a8455e2",
      "metadata": {
        "colab": {
          "base_uri": "https://localhost:8080/"
        },
        "id": "5a8455e2",
        "outputId": "a806c012-dd9e-411a-d18a-baa39ba42718"
      },
      "outputs": [
        {
          "output_type": "stream",
          "name": "stdout",
          "text": [
            "(94500, 11)\n",
            "(10500, 11)\n"
          ]
        }
      ],
      "source": [
        "print(Xtrain.shape)\n",
        "print(Xtest.shape)"
      ]
    },
    {
      "cell_type": "markdown",
      "id": "1587ffe1",
      "metadata": {
        "id": "1587ffe1"
      },
      "source": [
        "## Modeling"
      ]
    },
    {
      "cell_type": "code",
      "execution_count": 80,
      "id": "bC8sysNauVgO",
      "metadata": {
        "id": "bC8sysNauVgO"
      },
      "outputs": [],
      "source": [
        "def print_acc(model,Xtrain,Xtest,ytrain,ytest):\n",
        "    print('------------------------------------------|')\n",
        "    print(f'|  Training Accuracy | {log_loss(ytrain, model.predict(Xtrain))} |')\n",
        "    print('------------------------------------------|')\n",
        "    print(f'|  Test Accuracy     | {log_loss(ytest, model.predict(Xtest))} |')\n",
        "    print('------------------------------------------|')\n",
        "\n",
        "def gen_conf(actual,pred):\n",
        "    classes = [0,1]\n",
        "    cm = confusion_matrix(actual,pred, labels=classes)\n",
        "    sn.heatmap(cm/np.sum(cm),fmt = '.2%', annot=True)\n",
        "    plt.title(\"Confusion matrix\")\n",
        "    plt.ylabel('Actual')\n",
        "    plt.xlabel('Predicted')\n",
        "    plt.show()"
      ]
    },
    {
      "cell_type": "markdown",
      "id": "LKhiYr2dukU7",
      "metadata": {
        "id": "LKhiYr2dukU7"
      },
      "source": [
        "### Naive Bayes"
      ]
    },
    {
      "cell_type": "code",
      "execution_count": 53,
      "id": "Kon-r8Fjuf5o",
      "metadata": {
        "colab": {
          "base_uri": "https://localhost:8080/"
        },
        "id": "Kon-r8Fjuf5o",
        "outputId": "979f7410-21c8-46b6-b17d-fb9d39f5e88d"
      },
      "outputs": [
        {
          "output_type": "stream",
          "name": "stdout",
          "text": [
            "0.6810037169894501\n"
          ]
        }
      ],
      "source": [
        "gnb = BernoulliNB()\n",
        "gnb.fit(Xtrain, ytrain)\n",
        "pred = gnb.predict(Xtest)\n",
        "print(log_loss(ytest, gnb.predict_proba(Xtest)))"
      ]
    },
    {
      "cell_type": "code",
      "execution_count": 81,
      "id": "XMJJOe6uuqiq",
      "metadata": {
        "colab": {
          "base_uri": "https://localhost:8080/",
          "height": 295
        },
        "id": "XMJJOe6uuqiq",
        "outputId": "cce1f44f-65f7-47b0-8daf-d9d3784a90e7"
      },
      "outputs": [
        {
          "output_type": "display_data",
          "data": {
            "text/plain": [
              "<Figure size 432x288 with 2 Axes>"
            ],
            "image/png": "[encoded data removed]"
          },
          "metadata": {
            "needs_background": "light"
          }
        }
      ],
      "source": [
        "gen_conf(ytest, pred)"
      ]
    },
    {
      "cell_type": "markdown",
      "id": "F_zXRR1cu98-",
      "metadata": {
        "id": "F_zXRR1cu98-"
      },
      "source": [
        "### From the basic Naive Bayes model we can see that the False Negatives are high. The True negatives are 0 and the False Positives are 0. \n",
        "### We must decrease the False Negatives and Increase the True Positives \n",
        "***"
      ]
    },
    {
      "cell_type": "markdown",
      "id": "X1kQKBj2vDjw",
      "metadata": {
        "id": "X1kQKBj2vDjw"
      },
      "source": [
        "### Random Forest Classifier"
      ]
    },
    {
      "cell_type": "code",
      "execution_count": 55,
      "id": "3qYS24ojvBPv",
      "metadata": {
        "colab": {
          "base_uri": "https://localhost:8080/"
        },
        "id": "3qYS24ojvBPv",
        "outputId": "7b94b47a-055e-48d1-fed9-db4b089ecb46"
      },
      "outputs": [
        {
          "output_type": "execute_result",
          "data": {
            "text/plain": [
              "16.13795591798603"
            ]
          },
          "metadata": {},
          "execution_count": 55
        }
      ],
      "source": [
        "dtc = RandomForestClassifier(n_jobs = -1)\n",
        "dtc.fit(Xtrain, ytrain)\n",
        "dpred = dtc.predict(Xtest)\n",
        "log_loss(ytest, dpred)"
      ]
    },
    {
      "cell_type": "code",
      "execution_count": 82,
      "id": "v942Sy0DvF_n",
      "metadata": {
        "colab": {
          "base_uri": "https://localhost:8080/",
          "height": 295
        },
        "id": "v942Sy0DvF_n",
        "outputId": "8bead208-e072-4e22-e173-aa6bf1cb0c0e"
      },
      "outputs": [
        {
          "output_type": "display_data",
          "data": {
            "text/plain": [
              "<Figure size 432x288 with 2 Axes>"
            ],
            "image/png": "[encoded data removed]"
          },
          "metadata": {
            "needs_background": "light"
          }
        }
      ],
      "source": [
        "gen_conf(ytest, dpred)"
      ]
    },
    {
      "cell_type": "markdown",
      "source": [
        "### From the Random Forest Classifier we can see that, the True Negatives are 42.25% and the True Positives are 11.03%. \n",
        "### It is better than the Naive Bayes model but let us try to reduce the False Negatives and False positive Percentages"
      ],
      "metadata": {
        "id": "r6ddjBmBp-Bj"
      },
      "id": "r6ddjBmBp-Bj"
    },
    {
      "cell_type": "markdown",
      "id": "IQ0s7294wJS0",
      "metadata": {
        "id": "IQ0s7294wJS0"
      },
      "source": [
        "***"
      ]
    },
    {
      "cell_type": "markdown",
      "id": "NA2pZwBHS7iD",
      "metadata": {
        "id": "NA2pZwBHS7iD"
      },
      "source": [
        "### XGBoost with RandomizedSearchCV"
      ]
    },
    {
      "cell_type": "code",
      "execution_count": 57,
      "id": "407a9bde",
      "metadata": {
        "id": "407a9bde"
      },
      "outputs": [],
      "source": [
        "# A parameter grid for XGBoost\n",
        "params = {\n",
        "        'min_child_weight': [1, 5, 10],\n",
        "        'gamma': [0.5, 1, 1.5, 2, 5],\n",
        "        'subsample': [0.6, 0.8, 1.0],\n",
        "        'colsample_bytree': [0.6, 0.8, 1.0],\n",
        "        'max_depth': [3, 5, 7, 10],\n",
        "        'learning_rate': [0.01, 0.02, 0.05]    \n",
        "        }"
      ]
    },
    {
      "cell_type": "code",
      "execution_count": 58,
      "id": "a16f3e7a",
      "metadata": {
        "id": "a16f3e7a"
      },
      "outputs": [],
      "source": [
        "skf = StratifiedKFold(n_splits = 10, shuffle = True)"
      ]
    },
    {
      "cell_type": "code",
      "execution_count": 62,
      "id": "8359fd0b",
      "metadata": {
        "id": "8359fd0b"
      },
      "outputs": [],
      "source": [
        "xgc = xgb.XGBClassifier(learning_rate = 0.01, n_estimators = 100, objective = 'binary:logistic', nthread = 6,tree_method = 'gpu_hist', eval_metric = 'logloss')"
      ]
    },
    {
      "cell_type": "code",
      "execution_count": 63,
      "id": "0a006d70",
      "metadata": {
        "id": "0a006d70"
      },
      "outputs": [],
      "source": [
        "random_cv = RandomizedSearchCV(xgc,param_distributions = params, n_jobs = -1, cv = skf.split(Xtrain,ytrain), n_iter = 50, scoring = 'neg_log_loss')"
      ]
    },
    {
      "cell_type": "code",
      "execution_count": 64,
      "id": "7b8cade3",
      "metadata": {
        "colab": {
          "base_uri": "https://localhost:8080/"
        },
        "id": "7b8cade3",
        "outputId": "488efa81-b66e-48c5-90b8-8782167b604c"
      },
      "outputs": [
        {
          "output_type": "execute_result",
          "data": {
            "text/plain": [
              "RandomizedSearchCV(cv=<generator object _BaseKFold.split at 0x7f3fab9fe250>,\n",
              "                   estimator=XGBClassifier(eval_metric='logloss',\n",
              "                                           learning_rate=0.01, nthread=6,\n",
              "                                           tree_method='gpu_hist'),\n",
              "                   n_iter=50, n_jobs=-1,\n",
              "                   param_distributions={'colsample_bytree': [0.6, 0.8, 1.0],\n",
              "                                        'gamma': [0.5, 1, 1.5, 2, 5],\n",
              "                                        'learning_rate': [0.01, 0.02, 0.05],\n",
              "                                        'max_depth': [3, 5, 7, 10],\n",
              "                                        'min_child_weight': [1, 5, 10],\n",
              "                                        'subsample': [0.6, 0.8, 1.0]},\n",
              "                   scoring='neg_log_loss')"
            ]
          },
          "metadata": {},
          "execution_count": 64
        }
      ],
      "source": [
        "random_cv.fit(Xtrain, ytrain)"
      ]
    },
    {
      "cell_type": "code",
      "execution_count": 65,
      "id": "040446e7",
      "metadata": {
        "id": "040446e7",
        "colab": {
          "base_uri": "https://localhost:8080/"
        },
        "outputId": "fdcece1c-a540-40fd-b3cd-d7f4acb81cef"
      },
      "outputs": [
        {
          "output_type": "execute_result",
          "data": {
            "text/plain": [
              "{'subsample': 0.8,\n",
              " 'min_child_weight': 5,\n",
              " 'max_depth': 3,\n",
              " 'learning_rate': 0.05,\n",
              " 'gamma': 1,\n",
              " 'colsample_bytree': 0.6}"
            ]
          },
          "metadata": {},
          "execution_count": 65
        }
      ],
      "source": [
        "random_cv.best_params_"
      ]
    },
    {
      "cell_type": "code",
      "execution_count": 66,
      "id": "e1b6d7e2",
      "metadata": {
        "id": "e1b6d7e2",
        "colab": {
          "base_uri": "https://localhost:8080/"
        },
        "outputId": "fe6c997d-4177-4ccc-98e4-684882a19dc1"
      },
      "outputs": [
        {
          "output_type": "execute_result",
          "data": {
            "text/plain": [
              "-0.6813478114690099"
            ]
          },
          "metadata": {},
          "execution_count": 66
        }
      ],
      "source": [
        "random_cv.best_score_"
      ]
    },
    {
      "cell_type": "code",
      "execution_count": 67,
      "id": "41a887f7",
      "metadata": {
        "id": "41a887f7",
        "colab": {
          "base_uri": "https://localhost:8080/"
        },
        "outputId": "a362ca20-e457-4fb9-a4c6-535d0caf253e"
      },
      "outputs": [
        {
          "output_type": "stream",
          "name": "stdout",
          "text": [
            "0.679108651407812\n"
          ]
        }
      ],
      "source": [
        "#random_cv.fit(Xtrain, ytrain)\n",
        "pred_proba = random_cv.predict_proba(Xtrain)\n",
        "preds = random_cv.predict(Xtrain)\n",
        "print(log_loss(ytrain, pred_proba))"
      ]
    },
    {
      "cell_type": "code",
      "execution_count": 68,
      "id": "A4MAJDg1AR4U",
      "metadata": {
        "id": "A4MAJDg1AR4U",
        "colab": {
          "base_uri": "https://localhost:8080/"
        },
        "outputId": "5cfb8317-72f5-4845-8a48-f7ef2d44e61c"
      },
      "outputs": [
        {
          "output_type": "stream",
          "name": "stdout",
          "text": [
            "0.6810722786954471\n"
          ]
        }
      ],
      "source": [
        "test_preds = random_cv.predict_proba(Xtest)\n",
        "print(log_loss(ytest, test_preds))"
      ]
    },
    {
      "cell_type": "code",
      "execution_count": 69,
      "id": "xoMk8u58pyDB",
      "metadata": {
        "id": "xoMk8u58pyDB"
      },
      "outputs": [],
      "source": [
        "test_pred = random_cv.predict(Xtest)"
      ]
    },
    {
      "cell_type": "code",
      "execution_count": 83,
      "id": "WMtcFv-BqLSz",
      "metadata": {
        "id": "WMtcFv-BqLSz",
        "colab": {
          "base_uri": "https://localhost:8080/",
          "height": 295
        },
        "outputId": "e7737aac-b237-4b42-fefe-f26f134aba16"
      },
      "outputs": [
        {
          "output_type": "display_data",
          "data": {
            "text/plain": [
              "<Figure size 432x288 with 2 Axes>"
            ],
            "image/png": "[encoded data removed]"
          },
          "metadata": {
            "needs_background": "light"
          }
        }
      ],
      "source": [
        "gen_conf(ytest, test_pred)"
      ]
    },
    {
      "cell_type": "markdown",
      "source": [
        "### This model is similar to the Naive Bayes model, which tells us that the probability threshold for classification has to be modified"
      ],
      "metadata": {
        "id": "HMXgWr6bqS9y"
      },
      "id": "HMXgWr6bqS9y"
    },
    {
      "cell_type": "code",
      "execution_count": 71,
      "id": "HryMuEG0pHr5",
      "metadata": {
        "id": "HryMuEG0pHr5"
      },
      "outputs": [],
      "source": [
        "# this function adjusts the probability\n",
        "def change_probas(pred_probas, p):\n",
        "    x = []\n",
        "    for i in pred_probas:\n",
        "        if i[1] > p:\n",
        "            x.append(i[1])\n",
        "        else:\n",
        "            x.append(i[0])\n",
        "    return np.array(x)\n",
        "\n",
        "def return_probas(pred_probas, p):\n",
        "    x = []\n",
        "    for i in pred_probas:\n",
        "        if i[1] > p:\n",
        "            x.append(1.0)\n",
        "        else:\n",
        "            x.append(0.0)\n",
        "    return np.array(x)"
      ]
    },
    {
      "cell_type": "code",
      "execution_count": 84,
      "id": "51PwArJ5pmY7",
      "metadata": {
        "id": "51PwArJ5pmY7",
        "colab": {
          "base_uri": "https://localhost:8080/",
          "height": 295
        },
        "outputId": "b8c3bd81-4c97-4cf9-df3a-c5ed4019c10b"
      },
      "outputs": [
        {
          "output_type": "display_data",
          "data": {
            "text/plain": [
              "<Figure size 432x288 with 2 Axes>"
            ],
            "image/png": "[encoded data removed]"
          },
          "metadata": {
            "needs_background": "light"
          }
        }
      ],
      "source": [
        "gen_conf(ytest, return_probas(test_preds, .424))"
      ]
    },
    {
      "cell_type": "markdown",
      "source": [
        "### After modifying the threshold to be (.424), we can clearly see that the True Positive and True Negative percentages are better. Also the False Positive and Negative percentages are slightly lower and more balanced, indicating a more general model."
      ],
      "metadata": {
        "id": "KfwNXc0Hqjx1"
      },
      "id": "KfwNXc0Hqjx1"
    },
    {
      "cell_type": "markdown",
      "id": "HOCAoWY3wLiy",
      "metadata": {
        "id": "HOCAoWY3wLiy"
      },
      "source": [
        "***"
      ]
    }
  ],
  "metadata": {
    "colab": {
      "provenance": []
    },
    "gpuClass": "standard",
    "kernelspec": {
      "display_name": "Python 3 (ipykernel)",
      "language": "python",
      "name": "python3"
    },
    "language_info": {
      "codemirror_mode": {
        "name": "ipython",
        "version": 3
      },
      "file_extension": ".py",
      "mimetype": "text/x-python",
      "name": "python",
      "nbconvert_exporter": "python",
      "pygments_lexer": "ipython3",
      "version": "3.8.10"
    },
    "accelerator": "GPU"
  },
  "nbformat": 4,
  "nbformat_minor": 5
}